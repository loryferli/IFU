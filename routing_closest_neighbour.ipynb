{
 "cells": [
  {
   "metadata": {},
   "cell_type": "code",
   "outputs": [],
   "execution_count": null,
   "source": [
    "import numpy as np\n",
    "import matplotlib.pyplot as plt\n",
    "import math\n",
    "import pandas as pd"
   ],
   "id": "b2fd9c71c913a8d3"
  },
  {
   "metadata": {},
   "cell_type": "markdown",
   "source": "## Cost matrix",
   "id": "d53dd7ff1d4e51b1"
  },
  {
   "metadata": {},
   "cell_type": "code",
   "outputs": [],
   "execution_count": null,
   "source": "cost_matrix = pd.read_csv('cost_matrix.csv')",
   "id": "c338a78d31dbc2bf"
  },
  {
   "metadata": {},
   "cell_type": "code",
   "outputs": [],
   "execution_count": null,
   "source": [
    "# Number of shops to visit\n",
    "n = cost_matrix.shape[0]\n",
    "\n",
    "# Infinite cost for the path i-> i\n",
    "for i in n:\n",
    "    cost_matrix.loc[i,i] = math.inf"
   ],
   "id": "5c9f90c349a5cf60"
  },
  {
   "metadata": {},
   "cell_type": "markdown",
   "source": "## Shop demands",
   "id": "915e121796a19880"
  },
  {
   "metadata": {},
   "cell_type": "code",
   "outputs": [],
   "execution_count": null,
   "source": "shop_demands = pd.read_csv('shop_demands.csv')",
   "id": "9e4a0b81a978ea11"
  },
  {
   "metadata": {},
   "cell_type": "markdown",
   "source": "## Closest neighbour heuristic",
   "id": "cd75638c2f82dd80"
  },
  {
   "metadata": {},
   "cell_type": "code",
   "outputs": [],
   "execution_count": null,
   "source": [
    "# Start from the storage location, go to the lowest cost shop, then go to the lowest cost shop from there, and so on until all shops are visited\n",
    "\n",
    "# Create a list of visited shops\n",
    "visited = [0] # Start from the storage location\n",
    "\n",
    "# Create a list of unvisited shops\n",
    "unvisited = list(range(1, n))\n",
    "\n",
    "# Calculate the cost of the route\n",
    "cost = 0\n",
    "\n",
    "# Van capacity\n",
    "van_capacity = 300\n",
    "remaining_capacity = van_capacity"
   ],
   "id": "d11759df9ce474ab"
  },
  {
   "metadata": {},
   "cell_type": "code",
   "outputs": [],
   "execution_count": null,
   "source": [
    "# Loop through the unvisited shops\n",
    "while len(unvisited) > 0:\n",
    "    # Get the last visited shop\n",
    "    current = visited[-1]\n",
    "\n",
    "    # Get the costs of the unvisited shops\n",
    "    costs = cost_matrix.loc[current, unvisited]\n",
    "\n",
    "    # Filter out shops that exceed the remaining capacity\n",
    "    feasible_shops = [shop for shop in unvisited if shop_demands[shop] <= remaining_capacity]\n",
    "\n",
    "    if not feasible_shops:\n",
    "        # If no feasible shops, break the loop\n",
    "        break\n",
    "\n",
    "    # Get the costs of the feasible shops\n",
    "    feasible_costs = costs[feasible_shops]\n",
    "\n",
    "    # Get the index of the lowest cost shop\n",
    "    next_shop = feasible_costs.idxmin()\n",
    "\n",
    "    # Add the lowest cost shop to the visited list\n",
    "    visited.append(next_shop)\n",
    "\n",
    "    # Remove the lowest cost shop from the unvisited list\n",
    "    unvisited.remove(next_shop)\n",
    "\n",
    "    # Add the cost of the route\n",
    "    cost += feasible_costs.min()\n",
    "\n",
    "    # Update the remaining capacity\n",
    "    remaining_capacity -= shop_demands[next_shop]"
   ],
   "id": "ea9c0c544bd961f1"
  },
  {
   "metadata": {},
   "cell_type": "markdown",
   "source": "# Cost and route",
   "id": "d124107a81eed9df"
  },
  {
   "metadata": {},
   "cell_type": "code",
   "outputs": [],
   "execution_count": null,
   "source": [
    "# Calculate the cost of the route\n",
    "print('Cost of the route:', cost)\n",
    "print('Route:', visited)"
   ],
   "id": "7980bb4b8a28947d"
  }
 ],
 "metadata": {},
 "nbformat": 5,
 "nbformat_minor": 9
}
