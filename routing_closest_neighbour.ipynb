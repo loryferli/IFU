{
 "cells": [
  {
   "metadata": {
    "ExecuteTime": {
     "end_time": "2025-01-21T10:16:21.959290Z",
     "start_time": "2025-01-21T10:16:21.955352Z"
    }
   },
   "cell_type": "code",
   "source": [
    "import numpy as np\n",
    "import matplotlib.pyplot as plt\n",
    "import math\n",
    "import pandas as pd"
   ],
   "id": "b2fd9c71c913a8d3",
   "outputs": [],
   "execution_count": 259
  },
  {
   "metadata": {},
   "cell_type": "markdown",
   "source": "## Cost matrix",
   "id": "d53dd7ff1d4e51b1"
  },
  {
   "metadata": {
    "ExecuteTime": {
     "end_time": "2025-01-21T10:16:21.985789Z",
     "start_time": "2025-01-21T10:16:21.978774Z"
    }
   },
   "cell_type": "code",
   "source": [
    "cost_matrix = pd.read_csv('cost_matrix.csv')\n",
    "\n",
    "# Convert the entire DataFrame to integers\n",
    "cost_matrix = cost_matrix.astype(int)\n",
    "\n",
    "# If the index of the DataFrame needs to be integers (e.g., if the index is non-numeric):\n",
    "cost_matrix.index = cost_matrix.index.astype(int)\n",
    "\n",
    "# If the column names need to be integers (if they are non-numeric or string-based):\n",
    "cost_matrix.columns = cost_matrix.columns.astype(int)"
   ],
   "id": "c338a78d31dbc2bf",
   "outputs": [],
   "execution_count": 260
  },
  {
   "metadata": {
    "ExecuteTime": {
     "end_time": "2025-01-21T10:16:22.010428Z",
     "start_time": "2025-01-21T10:16:22.000961Z"
    }
   },
   "cell_type": "code",
   "source": "cost_matrix",
   "id": "d7a0109b41f170d9",
   "outputs": [
    {
     "data": {
      "text/plain": [
       "   0  1  2  3  4\n",
       "0  0  1  3  2  2\n",
       "1  1  0  2  4  1\n",
       "2  3  2  0  1  4\n",
       "3  2  4  1  0  3\n",
       "4  2  1  4  3  0"
      ],
      "text/html": [
       "<div>\n",
       "<style scoped>\n",
       "    .dataframe tbody tr th:only-of-type {\n",
       "        vertical-align: middle;\n",
       "    }\n",
       "\n",
       "    .dataframe tbody tr th {\n",
       "        vertical-align: top;\n",
       "    }\n",
       "\n",
       "    .dataframe thead th {\n",
       "        text-align: right;\n",
       "    }\n",
       "</style>\n",
       "<table border=\"1\" class=\"dataframe\">\n",
       "  <thead>\n",
       "    <tr style=\"text-align: right;\">\n",
       "      <th></th>\n",
       "      <th>0</th>\n",
       "      <th>1</th>\n",
       "      <th>2</th>\n",
       "      <th>3</th>\n",
       "      <th>4</th>\n",
       "    </tr>\n",
       "  </thead>\n",
       "  <tbody>\n",
       "    <tr>\n",
       "      <th>0</th>\n",
       "      <td>0</td>\n",
       "      <td>1</td>\n",
       "      <td>3</td>\n",
       "      <td>2</td>\n",
       "      <td>2</td>\n",
       "    </tr>\n",
       "    <tr>\n",
       "      <th>1</th>\n",
       "      <td>1</td>\n",
       "      <td>0</td>\n",
       "      <td>2</td>\n",
       "      <td>4</td>\n",
       "      <td>1</td>\n",
       "    </tr>\n",
       "    <tr>\n",
       "      <th>2</th>\n",
       "      <td>3</td>\n",
       "      <td>2</td>\n",
       "      <td>0</td>\n",
       "      <td>1</td>\n",
       "      <td>4</td>\n",
       "    </tr>\n",
       "    <tr>\n",
       "      <th>3</th>\n",
       "      <td>2</td>\n",
       "      <td>4</td>\n",
       "      <td>1</td>\n",
       "      <td>0</td>\n",
       "      <td>3</td>\n",
       "    </tr>\n",
       "    <tr>\n",
       "      <th>4</th>\n",
       "      <td>2</td>\n",
       "      <td>1</td>\n",
       "      <td>4</td>\n",
       "      <td>3</td>\n",
       "      <td>0</td>\n",
       "    </tr>\n",
       "  </tbody>\n",
       "</table>\n",
       "</div>"
      ]
     },
     "execution_count": 261,
     "metadata": {},
     "output_type": "execute_result"
    }
   ],
   "execution_count": 261
  },
  {
   "metadata": {
    "ExecuteTime": {
     "end_time": "2025-01-21T10:16:22.061055Z",
     "start_time": "2025-01-21T10:16:22.056004Z"
    }
   },
   "cell_type": "code",
   "source": [
    "# Number of shops to visit\n",
    "n = cost_matrix.shape[0]\n",
    "\n",
    "# Calculate M\n",
    "M = 0\n",
    "for i in range(n):\n",
    "    for j in range(n):\n",
    "        M += cost_matrix.iloc[i,j]\n",
    "\n",
    "# M cost for the path i->i\n",
    "for i in range(n):\n",
    "    cost_matrix.iloc[i,i] = M + 1"
   ],
   "id": "5c9f90c349a5cf60",
   "outputs": [],
   "execution_count": 262
  },
  {
   "metadata": {
    "ExecuteTime": {
     "end_time": "2025-01-21T10:16:22.144043Z",
     "start_time": "2025-01-21T10:16:22.136649Z"
    }
   },
   "cell_type": "code",
   "source": "cost_matrix",
   "id": "eb89fb7fd7a9c2e1",
   "outputs": [
    {
     "data": {
      "text/plain": [
       "    0   1   2   3   4\n",
       "0  47   1   3   2   2\n",
       "1   1  47   2   4   1\n",
       "2   3   2  47   1   4\n",
       "3   2   4   1  47   3\n",
       "4   2   1   4   3  47"
      ],
      "text/html": [
       "<div>\n",
       "<style scoped>\n",
       "    .dataframe tbody tr th:only-of-type {\n",
       "        vertical-align: middle;\n",
       "    }\n",
       "\n",
       "    .dataframe tbody tr th {\n",
       "        vertical-align: top;\n",
       "    }\n",
       "\n",
       "    .dataframe thead th {\n",
       "        text-align: right;\n",
       "    }\n",
       "</style>\n",
       "<table border=\"1\" class=\"dataframe\">\n",
       "  <thead>\n",
       "    <tr style=\"text-align: right;\">\n",
       "      <th></th>\n",
       "      <th>0</th>\n",
       "      <th>1</th>\n",
       "      <th>2</th>\n",
       "      <th>3</th>\n",
       "      <th>4</th>\n",
       "    </tr>\n",
       "  </thead>\n",
       "  <tbody>\n",
       "    <tr>\n",
       "      <th>0</th>\n",
       "      <td>47</td>\n",
       "      <td>1</td>\n",
       "      <td>3</td>\n",
       "      <td>2</td>\n",
       "      <td>2</td>\n",
       "    </tr>\n",
       "    <tr>\n",
       "      <th>1</th>\n",
       "      <td>1</td>\n",
       "      <td>47</td>\n",
       "      <td>2</td>\n",
       "      <td>4</td>\n",
       "      <td>1</td>\n",
       "    </tr>\n",
       "    <tr>\n",
       "      <th>2</th>\n",
       "      <td>3</td>\n",
       "      <td>2</td>\n",
       "      <td>47</td>\n",
       "      <td>1</td>\n",
       "      <td>4</td>\n",
       "    </tr>\n",
       "    <tr>\n",
       "      <th>3</th>\n",
       "      <td>2</td>\n",
       "      <td>4</td>\n",
       "      <td>1</td>\n",
       "      <td>47</td>\n",
       "      <td>3</td>\n",
       "    </tr>\n",
       "    <tr>\n",
       "      <th>4</th>\n",
       "      <td>2</td>\n",
       "      <td>1</td>\n",
       "      <td>4</td>\n",
       "      <td>3</td>\n",
       "      <td>47</td>\n",
       "    </tr>\n",
       "  </tbody>\n",
       "</table>\n",
       "</div>"
      ]
     },
     "execution_count": 263,
     "metadata": {},
     "output_type": "execute_result"
    }
   ],
   "execution_count": 263
  },
  {
   "metadata": {},
   "cell_type": "markdown",
   "source": "## Shop demands",
   "id": "915e121796a19880"
  },
  {
   "metadata": {
    "ExecuteTime": {
     "end_time": "2025-01-21T10:16:22.220340Z",
     "start_time": "2025-01-21T10:16:22.215690Z"
    }
   },
   "cell_type": "code",
   "source": "shop_demands = pd.read_csv('shop_demands.csv').to_numpy(dtype=int)",
   "id": "9e4a0b81a978ea11",
   "outputs": [],
   "execution_count": 264
  },
  {
   "metadata": {},
   "cell_type": "markdown",
   "source": "## Closest neighbour heuristic",
   "id": "cd75638c2f82dd80"
  },
  {
   "metadata": {
    "ExecuteTime": {
     "end_time": "2025-01-21T10:16:22.305069Z",
     "start_time": "2025-01-21T10:16:22.299434Z"
    }
   },
   "cell_type": "code",
   "source": [
    "# Start from the storage location, go to the lowest cost shop, then go to the lowest cost shop from there, and so on until all shops are visited\n",
    "\n",
    "# Create a list of visited shops\n",
    "visited = [0] # Start from the storage location\n",
    "\n",
    "# Create a list of unvisited shops\n",
    "unvisited = list(range(1, n))\n",
    "\n",
    "# Calculate the cost of the route\n",
    "cost = 0\n",
    "\n",
    "# Van capacity\n",
    "van_capacity = 300\n",
    "remaining_capacity = van_capacity"
   ],
   "id": "d11759df9ce474ab",
   "outputs": [],
   "execution_count": 265
  },
  {
   "metadata": {
    "ExecuteTime": {
     "end_time": "2025-01-21T10:16:22.390464Z",
     "start_time": "2025-01-21T10:16:22.380687Z"
    }
   },
   "cell_type": "code",
   "source": [
    "active_arcs = []  # List to store paths for all trucks\n",
    "current_arcs = []  # Current path for the active truck\n",
    "\n",
    "while len(unvisited) > 0:\n",
    "    current = 0\n",
    "    while len(unvisited) >= 0:\n",
    "\n",
    "        # Get the costs of the unvisited shops\n",
    "        costs = cost_matrix.iloc[current, unvisited]\n",
    "\n",
    "        # Filter out shops that exceed the remaining capacity\n",
    "        feasible_shops = [shop for shop in unvisited if shop_demands[shop] <= remaining_capacity]\n",
    "\n",
    "        if not feasible_shops:\n",
    "            # If no feasible shops, end the current truck's route and reset\n",
    "            next_shop = 0  # Go back to the storage location\n",
    "            current_arcs.append((current, next_shop))\n",
    "            active_arcs.append(current_arcs)\n",
    "            current_arcs = []  # Reset the path for the next truck\n",
    "            remaining_capacity = van_capacity  # Reset the capacity for the new truck\n",
    "            break  # Exit the loop to start with a new truck\n",
    "\n",
    "        # Get the costs of the feasible shops\n",
    "        feasible_costs = costs[costs.index.astype(int).isin(feasible_shops)]\n",
    "\n",
    "        # Get the index of the lowest cost shop\n",
    "        next_shop = int(feasible_costs.idxmin())\n",
    "\n",
    "        # Store the arc between current and next_shop\n",
    "        current_arcs.append((current, next_shop))\n",
    "\n",
    "        # Add the lowest cost shop to the visited list\n",
    "        visited.append(next_shop)\n",
    "\n",
    "        # Remove the lowest cost shop from the unvisited list\n",
    "        unvisited.remove(next_shop)\n",
    "\n",
    "        # Add the cost of the route\n",
    "        cost += feasible_costs.min()\n",
    "\n",
    "        # Update the remaining capacity\n",
    "        remaining_capacity -= shop_demands[next_shop]\n",
    "\n",
    "        # Move to the next shop\n",
    "        current = next_shop\n"
   ],
   "id": "ea9c0c544bd961f1",
   "outputs": [],
   "execution_count": 266
  },
  {
   "metadata": {},
   "cell_type": "markdown",
   "source": "# Cost and route",
   "id": "d124107a81eed9df"
  },
  {
   "metadata": {
    "ExecuteTime": {
     "end_time": "2025-01-21T10:16:22.476069Z",
     "start_time": "2025-01-21T10:16:22.470909Z"
    }
   },
   "cell_type": "code",
   "source": [
    "# Calculate the cost of the route\n",
    "print('Cost of the route:', cost)\n",
    "print('Route:', active_arcs)"
   ],
   "id": "7980bb4b8a28947d",
   "outputs": [
    {
     "name": "stdout",
     "output_type": "stream",
     "text": [
      "Cost of the route: 8\n",
      "Route: [[(0, 1), (1, 4), (4, 2), (2, 0)], [(0, 3), (3, 0)]]\n"
     ]
    }
   ],
   "execution_count": 267
  }
 ],
 "metadata": {
  "kernelspec": {
   "name": "python3",
   "language": "python",
   "display_name": "Python 3 (ipykernel)"
  }
 },
 "nbformat": 5,
 "nbformat_minor": 9
}
