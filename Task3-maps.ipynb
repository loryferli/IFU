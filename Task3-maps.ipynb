{
 "cells": [
  {
   "cell_type": "code",
   "execution_count": 35,
   "id": "initial_id",
   "metadata": {
    "ExecuteTime": {
     "end_time": "2025-01-14T07:39:09.546454Z",
     "start_time": "2025-01-14T07:39:09.542106Z"
    },
    "collapsed": true
   },
   "outputs": [],
   "source": [
    "import pandas as pd\n",
    "import geopandas as gpd\n",
    "import plotly.express as px\n",
    "import plotly.graph_objects as go\n",
    "from shapely.geometry import LineString"
   ]
  },
  {
   "cell_type": "code",
   "execution_count": null,
   "id": "55a8f977",
   "metadata": {},
   "outputs": [],
   "source": [
    "depot_long = -73.941868\n",
    "depot_lat = 40.725516\n",
    "df_depot = pd.DataFrame({'id':'Depot', 'lat': [depot_lat], 'long': [depot_long]})\n",
    "df_depot"
   ]
  },
  {
   "cell_type": "code",
   "execution_count": null,
   "id": "6acbc5b2",
   "metadata": {},
   "outputs": [],
   "source": [
    "shops_2015 = pd.read_csv('2015_shop_locations.csv')\n",
    "shops_2015 = pd.concat([df_depot, shops_2015], ignore_index=True)\n",
    "shops_2015"
   ]
  },
  {
   "cell_type": "code",
   "execution_count": null,
   "id": "16bb2a16",
   "metadata": {},
   "outputs": [],
   "source": [
    "shops_2020 = pd.read_csv('2020_shop_locations.csv')\n",
    "shops_2020 = pd.concat([df_depot, shops_2020], ignore_index=True)\n",
    "shops_2020.head()"
   ]
  },
  {
   "cell_type": "markdown",
   "id": "cbc05ec8",
   "metadata": {},
   "source": [
    "## Function for creating a dataframe for both source and destination points in the results (from or to)"
   ]
  },
  {
   "cell_type": "code",
   "execution_count": 104,
   "id": "f0ea7628",
   "metadata": {},
   "outputs": [],
   "source": [
    "def resultsCleaning(maindf, shopsdf):    \n",
    "    maindf['f-lat'] = maindf['From'].iloc[:].apply(lambda x: shopsdf[shopsdf['id'] == x]['lat'].values[0])\n",
    "    maindf['f-long'] = maindf['From'].iloc[:].apply(lambda x: shopsdf[shopsdf['id'] == x]['long'].values[0])\n",
    "\n",
    "    maindf['t-lat'] = maindf['To'].iloc[:].apply(lambda x: shopsdf[shopsdf['id'] == x]['lat'].values[0])\n",
    "    maindf['t-long'] = maindf['To'].iloc[:].apply(lambda x: shopsdf[shopsdf['id'] == x]['long'].values[0])\n",
    "\n",
    "    maindf = maindf[['From', 'f-lat', 'f-long', 'To', 't-lat', 't-long']]\n",
    "\n",
    "    df1 = maindf[['From', 'f-lat', 'f-long']]\n",
    "    df2 = maindf[['To', 't-lat', 't-long']]\n",
    "    \n",
    "    return df1, df2"
   ]
  },
  {
   "cell_type": "markdown",
   "id": "aee82e82",
   "metadata": {},
   "source": [
    "## Function for creating and plotting the map"
   ]
  },
  {
   "cell_type": "code",
   "execution_count": 105,
   "id": "ffe443c3",
   "metadata": {},
   "outputs": [],
   "source": [
    "def routemap(maindf, shopsdf, dfFrom, dfTo):\n",
    "    from_gdf = gpd.GeoDataFrame(dfFrom, geometry=gpd.points_from_xy(dfFrom['f-long'], dfFrom['f-lat']))\n",
    "    to_gdf = gpd.GeoDataFrame(dfTo, geometry=gpd.points_from_xy(dfTo['t-long'], dfTo['t-lat']))\n",
    "\n",
    "    from_gdf['Legend'] = dfFrom['From'].apply(lambda x: 'Depot' if x == 'Depot' else '')\n",
    "\n",
    "    # We remove Depot from the second gdf so that it doesn't appear twice on the map\n",
    "    to_gdf = to_gdf[to_gdf['To'] != 'Depot']\n",
    "    to_gdf['Legend'] = dfTo['To'].apply(lambda x: 'Depot' if x == '' else 'Shop')\n",
    "\n",
    "    # We need to rename the From and To columns to the same name so that we can concatenate the two dataframes and plot the hover names using just this column\n",
    "    from_gdf = from_gdf.rename(columns={'From': 'id'})\n",
    "    to_gdf = to_gdf.rename(columns={'To': 'id'})\n",
    "\n",
    "    combined_gdf = pd.concat([from_gdf, to_gdf])\n",
    "\n",
    "    # Size of the points\n",
    "    combined_gdf['size'] = 1\n",
    "\n",
    "    # Create the route connections between all of the depots\n",
    "    lines = []\n",
    "    for i, row in maindf.iterrows():\n",
    "        from_id = row['From']\n",
    "        to_id = row['To']\n",
    "\n",
    "        from_coords = (shopsdf[shopsdf['id'] == from_id]['lat'].values, shopsdf[shopsdf['id'] == from_id]['long'].values)\n",
    "        to_coords = (shopsdf[shopsdf['id'] == to_id]['lat'].values, shopsdf[shopsdf['id'] == to_id]['long'].values)\n",
    "\n",
    "        line = LineString([from_coords, to_coords])\n",
    "        lines.append(line)\n",
    "\n",
    "    lines_gdf = gpd.GeoDataFrame(geometry=lines)\n",
    "\n",
    "    # Plot the map itself\n",
    "    fig = px.scatter_mapbox(\n",
    "        combined_gdf,\n",
    "        lat=combined_gdf.geometry.y,\n",
    "        lon=combined_gdf.geometry.x,\n",
    "        color='Legend',\n",
    "        hover_name='id',\n",
    "        size='size',\n",
    "        size_max=10,\n",
    "        zoom=10.5,\n",
    "        mapbox_style=\"carto-positron\",\n",
    "        color_discrete_map={'Depot': 'red', 'Shop': 'green'}\n",
    "    )\n",
    "\n",
    "    # Add the lines (LineStrings) to the map\n",
    "    for line in lines_gdf.geometry:\n",
    "        # Convert each LineString into a list of lat-lon coordinates\n",
    "        line_coords = [(point[1], point[0]) for point in line.coords]\n",
    "        \n",
    "        # Add the line trace to the map\n",
    "        fig.add_trace(\n",
    "            go.Scattermapbox(\n",
    "                mode='lines',\n",
    "                lon=[coord[0] for coord in line_coords],\n",
    "                lat=[coord[1] for coord in line_coords],\n",
    "                line={'width': 2, 'color': 'green'},\n",
    "            )\n",
    "        )\n",
    "\n",
    "    # Modify the layout margins and the map height\n",
    "    fig.update_layout(\n",
    "        margin={\"r\":0,\"t\":0,\"l\":0,\"b\":0},\n",
    "        height=800,  # Height of the map (in pixels)\n",
    "    )\n",
    "\n",
    "    fig.show()"
   ]
  },
  {
   "cell_type": "markdown",
   "id": "ed5f08ae",
   "metadata": {},
   "source": [
    "# Application on 2015 data"
   ]
  },
  {
   "cell_type": "markdown",
   "id": "ba6f33b2",
   "metadata": {},
   "source": [
    "## Stage 1"
   ]
  },
  {
   "cell_type": "code",
   "execution_count": null,
   "id": "2d912a47",
   "metadata": {},
   "outputs": [],
   "source": [
    "df_trips = pd.read_csv('routings/routing_optimal_2015_stage_1_Distance.csv')\n",
    "df_trips.head()"
   ]
  },
  {
   "cell_type": "code",
   "execution_count": null,
   "id": "0fead62d",
   "metadata": {},
   "outputs": [],
   "source": [
    "# Adding latitude and longitude from the shops dataframe\n",
    "df_trips_from, df_trips_to = resultsCleaning(df_trips, shops_2015)\n",
    "\n",
    "# Creating and plotting the map\n",
    "routemap(df_trips, shops_2015, df_trips_from, df_trips_to)"
   ]
  },
  {
   "cell_type": "markdown",
   "id": "75238214",
   "metadata": {},
   "source": [
    "## Stage 2"
   ]
  },
  {
   "cell_type": "code",
   "execution_count": null,
   "id": "525a309b",
   "metadata": {},
   "outputs": [],
   "source": [
    "df_trips = pd.read_csv('routings/routing_optimal_2015_stage_2_Distance.csv')\n",
    "df_trips.head()"
   ]
  },
  {
   "cell_type": "code",
   "execution_count": null,
   "id": "35a794f3",
   "metadata": {},
   "outputs": [],
   "source": [
    "# Adding latitude and longitude from the shops dataframe\n",
    "df_trips_from, df_trips_to = resultsCleaning(df_trips, shops_2015)\n",
    "\n",
    "# Creating and plotting the map\n",
    "routemap(df_trips, shops_2015, df_trips_from, df_trips_to)"
   ]
  },
  {
   "cell_type": "markdown",
   "id": "5faa60a9",
   "metadata": {},
   "source": [
    "## Stage 3"
   ]
  },
  {
   "cell_type": "code",
   "execution_count": null,
   "id": "e6dc3d38",
   "metadata": {},
   "outputs": [],
   "source": [
    "df_trips = pd.read_csv('routings/routing_optimal_2015_stage_3_Distance.csv')\n",
    "df_trips.head()"
   ]
  },
  {
   "cell_type": "code",
   "execution_count": null,
   "id": "0d4da670",
   "metadata": {},
   "outputs": [],
   "source": [
    "# Adding latitude and longitude from the shops dataframe\n",
    "df_trips_from, df_trips_to = resultsCleaning(df_trips, shops_2015)\n",
    "\n",
    "# Creating and plotting the map\n",
    "routemap(df_trips, shops_2015, df_trips_from, df_trips_to)"
   ]
  },
  {
   "cell_type": "markdown",
   "id": "0f945c73",
   "metadata": {},
   "source": [
    "## Stage 4"
   ]
  },
  {
   "cell_type": "code",
   "execution_count": null,
   "id": "3172dd5a",
   "metadata": {},
   "outputs": [],
   "source": [
    "df_trips = pd.read_csv('routings/routing_optimal_2015_stage_4_Distance.csv')\n",
    "df_trips.head()"
   ]
  },
  {
   "cell_type": "code",
   "execution_count": null,
   "id": "400d055f",
   "metadata": {},
   "outputs": [],
   "source": [
    "# Adding latitude and longitude from the shops dataframe\n",
    "df_trips_from, df_trips_to = resultsCleaning(df_trips, shops_2015)\n",
    "\n",
    "# Creating and plotting the map\n",
    "routemap(df_trips, shops_2015, df_trips_from, df_trips_to)"
   ]
  },
  {
   "cell_type": "markdown",
   "id": "e4df4686",
   "metadata": {},
   "source": [
    "# Application on 2020 data"
   ]
  },
  {
   "cell_type": "markdown",
   "metadata": {},
   "source": [
    "## Stage 1"
   ]
  },
  {
   "cell_type": "code",
   "execution_count": null,
   "metadata": {},
   "outputs": [],
   "source": [
    "df_trips = pd.read_csv('routings/routing_optimal_2020_stage_1_Distance.csv')\n",
    "df_trips.head()"
   ]
  },
  {
   "cell_type": "code",
   "execution_count": null,
   "metadata": {},
   "outputs": [],
   "source": [
    "# Adding latitude and longitude from the shops dataframe\n",
    "df_trips_from, df_trips_to = resultsCleaning(df_trips, shops_2015)\n",
    "\n",
    "# Creating and plotting the map\n",
    "routemap(df_trips, shops_2015, df_trips_from, df_trips_to)"
   ]
  },
  {
   "cell_type": "markdown",
   "id": "9ad0a34a",
   "metadata": {},
   "source": [
    "## Stage 2"
   ]
  },
  {
   "cell_type": "code",
   "execution_count": null,
   "id": "ce7d2d6b",
   "metadata": {},
   "outputs": [],
   "source": [
    "df_trips = pd.read_csv('routings/routing_optimal_2020_stage_2_Distance.csv')\n",
    "df_trips.head()"
   ]
  },
  {
   "cell_type": "code",
   "execution_count": null,
   "id": "ebe7779d",
   "metadata": {},
   "outputs": [],
   "source": [
    "# Adding latitude and longitude from the shops dataframe\n",
    "df_trips_from, df_trips_to = resultsCleaning(df_trips, shops_2015)\n",
    "\n",
    "# Creating and plotting the map\n",
    "routemap(df_trips, shops_2015, df_trips_from, df_trips_to)"
   ]
  },
  {
   "cell_type": "markdown",
   "id": "0fb3189d",
   "metadata": {},
   "source": [
    "## Stage 3"
   ]
  },
  {
   "cell_type": "code",
   "execution_count": null,
   "id": "d0ba118f",
   "metadata": {},
   "outputs": [],
   "source": [
    "df_trips = pd.read_csv('routings/routing_optimal_2020_stage_3_Distance.csv')\n",
    "df_trips.head()"
   ]
  },
  {
   "cell_type": "code",
   "execution_count": null,
   "id": "89117872",
   "metadata": {},
   "outputs": [],
   "source": [
    "# Adding latitude and longitude from the shops dataframe\n",
    "df_trips_from, df_trips_to = resultsCleaning(df_trips, shops_2015)\n",
    "\n",
    "# Creating and plotting the map\n",
    "routemap(df_trips, shops_2015, df_trips_from, df_trips_to)"
   ]
  },
  {
   "cell_type": "markdown",
   "id": "8e101700",
   "metadata": {},
   "source": [
    "## Stage 4"
   ]
  },
  {
   "cell_type": "code",
   "execution_count": null,
   "id": "76284712",
   "metadata": {},
   "outputs": [],
   "source": [
    "df_trips = pd.read_csv('routings/routing_optimal_2020_stage_4_Distance.csv')\n",
    "df_trips.head()"
   ]
  },
  {
   "cell_type": "code",
   "execution_count": null,
   "id": "617e3a2b",
   "metadata": {},
   "outputs": [],
   "source": [
    "# Adding latitude and longitude from the shops dataframe\n",
    "df_trips_from, df_trips_to = resultsCleaning(df_trips, shops_2015)\n",
    "\n",
    "# Creating and plotting the map\n",
    "routemap(df_trips, shops_2015, df_trips_from, df_trips_to)"
   ]
  }
 ],
 "metadata": {
  "kernelspec": {
   "display_name": "Python 3",
   "language": "python",
   "name": "python3"
  },
  "language_info": {
   "codemirror_mode": {
    "name": "ipython",
    "version": 3
   },
   "file_extension": ".py",
   "mimetype": "text/x-python",
   "name": "python",
   "nbconvert_exporter": "python",
   "pygments_lexer": "ipython3",
   "version": "3.11.5"
  }
 },
 "nbformat": 4,
 "nbformat_minor": 5
}
