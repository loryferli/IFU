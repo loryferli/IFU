{
 "cells": [
  {
   "cell_type": "code",
   "id": "initial_id",
   "metadata": {
    "collapsed": true
   },
   "source": [
    "import matplotlib.pyplot as plt\n",
    "import pandas as pd"
   ],
   "outputs": [],
   "execution_count": null
  },
  {
   "metadata": {},
   "cell_type": "code",
   "source": [
    "# n = 20\n",
    "n20 = pd.DataFrame([{\"solver_lower_bound_10m\": 73.66304926808475, \"solver_upper_bound_10m\": 73.66304926808475, \"solver_lower_bound_2h\": 73.66304926808475, \"solver_upper_bound_2h\": 73.66304926808475, \"closest neighbor\": 96.83125474666801, \"savings\": 98.16547510477918}], index=[20])\n",
    "\n",
    "# n = 50\n",
    "n50 = pd.DataFrame([{\"solver_lower_bound_10m\": 114.0050331335901, \"solver_upper_bound_10m\": 153.14526228382005, \"solver_lower_bound_2h\": 115.78026549401105, \"solver_upper_bound_2h\": 153.14526228382005, \"closest neighbor\": 219.61560797956287, \"savings\": 228.62724197569557}], index=[50])\n",
    "\n",
    "# n = 100\n",
    "n100 = pd.DataFrame([{\"solver_lower_bound_10m\": 0, \"solver_upper_bound_10m\": 0,\"solver_lower_bound_2h\": 0, \"solver_upper_bound_2h\": 0, \"closest neighbor\": 347.86444342124145, \"savings\": 369.15678518369026}], index=[100])\n",
    "\n",
    "# n = 200\n",
    "n200 = pd.DataFrame([{\"solver_lower_bound_10m\": 0, \"solver_upper_bound_10m\": 0, \"solver_lower_bound_2h\": 0, \"solver_upper_bound_2h\": 0, \"closest neighbor\": 721.1355447191478, \"savings\": 724.2867070699568}], index=[200])\n",
    "\n",
    "df = pd.concat([n20, n50, n100, n200], ignore_index=False)\n",
    "\n",
    "# Display the DataFrame\n",
    "print(df)"
   ],
   "id": "f5a74c18d918ab92",
   "outputs": [],
   "execution_count": null
  },
  {
   "metadata": {},
   "cell_type": "code",
   "source": [
    "# Plot the results\n",
    "df.plot(kind='bar', figsize=(10, 6))\n",
    "plt.ylabel('Total distance')\n",
    "plt.xlabel('Number of shops')\n",
    "plt.title('Total distance travelled by the van for different number of shops, 2015')\n",
    "plt.show()"
   ],
   "id": "cc1fa8cbd4d037e1",
   "outputs": [],
   "execution_count": null
  }
 ],
 "metadata": {
  "kernelspec": {
   "display_name": "Python 3",
   "language": "python",
   "name": "python3"
  },
  "language_info": {
   "codemirror_mode": {
    "name": "ipython",
    "version": 2
   },
   "file_extension": ".py",
   "mimetype": "text/x-python",
   "name": "python",
   "nbconvert_exporter": "python",
   "pygments_lexer": "ipython2",
   "version": "2.7.6"
  }
 },
 "nbformat": 4,
 "nbformat_minor": 5
}
