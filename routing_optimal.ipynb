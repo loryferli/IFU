{
 "cells": [
  {
   "metadata": {
    "ExecuteTime": {
     "end_time": "2025-01-21T10:16:19.006896Z",
     "start_time": "2025-01-21T10:16:19.001601Z"
    }
   },
   "cell_type": "code",
   "source": [
    "import numpy as np\n",
    "import matplotlib.pyplot as plt\n",
    "import pandas as pd\n",
    "from pandas.core.internals.construction import to_arrays\n",
    "from prompt_toolkit.utils import to_int\n",
    "from pulp import *"
   ],
   "id": "72e5dd11c08c071d",
   "outputs": [],
   "execution_count": 243
  },
  {
   "metadata": {
    "ExecuteTime": {
     "end_time": "2025-01-21T10:16:19.020110Z",
     "start_time": "2025-01-21T10:16:19.012907Z"
    }
   },
   "cell_type": "code",
   "source": [
    "def find_loops(edges):\n",
    "    \"\"\"\n",
    "    Find all closed loops starting and ending at node 0 in a directed graph.\n",
    "\n",
    "    Args:\n",
    "        edges: List of tuples representing directed edges (from_node, to_node)\n",
    "\n",
    "    Returns:\n",
    "        List of lists, where each sublist contains tuples forming a closed loop from 0 to 0\n",
    "    \"\"\"\n",
    "    # Create adjacency list for faster lookup\n",
    "    adj = {}\n",
    "    for start, end in edges:\n",
    "        if start not in adj:\n",
    "            adj[start] = []\n",
    "        adj[start].append(end)\n",
    "\n",
    "    def find_paths(current, path, visited):\n",
    "        \"\"\"\n",
    "        Recursive helper function to find all paths from current node back to 0.\n",
    "        \"\"\"\n",
    "        if current == 0 and len(path) > 0:  # Found a loop back to 0\n",
    "            return [path[:]]\n",
    "\n",
    "        if current not in adj:  # Dead end\n",
    "            return []\n",
    "\n",
    "        paths = []\n",
    "        for next_node in adj[current]:\n",
    "            if (current, next_node) not in visited:  # Avoid using same edge twice\n",
    "                path.append((current, next_node))\n",
    "                visited.add((current, next_node))\n",
    "                paths.extend(find_paths(next_node, path, visited))\n",
    "                path.pop()\n",
    "                visited.remove((current, next_node))\n",
    "        return paths\n",
    "\n",
    "    # Start DFS from node 0\n",
    "    all_loops = find_paths(0, [], set())\n",
    "\n",
    "    # Filter out non-minimal loops (loops that contain other loops)\n",
    "    minimal_loops = []\n",
    "    for loop in all_loops:\n",
    "        # Check if this loop contains any other loop\n",
    "        is_minimal = True\n",
    "        visited_nodes = {node for edge in loop for node in edge}\n",
    "        for other_loop in all_loops:\n",
    "            if loop != other_loop:\n",
    "                other_nodes = {node for edge in other_loop for node in edge}\n",
    "                if other_nodes.issubset(visited_nodes) and len(other_loop) < len(loop):\n",
    "                    is_minimal = False\n",
    "                    break\n",
    "        if is_minimal:\n",
    "            minimal_loops.append(loop)\n",
    "\n",
    "    return minimal_loops"
   ],
   "id": "e2570066422416ab",
   "outputs": [],
   "execution_count": 244
  },
  {
   "metadata": {},
   "cell_type": "markdown",
   "source": "## Cost matrix",
   "id": "284dc1862f7655f4"
  },
  {
   "metadata": {
    "ExecuteTime": {
     "end_time": "2025-01-21T10:16:19.043183Z",
     "start_time": "2025-01-21T10:16:19.036239Z"
    }
   },
   "cell_type": "code",
   "source": [
    "cost_matrix = pd.read_csv('cost_matrix.csv')\n",
    "\n",
    "# Convert the entire DataFrame to integers\n",
    "cost_matrix = cost_matrix.astype(int)\n",
    "\n",
    "# If the index of the DataFrame needs to be integers (e.g., if the index is non-numeric):\n",
    "cost_matrix.index = cost_matrix.index.astype(int)\n",
    "\n",
    "# If the column names need to be integers (if they are non-numeric or string-based):\n",
    "cost_matrix.columns = cost_matrix.columns.astype(int)"
   ],
   "id": "4305b3f1c116b814",
   "outputs": [],
   "execution_count": 245
  },
  {
   "metadata": {},
   "cell_type": "markdown",
   "source": "## Shop demands",
   "id": "49ddbbba79817b77"
  },
  {
   "metadata": {
    "ExecuteTime": {
     "end_time": "2025-01-21T10:16:19.061265Z",
     "start_time": "2025-01-21T10:16:19.056255Z"
    }
   },
   "cell_type": "code",
   "source": "shop_demands = pd.read_csv('shop_demands.csv').to_numpy(dtype=int)",
   "id": "c4d90f542d26ad77",
   "outputs": [],
   "execution_count": 246
  },
  {
   "metadata": {},
   "cell_type": "markdown",
   "source": "## Vehicle routing problem",
   "id": "a47378ffa51ea768"
  },
  {
   "metadata": {
    "ExecuteTime": {
     "end_time": "2025-01-21T10:16:19.084321Z",
     "start_time": "2025-01-21T10:16:19.077806Z"
    }
   },
   "cell_type": "code",
   "source": [
    "# Vehicle capacity\n",
    "van_capacity = 300\n",
    "\n",
    "#Number of shops\n",
    "n = cost_matrix.shape[0]\n",
    "\n",
    "#Set N of shops\n",
    "N = [i for i in range(1,n)]\n",
    "\n",
    "#Set of shops and storage\n",
    "V = [0] + N"
   ],
   "id": "ecc1729b084daedb",
   "outputs": [],
   "execution_count": 247
  },
  {
   "metadata": {
    "ExecuteTime": {
     "end_time": "2025-01-21T10:16:19.103208Z",
     "start_time": "2025-01-21T10:16:19.099624Z"
    }
   },
   "cell_type": "code",
   "source": [
    "# Creates a list of tuples containing all the possible routes for transport\n",
    "A=[(i,j) for i in V for j in V if i!=j]"
   ],
   "id": "513402ef55feb2c1",
   "outputs": [],
   "execution_count": 248
  },
  {
   "metadata": {
    "ExecuteTime": {
     "end_time": "2025-01-21T10:16:19.122830Z",
     "start_time": "2025-01-21T10:16:19.118254Z"
    }
   },
   "cell_type": "code",
   "source": [
    "# A set of variables x is created to contain the vehicle routes variables (binary var)\n",
    "x = {}\n",
    "for a in A:\n",
    "    x[a] = LpVariable(\"x(%s,%s)\" %a, cat=LpBinary)\n",
    "\n",
    "# A set of variables u is created to contain the continuous delivered quantity\n",
    "u = {}\n",
    "for i in N:\n",
    "    u[i] = LpVariable(\"u(%s)\" %i, shop_demands[i], van_capacity)"
   ],
   "id": "a9554e74ffbf8625",
   "outputs": [],
   "execution_count": 249
  },
  {
   "metadata": {
    "ExecuteTime": {
     "end_time": "2025-01-21T10:16:19.153792Z",
     "start_time": "2025-01-21T10:16:19.149433Z"
    }
   },
   "cell_type": "code",
   "source": [
    "# Creates the 'prob' variable to contain the problem data\n",
    "prob = LpProblem(\"CVRP_Problem\",LpMinimize)"
   ],
   "id": "fe989dacbe81eeda",
   "outputs": [],
   "execution_count": 250
  },
  {
   "metadata": {
    "ExecuteTime": {
     "end_time": "2025-01-21T10:16:19.167810Z",
     "start_time": "2025-01-21T10:16:19.161798Z"
    }
   },
   "cell_type": "code",
   "source": [
    "# The objective function is added to 'prob' first\n",
    "prob += lpSum(cost_matrix.iloc[i,j]*x[i,j] for (i,j) in A)"
   ],
   "id": "57dad9ddbd20511f",
   "outputs": [],
   "execution_count": 251
  },
  {
   "metadata": {
    "ExecuteTime": {
     "end_time": "2025-01-21T10:16:19.185641Z",
     "start_time": "2025-01-21T10:16:19.180686Z"
    }
   },
   "cell_type": "code",
   "source": [
    "#Constraint 1 : imposes that exactly one arc enters each customer node\n",
    "one_visit_out = {}\n",
    "for i in N:\n",
    "    one_visit_out[i] = lpSum([x[i,j] for j in V if j!=i]) == 1.0\n",
    "    prob += one_visit_out[i]"
   ],
   "id": "48a2253d924ff875",
   "outputs": [],
   "execution_count": 252
  },
  {
   "metadata": {
    "ExecuteTime": {
     "end_time": "2025-01-21T10:16:19.203820Z",
     "start_time": "2025-01-21T10:16:19.199253Z"
    }
   },
   "cell_type": "code",
   "source": [
    "#Constraint 2 : imposes that exactly one arc leaves each customer node\n",
    "one_visit_in = {}\n",
    "for j in N:\n",
    "    one_visit_in[j] = lpSum([x[i,j] for i in V if i!=j]) == 1.0\n",
    "    prob += one_visit_in[j]"
   ],
   "id": "9f24a8bd32d32a98",
   "outputs": [],
   "execution_count": 253
  },
  {
   "metadata": {
    "ExecuteTime": {
     "end_time": "2025-01-21T10:16:19.224192Z",
     "start_time": "2025-01-21T10:16:19.219079Z"
    }
   },
   "cell_type": "code",
   "source": [
    "#Constraint 4 : imposes the amount of flow that leaves the depot should be identical\n",
    "#with the flow returns to the depot\n",
    "depot_node = lpSum([x[0,j] for j in N]) == lpSum([x[i,0] for i in N])\n",
    "prob += depot_node"
   ],
   "id": "af213e675a424614",
   "outputs": [],
   "execution_count": 254
  },
  {
   "metadata": {
    "ExecuteTime": {
     "end_time": "2025-01-21T10:16:19.260873Z",
     "start_time": "2025-01-21T10:16:19.256044Z"
    }
   },
   "cell_type": "code",
   "source": [
    "#Constraint 5 : vehicle capacity constraint and sub tour elimination constraint\n",
    "sub_tours_cap = {}\n",
    "for i in N:\n",
    "    for j in N:\n",
    "        if i != j:\n",
    "            sub_tours_cap[i,j] = u[i] - u[j] + van_capacity * x[i,j] <= van_capacity - shop_demands[j]\n",
    "            prob += sub_tours_cap[i,j]"
   ],
   "id": "c5c47d6d0e0b221c",
   "outputs": [],
   "execution_count": 255
  },
  {
   "metadata": {
    "ExecuteTime": {
     "end_time": "2025-01-21T10:16:19.282872Z",
     "start_time": "2025-01-21T10:16:19.270880Z"
    }
   },
   "cell_type": "code",
   "source": [
    "# The problem is solved using PuLP's choice of Solver (ici Cplex, retourne 1 si résolu, -1 sinon)\n",
    "prob.solve(GUROBI(msg=False))"
   ],
   "id": "386672f9aae5f745",
   "outputs": [
    {
     "data": {
      "text/plain": [
       "1"
      ]
     },
     "execution_count": 256,
     "metadata": {},
     "output_type": "execute_result"
    }
   ],
   "execution_count": 256
  },
  {
   "metadata": {
    "ExecuteTime": {
     "end_time": "2025-01-21T10:16:19.303638Z",
     "start_time": "2025-01-21T10:16:19.299549Z"
    }
   },
   "cell_type": "code",
   "source": [
    "# The status of the solution is printed to the screen (optimal ou pas)\n",
    "print(\"Status:\", LpStatus[prob.status])"
   ],
   "id": "9f9df3a02080e3ba",
   "outputs": [
    {
     "name": "stdout",
     "output_type": "stream",
     "text": [
      "Status: Optimal\n"
     ]
    }
   ],
   "execution_count": 257
  },
  {
   "metadata": {
    "ExecuteTime": {
     "end_time": "2025-01-21T10:16:19.332695Z",
     "start_time": "2025-01-21T10:16:19.326907Z"
    }
   },
   "cell_type": "code",
   "source": [
    "# Each of the variables is printed with it's resolved optimum value\n",
    "for key,val in x.items():\n",
    "    if val.varValue==1.0:\n",
    "        print(val,\"=\",val.varValue)"
   ],
   "id": "94053947da05cafa",
   "outputs": [
    {
     "name": "stdout",
     "output_type": "stream",
     "text": [
      "x(0,2) = 1.0\n",
      "x(0,4) = 1.0\n",
      "x(1,0) = 1.0\n",
      "x(2,3) = 1.0\n",
      "x(3,0) = 1.0\n",
      "x(4,1) = 1.0\n"
     ]
    }
   ],
   "execution_count": 258
  },
  {
   "metadata": {
    "ExecuteTime": {
     "end_time": "2025-01-21T10:16:19.417558Z",
     "start_time": "2025-01-21T10:16:19.411305Z"
    }
   },
   "cell_type": "code",
   "source": [
    "# The optimised objective function value is printed to the screen\n",
    "print(\"Total Cost = \", value(prob.objective))"
   ],
   "id": "a4fdf47798325d27",
   "outputs": [
    {
     "name": "stdout",
     "output_type": "stream",
     "text": [
      "Total Cost =  10.0\n"
     ]
    }
   ],
   "execution_count": 259
  },
  {
   "metadata": {
    "ExecuteTime": {
     "end_time": "2025-01-21T10:16:19.454315Z",
     "start_time": "2025-01-21T10:16:19.447666Z"
    }
   },
   "cell_type": "code",
   "source": [
    "# Afficher les acrs correspondant à la solution\n",
    "active_arcs = [key for key,val in x.items() if val.varValue >=0.9 ]\n",
    "find_loops(active_arcs)\n"
   ],
   "id": "e8fb82e94c47cfaa",
   "outputs": [
    {
     "data": {
      "text/plain": [
       "[[(0, 2), (2, 3), (3, 0)], [(0, 4), (4, 1), (1, 0)]]"
      ]
     },
     "execution_count": 260,
     "metadata": {},
     "output_type": "execute_result"
    }
   ],
   "execution_count": 260
  },
  {
   "metadata": {
    "ExecuteTime": {
     "end_time": "2025-01-21T10:16:19.498817Z",
     "start_time": "2025-01-21T10:16:19.494434Z"
    }
   },
   "cell_type": "code",
   "source": [
    "# Each of the variables is printed with it's resolved optimum value\n",
    "for key,val in u.items():\n",
    "    print(val,\"=\",val.varValue)"
   ],
   "id": "2c4b1f3f2ee859c5",
   "outputs": [
    {
     "name": "stdout",
     "output_type": "stream",
     "text": [
      "u(1) = 160.0\n",
      "u(2) = 80.0\n",
      "u(3) = 230.0\n",
      "u(4) = 120.0\n"
     ]
    }
   ],
   "execution_count": 261
  }
 ],
 "metadata": {
  "kernelspec": {
   "name": "python3",
   "language": "python",
   "display_name": "Python 3 (ipykernel)"
  }
 },
 "nbformat": 5,
 "nbformat_minor": 9
}
