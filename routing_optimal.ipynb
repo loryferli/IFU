{
 "cells": [
  {
   "metadata": {
    "ExecuteTime": {
     "end_time": "2025-01-24T15:49:20.047778Z",
     "start_time": "2025-01-24T15:49:19.238585Z"
    }
   },
   "cell_type": "code",
   "source": [
    "import numpy as np\n",
    "import matplotlib.pyplot as plt\n",
    "import pandas as pd\n",
    "from pandas.core.internals.construction import to_arrays\n",
    "from prompt_toolkit.utils import to_int\n",
    "from pulp import *"
   ],
   "id": "b2b56e2a4cc0c7c",
   "outputs": [],
   "execution_count": 1
  },
  {
   "metadata": {
    "ExecuteTime": {
     "end_time": "2025-01-24T15:49:20.057065Z",
     "start_time": "2025-01-24T15:49:20.050774Z"
    }
   },
   "cell_type": "code",
   "source": [
    "def find_loops(edges):\n",
    "    \"\"\"\n",
    "    Find all closed loops starting and ending at node 0 in a directed graph.\n",
    "\n",
    "    Args:\n",
    "        edges: List of tuples representing directed edges (from_node, to_node)\n",
    "\n",
    "    Returns:\n",
    "        List of lists, where each sublist contains tuples forming a closed loop from 0 to 0\n",
    "    \"\"\"\n",
    "    # Create adjacency list for faster lookup\n",
    "    adj = {}\n",
    "    for start, end in edges:\n",
    "        if start not in adj:\n",
    "            adj[start] = []\n",
    "        adj[start].append(end)\n",
    "\n",
    "    def find_paths(current, path, visited):\n",
    "        \"\"\"\n",
    "        Recursive helper function to find all paths from current node back to 0.\n",
    "        \"\"\"\n",
    "        if current == 'Depot' and len(path) > 0:  # Found a loop back to 0\n",
    "            return [path[:]]\n",
    "\n",
    "        if current not in adj:  # Dead end\n",
    "            return []\n",
    "\n",
    "        paths = []\n",
    "        for next_node in adj[current]:\n",
    "            if (current, next_node) not in visited:  # Avoid using same edge twice\n",
    "                path.append((current, next_node))\n",
    "                visited.add((current, next_node))\n",
    "                paths.extend(find_paths(next_node, path, visited))\n",
    "                path.pop()\n",
    "                visited.remove((current, next_node))\n",
    "        return paths\n",
    "\n",
    "    # Start DFS from node 0\n",
    "    all_loops = find_paths('Depot', [], set())\n",
    "\n",
    "    # Filter out non-minimal loops (loops that contain other loops)\n",
    "    minimal_loops = []\n",
    "    for loop in all_loops:\n",
    "        # Check if this loop contains any other loop\n",
    "        is_minimal = True\n",
    "        visited_nodes = {node for edge in loop for node in edge}\n",
    "        for other_loop in all_loops:\n",
    "            if loop != other_loop:\n",
    "                other_nodes = {node for edge in other_loop for node in edge}\n",
    "                if other_nodes.issubset(visited_nodes) and len(other_loop) < len(loop):\n",
    "                    is_minimal = False\n",
    "                    break\n",
    "        if is_minimal:\n",
    "            minimal_loops.append(loop)\n",
    "\n",
    "    return minimal_loops"
   ],
   "id": "b3ecd3faf674ddbd",
   "outputs": [],
   "execution_count": 2
  },
  {
   "metadata": {},
   "cell_type": "markdown",
   "source": "## Cost matrix",
   "id": "9084aecc32487244"
  },
  {
   "metadata": {
    "ExecuteTime": {
     "end_time": "2025-01-24T15:49:20.245991Z",
     "start_time": "2025-01-24T15:49:20.207126Z"
    }
   },
   "cell_type": "code",
   "source": [
    "cost_matrix = pd.read_csv('costMatrixDistance.csv', index_col=0)\n",
    "\n",
    "# Convert the entire DataFrame to integers\n",
    "cost_matrix = cost_matrix.astype(float)\n",
    "\n",
    "# If the index of the DataFrame needs to be integers (e.g., if the index is non-numeric):\n",
    "cost_matrix.index = cost_matrix.index.astype(str)\n",
    "\n",
    "# If the column names need to be integers (if they are non-numeric or string-based):\n",
    "cost_matrix.columns = cost_matrix.columns.astype(str)"
   ],
   "id": "b6df81142ad630e5",
   "outputs": [],
   "execution_count": 3
  },
  {
   "metadata": {},
   "cell_type": "markdown",
   "source": "## Shop demands",
   "id": "60f340d365ad3538"
  },
  {
   "metadata": {
    "ExecuteTime": {
     "end_time": "2025-01-24T15:49:20.276569Z",
     "start_time": "2025-01-24T15:49:20.263768Z"
    }
   },
   "cell_type": "code",
   "source": [
    "shop_demands = pd.read_csv('2015_shop_locations.csv').set_index('id')[['demand(kg)', 'stage']].astype(float)\n",
    "shop_demands = shop_demands.loc[shop_demands['stage'] == 1, 'demand(kg)']\n",
    "shops = shop_demands.index\n",
    "nodes = shops.copy()\n",
    "nodes = np.append('Depot', nodes)"
   ],
   "id": "341c280d30d97830",
   "outputs": [],
   "execution_count": 4
  },
  {
   "metadata": {},
   "cell_type": "markdown",
   "source": "## Vehicle routing problem",
   "id": "ad6b8b63ad939912"
  },
  {
   "metadata": {
    "ExecuteTime": {
     "end_time": "2025-01-24T15:49:20.300005Z",
     "start_time": "2025-01-24T15:49:20.295494Z"
    }
   },
   "cell_type": "code",
   "source": [
    "# Vehicle capacity\n",
    "van_capacity = 300"
   ],
   "id": "ae600592dee2bf48",
   "outputs": [],
   "execution_count": 5
  },
  {
   "metadata": {
    "ExecuteTime": {
     "end_time": "2025-01-24T15:49:20.342970Z",
     "start_time": "2025-01-24T15:49:20.338512Z"
    }
   },
   "cell_type": "code",
   "source": [
    "# Creates a list of tuples containing all the possible routes for transport\n",
    "A = [(i,j) for i in nodes for j in nodes if i!=j]"
   ],
   "id": "e411e93971d9a8d",
   "outputs": [],
   "execution_count": 6
  },
  {
   "metadata": {
    "ExecuteTime": {
     "end_time": "2025-01-24T15:49:20.375147Z",
     "start_time": "2025-01-24T15:49:20.355772Z"
    }
   },
   "cell_type": "code",
   "source": "A",
   "id": "fb13b5b7f81d659e",
   "outputs": [
    {
     "data": {
      "text/plain": [
       "[('Depot', 'ChIJwTC7A55ZwokRPNX9g7ngbaI'),\n",
       " ('Depot', 'ChIJU1XImaNZwokRutunetC8XeE'),\n",
       " ('Depot', 'ChIJG7L-TLVbwokRT36uIrwz2Mo'),\n",
       " ('Depot', 'ChIJ5cPkuBtgwokRn55JgpGqjFA'),\n",
       " ('Depot', 'ChIJ24V7r_31wokR-S71l2zqrwc'),\n",
       " ('Depot', 'ChIJiUJ1DI5ZwokRWdK6SPg9BOY'),\n",
       " ('Depot', 'ChIJYTxm0Gf2wokR5V0iFDQ-2x0'),\n",
       " ('Depot', 'ChIJ_eQYpFdmwokR756MAH2tZPw'),\n",
       " ('Depot', 'ChIJYzaRC2REwokRaH2rHpflSYk'),\n",
       " ('Depot', 'ChIJ3R85DSb2wokR1XobETRMs5E'),\n",
       " ('Depot', 'ChIJ97BgiDtfwokRsbkP6Vl1seY'),\n",
       " ('Depot', 'ChIJT1ZEl4JYwokRXQMvGg9VMPE'),\n",
       " ('Depot', 'ChIJ7-uIlEFEwokRlbHGtjrdFtM'),\n",
       " ('Depot', 'ChIJU3IVO-tZwokRx6iWrhKQTng'),\n",
       " ('Depot', 'ChIJRR7W62BFwokRlrVks40mAdU'),\n",
       " ('Depot', 'ChIJnZ4lShdkwokRQUAn5mjU1pA'),\n",
       " ('Depot', 'ChIJG9cUYg_1wokRUNpvwM84Z4M'),\n",
       " ('Depot', 'ChIJmZQsMgFbwokRMc5I7kPdQ7w'),\n",
       " ('Depot', 'ChIJt5DcjLRFwokRyxil5Pjp3Fo'),\n",
       " ('Depot', 'ChIJ2b9se6f1wokRUN8kWpFfzN0'),\n",
       " ('ChIJwTC7A55ZwokRPNX9g7ngbaI', 'Depot'),\n",
       " ('ChIJwTC7A55ZwokRPNX9g7ngbaI', 'ChIJU1XImaNZwokRutunetC8XeE'),\n",
       " ('ChIJwTC7A55ZwokRPNX9g7ngbaI', 'ChIJG7L-TLVbwokRT36uIrwz2Mo'),\n",
       " ('ChIJwTC7A55ZwokRPNX9g7ngbaI', 'ChIJ5cPkuBtgwokRn55JgpGqjFA'),\n",
       " ('ChIJwTC7A55ZwokRPNX9g7ngbaI', 'ChIJ24V7r_31wokR-S71l2zqrwc'),\n",
       " ('ChIJwTC7A55ZwokRPNX9g7ngbaI', 'ChIJiUJ1DI5ZwokRWdK6SPg9BOY'),\n",
       " ('ChIJwTC7A55ZwokRPNX9g7ngbaI', 'ChIJYTxm0Gf2wokR5V0iFDQ-2x0'),\n",
       " ('ChIJwTC7A55ZwokRPNX9g7ngbaI', 'ChIJ_eQYpFdmwokR756MAH2tZPw'),\n",
       " ('ChIJwTC7A55ZwokRPNX9g7ngbaI', 'ChIJYzaRC2REwokRaH2rHpflSYk'),\n",
       " ('ChIJwTC7A55ZwokRPNX9g7ngbaI', 'ChIJ3R85DSb2wokR1XobETRMs5E'),\n",
       " ('ChIJwTC7A55ZwokRPNX9g7ngbaI', 'ChIJ97BgiDtfwokRsbkP6Vl1seY'),\n",
       " ('ChIJwTC7A55ZwokRPNX9g7ngbaI', 'ChIJT1ZEl4JYwokRXQMvGg9VMPE'),\n",
       " ('ChIJwTC7A55ZwokRPNX9g7ngbaI', 'ChIJ7-uIlEFEwokRlbHGtjrdFtM'),\n",
       " ('ChIJwTC7A55ZwokRPNX9g7ngbaI', 'ChIJU3IVO-tZwokRx6iWrhKQTng'),\n",
       " ('ChIJwTC7A55ZwokRPNX9g7ngbaI', 'ChIJRR7W62BFwokRlrVks40mAdU'),\n",
       " ('ChIJwTC7A55ZwokRPNX9g7ngbaI', 'ChIJnZ4lShdkwokRQUAn5mjU1pA'),\n",
       " ('ChIJwTC7A55ZwokRPNX9g7ngbaI', 'ChIJG9cUYg_1wokRUNpvwM84Z4M'),\n",
       " ('ChIJwTC7A55ZwokRPNX9g7ngbaI', 'ChIJmZQsMgFbwokRMc5I7kPdQ7w'),\n",
       " ('ChIJwTC7A55ZwokRPNX9g7ngbaI', 'ChIJt5DcjLRFwokRyxil5Pjp3Fo'),\n",
       " ('ChIJwTC7A55ZwokRPNX9g7ngbaI', 'ChIJ2b9se6f1wokRUN8kWpFfzN0'),\n",
       " ('ChIJU1XImaNZwokRutunetC8XeE', 'Depot'),\n",
       " ('ChIJU1XImaNZwokRutunetC8XeE', 'ChIJwTC7A55ZwokRPNX9g7ngbaI'),\n",
       " ('ChIJU1XImaNZwokRutunetC8XeE', 'ChIJG7L-TLVbwokRT36uIrwz2Mo'),\n",
       " ('ChIJU1XImaNZwokRutunetC8XeE', 'ChIJ5cPkuBtgwokRn55JgpGqjFA'),\n",
       " ('ChIJU1XImaNZwokRutunetC8XeE', 'ChIJ24V7r_31wokR-S71l2zqrwc'),\n",
       " ('ChIJU1XImaNZwokRutunetC8XeE', 'ChIJiUJ1DI5ZwokRWdK6SPg9BOY'),\n",
       " ('ChIJU1XImaNZwokRutunetC8XeE', 'ChIJYTxm0Gf2wokR5V0iFDQ-2x0'),\n",
       " ('ChIJU1XImaNZwokRutunetC8XeE', 'ChIJ_eQYpFdmwokR756MAH2tZPw'),\n",
       " ('ChIJU1XImaNZwokRutunetC8XeE', 'ChIJYzaRC2REwokRaH2rHpflSYk'),\n",
       " ('ChIJU1XImaNZwokRutunetC8XeE', 'ChIJ3R85DSb2wokR1XobETRMs5E'),\n",
       " ('ChIJU1XImaNZwokRutunetC8XeE', 'ChIJ97BgiDtfwokRsbkP6Vl1seY'),\n",
       " ('ChIJU1XImaNZwokRutunetC8XeE', 'ChIJT1ZEl4JYwokRXQMvGg9VMPE'),\n",
       " ('ChIJU1XImaNZwokRutunetC8XeE', 'ChIJ7-uIlEFEwokRlbHGtjrdFtM'),\n",
       " ('ChIJU1XImaNZwokRutunetC8XeE', 'ChIJU3IVO-tZwokRx6iWrhKQTng'),\n",
       " ('ChIJU1XImaNZwokRutunetC8XeE', 'ChIJRR7W62BFwokRlrVks40mAdU'),\n",
       " ('ChIJU1XImaNZwokRutunetC8XeE', 'ChIJnZ4lShdkwokRQUAn5mjU1pA'),\n",
       " ('ChIJU1XImaNZwokRutunetC8XeE', 'ChIJG9cUYg_1wokRUNpvwM84Z4M'),\n",
       " ('ChIJU1XImaNZwokRutunetC8XeE', 'ChIJmZQsMgFbwokRMc5I7kPdQ7w'),\n",
       " ('ChIJU1XImaNZwokRutunetC8XeE', 'ChIJt5DcjLRFwokRyxil5Pjp3Fo'),\n",
       " ('ChIJU1XImaNZwokRutunetC8XeE', 'ChIJ2b9se6f1wokRUN8kWpFfzN0'),\n",
       " ('ChIJG7L-TLVbwokRT36uIrwz2Mo', 'Depot'),\n",
       " ('ChIJG7L-TLVbwokRT36uIrwz2Mo', 'ChIJwTC7A55ZwokRPNX9g7ngbaI'),\n",
       " ('ChIJG7L-TLVbwokRT36uIrwz2Mo', 'ChIJU1XImaNZwokRutunetC8XeE'),\n",
       " ('ChIJG7L-TLVbwokRT36uIrwz2Mo', 'ChIJ5cPkuBtgwokRn55JgpGqjFA'),\n",
       " ('ChIJG7L-TLVbwokRT36uIrwz2Mo', 'ChIJ24V7r_31wokR-S71l2zqrwc'),\n",
       " ('ChIJG7L-TLVbwokRT36uIrwz2Mo', 'ChIJiUJ1DI5ZwokRWdK6SPg9BOY'),\n",
       " ('ChIJG7L-TLVbwokRT36uIrwz2Mo', 'ChIJYTxm0Gf2wokR5V0iFDQ-2x0'),\n",
       " ('ChIJG7L-TLVbwokRT36uIrwz2Mo', 'ChIJ_eQYpFdmwokR756MAH2tZPw'),\n",
       " ('ChIJG7L-TLVbwokRT36uIrwz2Mo', 'ChIJYzaRC2REwokRaH2rHpflSYk'),\n",
       " ('ChIJG7L-TLVbwokRT36uIrwz2Mo', 'ChIJ3R85DSb2wokR1XobETRMs5E'),\n",
       " ('ChIJG7L-TLVbwokRT36uIrwz2Mo', 'ChIJ97BgiDtfwokRsbkP6Vl1seY'),\n",
       " ('ChIJG7L-TLVbwokRT36uIrwz2Mo', 'ChIJT1ZEl4JYwokRXQMvGg9VMPE'),\n",
       " ('ChIJG7L-TLVbwokRT36uIrwz2Mo', 'ChIJ7-uIlEFEwokRlbHGtjrdFtM'),\n",
       " ('ChIJG7L-TLVbwokRT36uIrwz2Mo', 'ChIJU3IVO-tZwokRx6iWrhKQTng'),\n",
       " ('ChIJG7L-TLVbwokRT36uIrwz2Mo', 'ChIJRR7W62BFwokRlrVks40mAdU'),\n",
       " ('ChIJG7L-TLVbwokRT36uIrwz2Mo', 'ChIJnZ4lShdkwokRQUAn5mjU1pA'),\n",
       " ('ChIJG7L-TLVbwokRT36uIrwz2Mo', 'ChIJG9cUYg_1wokRUNpvwM84Z4M'),\n",
       " ('ChIJG7L-TLVbwokRT36uIrwz2Mo', 'ChIJmZQsMgFbwokRMc5I7kPdQ7w'),\n",
       " ('ChIJG7L-TLVbwokRT36uIrwz2Mo', 'ChIJt5DcjLRFwokRyxil5Pjp3Fo'),\n",
       " ('ChIJG7L-TLVbwokRT36uIrwz2Mo', 'ChIJ2b9se6f1wokRUN8kWpFfzN0'),\n",
       " ('ChIJ5cPkuBtgwokRn55JgpGqjFA', 'Depot'),\n",
       " ('ChIJ5cPkuBtgwokRn55JgpGqjFA', 'ChIJwTC7A55ZwokRPNX9g7ngbaI'),\n",
       " ('ChIJ5cPkuBtgwokRn55JgpGqjFA', 'ChIJU1XImaNZwokRutunetC8XeE'),\n",
       " ('ChIJ5cPkuBtgwokRn55JgpGqjFA', 'ChIJG7L-TLVbwokRT36uIrwz2Mo'),\n",
       " ('ChIJ5cPkuBtgwokRn55JgpGqjFA', 'ChIJ24V7r_31wokR-S71l2zqrwc'),\n",
       " ('ChIJ5cPkuBtgwokRn55JgpGqjFA', 'ChIJiUJ1DI5ZwokRWdK6SPg9BOY'),\n",
       " ('ChIJ5cPkuBtgwokRn55JgpGqjFA', 'ChIJYTxm0Gf2wokR5V0iFDQ-2x0'),\n",
       " ('ChIJ5cPkuBtgwokRn55JgpGqjFA', 'ChIJ_eQYpFdmwokR756MAH2tZPw'),\n",
       " ('ChIJ5cPkuBtgwokRn55JgpGqjFA', 'ChIJYzaRC2REwokRaH2rHpflSYk'),\n",
       " ('ChIJ5cPkuBtgwokRn55JgpGqjFA', 'ChIJ3R85DSb2wokR1XobETRMs5E'),\n",
       " ('ChIJ5cPkuBtgwokRn55JgpGqjFA', 'ChIJ97BgiDtfwokRsbkP6Vl1seY'),\n",
       " ('ChIJ5cPkuBtgwokRn55JgpGqjFA', 'ChIJT1ZEl4JYwokRXQMvGg9VMPE'),\n",
       " ('ChIJ5cPkuBtgwokRn55JgpGqjFA', 'ChIJ7-uIlEFEwokRlbHGtjrdFtM'),\n",
       " ('ChIJ5cPkuBtgwokRn55JgpGqjFA', 'ChIJU3IVO-tZwokRx6iWrhKQTng'),\n",
       " ('ChIJ5cPkuBtgwokRn55JgpGqjFA', 'ChIJRR7W62BFwokRlrVks40mAdU'),\n",
       " ('ChIJ5cPkuBtgwokRn55JgpGqjFA', 'ChIJnZ4lShdkwokRQUAn5mjU1pA'),\n",
       " ('ChIJ5cPkuBtgwokRn55JgpGqjFA', 'ChIJG9cUYg_1wokRUNpvwM84Z4M'),\n",
       " ('ChIJ5cPkuBtgwokRn55JgpGqjFA', 'ChIJmZQsMgFbwokRMc5I7kPdQ7w'),\n",
       " ('ChIJ5cPkuBtgwokRn55JgpGqjFA', 'ChIJt5DcjLRFwokRyxil5Pjp3Fo'),\n",
       " ('ChIJ5cPkuBtgwokRn55JgpGqjFA', 'ChIJ2b9se6f1wokRUN8kWpFfzN0'),\n",
       " ('ChIJ24V7r_31wokR-S71l2zqrwc', 'Depot'),\n",
       " ('ChIJ24V7r_31wokR-S71l2zqrwc', 'ChIJwTC7A55ZwokRPNX9g7ngbaI'),\n",
       " ('ChIJ24V7r_31wokR-S71l2zqrwc', 'ChIJU1XImaNZwokRutunetC8XeE'),\n",
       " ('ChIJ24V7r_31wokR-S71l2zqrwc', 'ChIJG7L-TLVbwokRT36uIrwz2Mo'),\n",
       " ('ChIJ24V7r_31wokR-S71l2zqrwc', 'ChIJ5cPkuBtgwokRn55JgpGqjFA'),\n",
       " ('ChIJ24V7r_31wokR-S71l2zqrwc', 'ChIJiUJ1DI5ZwokRWdK6SPg9BOY'),\n",
       " ('ChIJ24V7r_31wokR-S71l2zqrwc', 'ChIJYTxm0Gf2wokR5V0iFDQ-2x0'),\n",
       " ('ChIJ24V7r_31wokR-S71l2zqrwc', 'ChIJ_eQYpFdmwokR756MAH2tZPw'),\n",
       " ('ChIJ24V7r_31wokR-S71l2zqrwc', 'ChIJYzaRC2REwokRaH2rHpflSYk'),\n",
       " ('ChIJ24V7r_31wokR-S71l2zqrwc', 'ChIJ3R85DSb2wokR1XobETRMs5E'),\n",
       " ('ChIJ24V7r_31wokR-S71l2zqrwc', 'ChIJ97BgiDtfwokRsbkP6Vl1seY'),\n",
       " ('ChIJ24V7r_31wokR-S71l2zqrwc', 'ChIJT1ZEl4JYwokRXQMvGg9VMPE'),\n",
       " ('ChIJ24V7r_31wokR-S71l2zqrwc', 'ChIJ7-uIlEFEwokRlbHGtjrdFtM'),\n",
       " ('ChIJ24V7r_31wokR-S71l2zqrwc', 'ChIJU3IVO-tZwokRx6iWrhKQTng'),\n",
       " ('ChIJ24V7r_31wokR-S71l2zqrwc', 'ChIJRR7W62BFwokRlrVks40mAdU'),\n",
       " ('ChIJ24V7r_31wokR-S71l2zqrwc', 'ChIJnZ4lShdkwokRQUAn5mjU1pA'),\n",
       " ('ChIJ24V7r_31wokR-S71l2zqrwc', 'ChIJG9cUYg_1wokRUNpvwM84Z4M'),\n",
       " ('ChIJ24V7r_31wokR-S71l2zqrwc', 'ChIJmZQsMgFbwokRMc5I7kPdQ7w'),\n",
       " ('ChIJ24V7r_31wokR-S71l2zqrwc', 'ChIJt5DcjLRFwokRyxil5Pjp3Fo'),\n",
       " ('ChIJ24V7r_31wokR-S71l2zqrwc', 'ChIJ2b9se6f1wokRUN8kWpFfzN0'),\n",
       " ('ChIJiUJ1DI5ZwokRWdK6SPg9BOY', 'Depot'),\n",
       " ('ChIJiUJ1DI5ZwokRWdK6SPg9BOY', 'ChIJwTC7A55ZwokRPNX9g7ngbaI'),\n",
       " ('ChIJiUJ1DI5ZwokRWdK6SPg9BOY', 'ChIJU1XImaNZwokRutunetC8XeE'),\n",
       " ('ChIJiUJ1DI5ZwokRWdK6SPg9BOY', 'ChIJG7L-TLVbwokRT36uIrwz2Mo'),\n",
       " ('ChIJiUJ1DI5ZwokRWdK6SPg9BOY', 'ChIJ5cPkuBtgwokRn55JgpGqjFA'),\n",
       " ('ChIJiUJ1DI5ZwokRWdK6SPg9BOY', 'ChIJ24V7r_31wokR-S71l2zqrwc'),\n",
       " ('ChIJiUJ1DI5ZwokRWdK6SPg9BOY', 'ChIJYTxm0Gf2wokR5V0iFDQ-2x0'),\n",
       " ('ChIJiUJ1DI5ZwokRWdK6SPg9BOY', 'ChIJ_eQYpFdmwokR756MAH2tZPw'),\n",
       " ('ChIJiUJ1DI5ZwokRWdK6SPg9BOY', 'ChIJYzaRC2REwokRaH2rHpflSYk'),\n",
       " ('ChIJiUJ1DI5ZwokRWdK6SPg9BOY', 'ChIJ3R85DSb2wokR1XobETRMs5E'),\n",
       " ('ChIJiUJ1DI5ZwokRWdK6SPg9BOY', 'ChIJ97BgiDtfwokRsbkP6Vl1seY'),\n",
       " ('ChIJiUJ1DI5ZwokRWdK6SPg9BOY', 'ChIJT1ZEl4JYwokRXQMvGg9VMPE'),\n",
       " ('ChIJiUJ1DI5ZwokRWdK6SPg9BOY', 'ChIJ7-uIlEFEwokRlbHGtjrdFtM'),\n",
       " ('ChIJiUJ1DI5ZwokRWdK6SPg9BOY', 'ChIJU3IVO-tZwokRx6iWrhKQTng'),\n",
       " ('ChIJiUJ1DI5ZwokRWdK6SPg9BOY', 'ChIJRR7W62BFwokRlrVks40mAdU'),\n",
       " ('ChIJiUJ1DI5ZwokRWdK6SPg9BOY', 'ChIJnZ4lShdkwokRQUAn5mjU1pA'),\n",
       " ('ChIJiUJ1DI5ZwokRWdK6SPg9BOY', 'ChIJG9cUYg_1wokRUNpvwM84Z4M'),\n",
       " ('ChIJiUJ1DI5ZwokRWdK6SPg9BOY', 'ChIJmZQsMgFbwokRMc5I7kPdQ7w'),\n",
       " ('ChIJiUJ1DI5ZwokRWdK6SPg9BOY', 'ChIJt5DcjLRFwokRyxil5Pjp3Fo'),\n",
       " ('ChIJiUJ1DI5ZwokRWdK6SPg9BOY', 'ChIJ2b9se6f1wokRUN8kWpFfzN0'),\n",
       " ('ChIJYTxm0Gf2wokR5V0iFDQ-2x0', 'Depot'),\n",
       " ('ChIJYTxm0Gf2wokR5V0iFDQ-2x0', 'ChIJwTC7A55ZwokRPNX9g7ngbaI'),\n",
       " ('ChIJYTxm0Gf2wokR5V0iFDQ-2x0', 'ChIJU1XImaNZwokRutunetC8XeE'),\n",
       " ('ChIJYTxm0Gf2wokR5V0iFDQ-2x0', 'ChIJG7L-TLVbwokRT36uIrwz2Mo'),\n",
       " ('ChIJYTxm0Gf2wokR5V0iFDQ-2x0', 'ChIJ5cPkuBtgwokRn55JgpGqjFA'),\n",
       " ('ChIJYTxm0Gf2wokR5V0iFDQ-2x0', 'ChIJ24V7r_31wokR-S71l2zqrwc'),\n",
       " ('ChIJYTxm0Gf2wokR5V0iFDQ-2x0', 'ChIJiUJ1DI5ZwokRWdK6SPg9BOY'),\n",
       " ('ChIJYTxm0Gf2wokR5V0iFDQ-2x0', 'ChIJ_eQYpFdmwokR756MAH2tZPw'),\n",
       " ('ChIJYTxm0Gf2wokR5V0iFDQ-2x0', 'ChIJYzaRC2REwokRaH2rHpflSYk'),\n",
       " ('ChIJYTxm0Gf2wokR5V0iFDQ-2x0', 'ChIJ3R85DSb2wokR1XobETRMs5E'),\n",
       " ('ChIJYTxm0Gf2wokR5V0iFDQ-2x0', 'ChIJ97BgiDtfwokRsbkP6Vl1seY'),\n",
       " ('ChIJYTxm0Gf2wokR5V0iFDQ-2x0', 'ChIJT1ZEl4JYwokRXQMvGg9VMPE'),\n",
       " ('ChIJYTxm0Gf2wokR5V0iFDQ-2x0', 'ChIJ7-uIlEFEwokRlbHGtjrdFtM'),\n",
       " ('ChIJYTxm0Gf2wokR5V0iFDQ-2x0', 'ChIJU3IVO-tZwokRx6iWrhKQTng'),\n",
       " ('ChIJYTxm0Gf2wokR5V0iFDQ-2x0', 'ChIJRR7W62BFwokRlrVks40mAdU'),\n",
       " ('ChIJYTxm0Gf2wokR5V0iFDQ-2x0', 'ChIJnZ4lShdkwokRQUAn5mjU1pA'),\n",
       " ('ChIJYTxm0Gf2wokR5V0iFDQ-2x0', 'ChIJG9cUYg_1wokRUNpvwM84Z4M'),\n",
       " ('ChIJYTxm0Gf2wokR5V0iFDQ-2x0', 'ChIJmZQsMgFbwokRMc5I7kPdQ7w'),\n",
       " ('ChIJYTxm0Gf2wokR5V0iFDQ-2x0', 'ChIJt5DcjLRFwokRyxil5Pjp3Fo'),\n",
       " ('ChIJYTxm0Gf2wokR5V0iFDQ-2x0', 'ChIJ2b9se6f1wokRUN8kWpFfzN0'),\n",
       " ('ChIJ_eQYpFdmwokR756MAH2tZPw', 'Depot'),\n",
       " ('ChIJ_eQYpFdmwokR756MAH2tZPw', 'ChIJwTC7A55ZwokRPNX9g7ngbaI'),\n",
       " ('ChIJ_eQYpFdmwokR756MAH2tZPw', 'ChIJU1XImaNZwokRutunetC8XeE'),\n",
       " ('ChIJ_eQYpFdmwokR756MAH2tZPw', 'ChIJG7L-TLVbwokRT36uIrwz2Mo'),\n",
       " ('ChIJ_eQYpFdmwokR756MAH2tZPw', 'ChIJ5cPkuBtgwokRn55JgpGqjFA'),\n",
       " ('ChIJ_eQYpFdmwokR756MAH2tZPw', 'ChIJ24V7r_31wokR-S71l2zqrwc'),\n",
       " ('ChIJ_eQYpFdmwokR756MAH2tZPw', 'ChIJiUJ1DI5ZwokRWdK6SPg9BOY'),\n",
       " ('ChIJ_eQYpFdmwokR756MAH2tZPw', 'ChIJYTxm0Gf2wokR5V0iFDQ-2x0'),\n",
       " ('ChIJ_eQYpFdmwokR756MAH2tZPw', 'ChIJYzaRC2REwokRaH2rHpflSYk'),\n",
       " ('ChIJ_eQYpFdmwokR756MAH2tZPw', 'ChIJ3R85DSb2wokR1XobETRMs5E'),\n",
       " ('ChIJ_eQYpFdmwokR756MAH2tZPw', 'ChIJ97BgiDtfwokRsbkP6Vl1seY'),\n",
       " ('ChIJ_eQYpFdmwokR756MAH2tZPw', 'ChIJT1ZEl4JYwokRXQMvGg9VMPE'),\n",
       " ('ChIJ_eQYpFdmwokR756MAH2tZPw', 'ChIJ7-uIlEFEwokRlbHGtjrdFtM'),\n",
       " ('ChIJ_eQYpFdmwokR756MAH2tZPw', 'ChIJU3IVO-tZwokRx6iWrhKQTng'),\n",
       " ('ChIJ_eQYpFdmwokR756MAH2tZPw', 'ChIJRR7W62BFwokRlrVks40mAdU'),\n",
       " ('ChIJ_eQYpFdmwokR756MAH2tZPw', 'ChIJnZ4lShdkwokRQUAn5mjU1pA'),\n",
       " ('ChIJ_eQYpFdmwokR756MAH2tZPw', 'ChIJG9cUYg_1wokRUNpvwM84Z4M'),\n",
       " ('ChIJ_eQYpFdmwokR756MAH2tZPw', 'ChIJmZQsMgFbwokRMc5I7kPdQ7w'),\n",
       " ('ChIJ_eQYpFdmwokR756MAH2tZPw', 'ChIJt5DcjLRFwokRyxil5Pjp3Fo'),\n",
       " ('ChIJ_eQYpFdmwokR756MAH2tZPw', 'ChIJ2b9se6f1wokRUN8kWpFfzN0'),\n",
       " ('ChIJYzaRC2REwokRaH2rHpflSYk', 'Depot'),\n",
       " ('ChIJYzaRC2REwokRaH2rHpflSYk', 'ChIJwTC7A55ZwokRPNX9g7ngbaI'),\n",
       " ('ChIJYzaRC2REwokRaH2rHpflSYk', 'ChIJU1XImaNZwokRutunetC8XeE'),\n",
       " ('ChIJYzaRC2REwokRaH2rHpflSYk', 'ChIJG7L-TLVbwokRT36uIrwz2Mo'),\n",
       " ('ChIJYzaRC2REwokRaH2rHpflSYk', 'ChIJ5cPkuBtgwokRn55JgpGqjFA'),\n",
       " ('ChIJYzaRC2REwokRaH2rHpflSYk', 'ChIJ24V7r_31wokR-S71l2zqrwc'),\n",
       " ('ChIJYzaRC2REwokRaH2rHpflSYk', 'ChIJiUJ1DI5ZwokRWdK6SPg9BOY'),\n",
       " ('ChIJYzaRC2REwokRaH2rHpflSYk', 'ChIJYTxm0Gf2wokR5V0iFDQ-2x0'),\n",
       " ('ChIJYzaRC2REwokRaH2rHpflSYk', 'ChIJ_eQYpFdmwokR756MAH2tZPw'),\n",
       " ('ChIJYzaRC2REwokRaH2rHpflSYk', 'ChIJ3R85DSb2wokR1XobETRMs5E'),\n",
       " ('ChIJYzaRC2REwokRaH2rHpflSYk', 'ChIJ97BgiDtfwokRsbkP6Vl1seY'),\n",
       " ('ChIJYzaRC2REwokRaH2rHpflSYk', 'ChIJT1ZEl4JYwokRXQMvGg9VMPE'),\n",
       " ('ChIJYzaRC2REwokRaH2rHpflSYk', 'ChIJ7-uIlEFEwokRlbHGtjrdFtM'),\n",
       " ('ChIJYzaRC2REwokRaH2rHpflSYk', 'ChIJU3IVO-tZwokRx6iWrhKQTng'),\n",
       " ('ChIJYzaRC2REwokRaH2rHpflSYk', 'ChIJRR7W62BFwokRlrVks40mAdU'),\n",
       " ('ChIJYzaRC2REwokRaH2rHpflSYk', 'ChIJnZ4lShdkwokRQUAn5mjU1pA'),\n",
       " ('ChIJYzaRC2REwokRaH2rHpflSYk', 'ChIJG9cUYg_1wokRUNpvwM84Z4M'),\n",
       " ('ChIJYzaRC2REwokRaH2rHpflSYk', 'ChIJmZQsMgFbwokRMc5I7kPdQ7w'),\n",
       " ('ChIJYzaRC2REwokRaH2rHpflSYk', 'ChIJt5DcjLRFwokRyxil5Pjp3Fo'),\n",
       " ('ChIJYzaRC2REwokRaH2rHpflSYk', 'ChIJ2b9se6f1wokRUN8kWpFfzN0'),\n",
       " ('ChIJ3R85DSb2wokR1XobETRMs5E', 'Depot'),\n",
       " ('ChIJ3R85DSb2wokR1XobETRMs5E', 'ChIJwTC7A55ZwokRPNX9g7ngbaI'),\n",
       " ('ChIJ3R85DSb2wokR1XobETRMs5E', 'ChIJU1XImaNZwokRutunetC8XeE'),\n",
       " ('ChIJ3R85DSb2wokR1XobETRMs5E', 'ChIJG7L-TLVbwokRT36uIrwz2Mo'),\n",
       " ('ChIJ3R85DSb2wokR1XobETRMs5E', 'ChIJ5cPkuBtgwokRn55JgpGqjFA'),\n",
       " ('ChIJ3R85DSb2wokR1XobETRMs5E', 'ChIJ24V7r_31wokR-S71l2zqrwc'),\n",
       " ('ChIJ3R85DSb2wokR1XobETRMs5E', 'ChIJiUJ1DI5ZwokRWdK6SPg9BOY'),\n",
       " ('ChIJ3R85DSb2wokR1XobETRMs5E', 'ChIJYTxm0Gf2wokR5V0iFDQ-2x0'),\n",
       " ('ChIJ3R85DSb2wokR1XobETRMs5E', 'ChIJ_eQYpFdmwokR756MAH2tZPw'),\n",
       " ('ChIJ3R85DSb2wokR1XobETRMs5E', 'ChIJYzaRC2REwokRaH2rHpflSYk'),\n",
       " ('ChIJ3R85DSb2wokR1XobETRMs5E', 'ChIJ97BgiDtfwokRsbkP6Vl1seY'),\n",
       " ('ChIJ3R85DSb2wokR1XobETRMs5E', 'ChIJT1ZEl4JYwokRXQMvGg9VMPE'),\n",
       " ('ChIJ3R85DSb2wokR1XobETRMs5E', 'ChIJ7-uIlEFEwokRlbHGtjrdFtM'),\n",
       " ('ChIJ3R85DSb2wokR1XobETRMs5E', 'ChIJU3IVO-tZwokRx6iWrhKQTng'),\n",
       " ('ChIJ3R85DSb2wokR1XobETRMs5E', 'ChIJRR7W62BFwokRlrVks40mAdU'),\n",
       " ('ChIJ3R85DSb2wokR1XobETRMs5E', 'ChIJnZ4lShdkwokRQUAn5mjU1pA'),\n",
       " ('ChIJ3R85DSb2wokR1XobETRMs5E', 'ChIJG9cUYg_1wokRUNpvwM84Z4M'),\n",
       " ('ChIJ3R85DSb2wokR1XobETRMs5E', 'ChIJmZQsMgFbwokRMc5I7kPdQ7w'),\n",
       " ('ChIJ3R85DSb2wokR1XobETRMs5E', 'ChIJt5DcjLRFwokRyxil5Pjp3Fo'),\n",
       " ('ChIJ3R85DSb2wokR1XobETRMs5E', 'ChIJ2b9se6f1wokRUN8kWpFfzN0'),\n",
       " ('ChIJ97BgiDtfwokRsbkP6Vl1seY', 'Depot'),\n",
       " ('ChIJ97BgiDtfwokRsbkP6Vl1seY', 'ChIJwTC7A55ZwokRPNX9g7ngbaI'),\n",
       " ('ChIJ97BgiDtfwokRsbkP6Vl1seY', 'ChIJU1XImaNZwokRutunetC8XeE'),\n",
       " ('ChIJ97BgiDtfwokRsbkP6Vl1seY', 'ChIJG7L-TLVbwokRT36uIrwz2Mo'),\n",
       " ('ChIJ97BgiDtfwokRsbkP6Vl1seY', 'ChIJ5cPkuBtgwokRn55JgpGqjFA'),\n",
       " ('ChIJ97BgiDtfwokRsbkP6Vl1seY', 'ChIJ24V7r_31wokR-S71l2zqrwc'),\n",
       " ('ChIJ97BgiDtfwokRsbkP6Vl1seY', 'ChIJiUJ1DI5ZwokRWdK6SPg9BOY'),\n",
       " ('ChIJ97BgiDtfwokRsbkP6Vl1seY', 'ChIJYTxm0Gf2wokR5V0iFDQ-2x0'),\n",
       " ('ChIJ97BgiDtfwokRsbkP6Vl1seY', 'ChIJ_eQYpFdmwokR756MAH2tZPw'),\n",
       " ('ChIJ97BgiDtfwokRsbkP6Vl1seY', 'ChIJYzaRC2REwokRaH2rHpflSYk'),\n",
       " ('ChIJ97BgiDtfwokRsbkP6Vl1seY', 'ChIJ3R85DSb2wokR1XobETRMs5E'),\n",
       " ('ChIJ97BgiDtfwokRsbkP6Vl1seY', 'ChIJT1ZEl4JYwokRXQMvGg9VMPE'),\n",
       " ('ChIJ97BgiDtfwokRsbkP6Vl1seY', 'ChIJ7-uIlEFEwokRlbHGtjrdFtM'),\n",
       " ('ChIJ97BgiDtfwokRsbkP6Vl1seY', 'ChIJU3IVO-tZwokRx6iWrhKQTng'),\n",
       " ('ChIJ97BgiDtfwokRsbkP6Vl1seY', 'ChIJRR7W62BFwokRlrVks40mAdU'),\n",
       " ('ChIJ97BgiDtfwokRsbkP6Vl1seY', 'ChIJnZ4lShdkwokRQUAn5mjU1pA'),\n",
       " ('ChIJ97BgiDtfwokRsbkP6Vl1seY', 'ChIJG9cUYg_1wokRUNpvwM84Z4M'),\n",
       " ('ChIJ97BgiDtfwokRsbkP6Vl1seY', 'ChIJmZQsMgFbwokRMc5I7kPdQ7w'),\n",
       " ('ChIJ97BgiDtfwokRsbkP6Vl1seY', 'ChIJt5DcjLRFwokRyxil5Pjp3Fo'),\n",
       " ('ChIJ97BgiDtfwokRsbkP6Vl1seY', 'ChIJ2b9se6f1wokRUN8kWpFfzN0'),\n",
       " ('ChIJT1ZEl4JYwokRXQMvGg9VMPE', 'Depot'),\n",
       " ('ChIJT1ZEl4JYwokRXQMvGg9VMPE', 'ChIJwTC7A55ZwokRPNX9g7ngbaI'),\n",
       " ('ChIJT1ZEl4JYwokRXQMvGg9VMPE', 'ChIJU1XImaNZwokRutunetC8XeE'),\n",
       " ('ChIJT1ZEl4JYwokRXQMvGg9VMPE', 'ChIJG7L-TLVbwokRT36uIrwz2Mo'),\n",
       " ('ChIJT1ZEl4JYwokRXQMvGg9VMPE', 'ChIJ5cPkuBtgwokRn55JgpGqjFA'),\n",
       " ('ChIJT1ZEl4JYwokRXQMvGg9VMPE', 'ChIJ24V7r_31wokR-S71l2zqrwc'),\n",
       " ('ChIJT1ZEl4JYwokRXQMvGg9VMPE', 'ChIJiUJ1DI5ZwokRWdK6SPg9BOY'),\n",
       " ('ChIJT1ZEl4JYwokRXQMvGg9VMPE', 'ChIJYTxm0Gf2wokR5V0iFDQ-2x0'),\n",
       " ('ChIJT1ZEl4JYwokRXQMvGg9VMPE', 'ChIJ_eQYpFdmwokR756MAH2tZPw'),\n",
       " ('ChIJT1ZEl4JYwokRXQMvGg9VMPE', 'ChIJYzaRC2REwokRaH2rHpflSYk'),\n",
       " ('ChIJT1ZEl4JYwokRXQMvGg9VMPE', 'ChIJ3R85DSb2wokR1XobETRMs5E'),\n",
       " ('ChIJT1ZEl4JYwokRXQMvGg9VMPE', 'ChIJ97BgiDtfwokRsbkP6Vl1seY'),\n",
       " ('ChIJT1ZEl4JYwokRXQMvGg9VMPE', 'ChIJ7-uIlEFEwokRlbHGtjrdFtM'),\n",
       " ('ChIJT1ZEl4JYwokRXQMvGg9VMPE', 'ChIJU3IVO-tZwokRx6iWrhKQTng'),\n",
       " ('ChIJT1ZEl4JYwokRXQMvGg9VMPE', 'ChIJRR7W62BFwokRlrVks40mAdU'),\n",
       " ('ChIJT1ZEl4JYwokRXQMvGg9VMPE', 'ChIJnZ4lShdkwokRQUAn5mjU1pA'),\n",
       " ('ChIJT1ZEl4JYwokRXQMvGg9VMPE', 'ChIJG9cUYg_1wokRUNpvwM84Z4M'),\n",
       " ('ChIJT1ZEl4JYwokRXQMvGg9VMPE', 'ChIJmZQsMgFbwokRMc5I7kPdQ7w'),\n",
       " ('ChIJT1ZEl4JYwokRXQMvGg9VMPE', 'ChIJt5DcjLRFwokRyxil5Pjp3Fo'),\n",
       " ('ChIJT1ZEl4JYwokRXQMvGg9VMPE', 'ChIJ2b9se6f1wokRUN8kWpFfzN0'),\n",
       " ('ChIJ7-uIlEFEwokRlbHGtjrdFtM', 'Depot'),\n",
       " ('ChIJ7-uIlEFEwokRlbHGtjrdFtM', 'ChIJwTC7A55ZwokRPNX9g7ngbaI'),\n",
       " ('ChIJ7-uIlEFEwokRlbHGtjrdFtM', 'ChIJU1XImaNZwokRutunetC8XeE'),\n",
       " ('ChIJ7-uIlEFEwokRlbHGtjrdFtM', 'ChIJG7L-TLVbwokRT36uIrwz2Mo'),\n",
       " ('ChIJ7-uIlEFEwokRlbHGtjrdFtM', 'ChIJ5cPkuBtgwokRn55JgpGqjFA'),\n",
       " ('ChIJ7-uIlEFEwokRlbHGtjrdFtM', 'ChIJ24V7r_31wokR-S71l2zqrwc'),\n",
       " ('ChIJ7-uIlEFEwokRlbHGtjrdFtM', 'ChIJiUJ1DI5ZwokRWdK6SPg9BOY'),\n",
       " ('ChIJ7-uIlEFEwokRlbHGtjrdFtM', 'ChIJYTxm0Gf2wokR5V0iFDQ-2x0'),\n",
       " ('ChIJ7-uIlEFEwokRlbHGtjrdFtM', 'ChIJ_eQYpFdmwokR756MAH2tZPw'),\n",
       " ('ChIJ7-uIlEFEwokRlbHGtjrdFtM', 'ChIJYzaRC2REwokRaH2rHpflSYk'),\n",
       " ('ChIJ7-uIlEFEwokRlbHGtjrdFtM', 'ChIJ3R85DSb2wokR1XobETRMs5E'),\n",
       " ('ChIJ7-uIlEFEwokRlbHGtjrdFtM', 'ChIJ97BgiDtfwokRsbkP6Vl1seY'),\n",
       " ('ChIJ7-uIlEFEwokRlbHGtjrdFtM', 'ChIJT1ZEl4JYwokRXQMvGg9VMPE'),\n",
       " ('ChIJ7-uIlEFEwokRlbHGtjrdFtM', 'ChIJU3IVO-tZwokRx6iWrhKQTng'),\n",
       " ('ChIJ7-uIlEFEwokRlbHGtjrdFtM', 'ChIJRR7W62BFwokRlrVks40mAdU'),\n",
       " ('ChIJ7-uIlEFEwokRlbHGtjrdFtM', 'ChIJnZ4lShdkwokRQUAn5mjU1pA'),\n",
       " ('ChIJ7-uIlEFEwokRlbHGtjrdFtM', 'ChIJG9cUYg_1wokRUNpvwM84Z4M'),\n",
       " ('ChIJ7-uIlEFEwokRlbHGtjrdFtM', 'ChIJmZQsMgFbwokRMc5I7kPdQ7w'),\n",
       " ('ChIJ7-uIlEFEwokRlbHGtjrdFtM', 'ChIJt5DcjLRFwokRyxil5Pjp3Fo'),\n",
       " ('ChIJ7-uIlEFEwokRlbHGtjrdFtM', 'ChIJ2b9se6f1wokRUN8kWpFfzN0'),\n",
       " ('ChIJU3IVO-tZwokRx6iWrhKQTng', 'Depot'),\n",
       " ('ChIJU3IVO-tZwokRx6iWrhKQTng', 'ChIJwTC7A55ZwokRPNX9g7ngbaI'),\n",
       " ('ChIJU3IVO-tZwokRx6iWrhKQTng', 'ChIJU1XImaNZwokRutunetC8XeE'),\n",
       " ('ChIJU3IVO-tZwokRx6iWrhKQTng', 'ChIJG7L-TLVbwokRT36uIrwz2Mo'),\n",
       " ('ChIJU3IVO-tZwokRx6iWrhKQTng', 'ChIJ5cPkuBtgwokRn55JgpGqjFA'),\n",
       " ('ChIJU3IVO-tZwokRx6iWrhKQTng', 'ChIJ24V7r_31wokR-S71l2zqrwc'),\n",
       " ('ChIJU3IVO-tZwokRx6iWrhKQTng', 'ChIJiUJ1DI5ZwokRWdK6SPg9BOY'),\n",
       " ('ChIJU3IVO-tZwokRx6iWrhKQTng', 'ChIJYTxm0Gf2wokR5V0iFDQ-2x0'),\n",
       " ('ChIJU3IVO-tZwokRx6iWrhKQTng', 'ChIJ_eQYpFdmwokR756MAH2tZPw'),\n",
       " ('ChIJU3IVO-tZwokRx6iWrhKQTng', 'ChIJYzaRC2REwokRaH2rHpflSYk'),\n",
       " ('ChIJU3IVO-tZwokRx6iWrhKQTng', 'ChIJ3R85DSb2wokR1XobETRMs5E'),\n",
       " ('ChIJU3IVO-tZwokRx6iWrhKQTng', 'ChIJ97BgiDtfwokRsbkP6Vl1seY'),\n",
       " ('ChIJU3IVO-tZwokRx6iWrhKQTng', 'ChIJT1ZEl4JYwokRXQMvGg9VMPE'),\n",
       " ('ChIJU3IVO-tZwokRx6iWrhKQTng', 'ChIJ7-uIlEFEwokRlbHGtjrdFtM'),\n",
       " ('ChIJU3IVO-tZwokRx6iWrhKQTng', 'ChIJRR7W62BFwokRlrVks40mAdU'),\n",
       " ('ChIJU3IVO-tZwokRx6iWrhKQTng', 'ChIJnZ4lShdkwokRQUAn5mjU1pA'),\n",
       " ('ChIJU3IVO-tZwokRx6iWrhKQTng', 'ChIJG9cUYg_1wokRUNpvwM84Z4M'),\n",
       " ('ChIJU3IVO-tZwokRx6iWrhKQTng', 'ChIJmZQsMgFbwokRMc5I7kPdQ7w'),\n",
       " ('ChIJU3IVO-tZwokRx6iWrhKQTng', 'ChIJt5DcjLRFwokRyxil5Pjp3Fo'),\n",
       " ('ChIJU3IVO-tZwokRx6iWrhKQTng', 'ChIJ2b9se6f1wokRUN8kWpFfzN0'),\n",
       " ('ChIJRR7W62BFwokRlrVks40mAdU', 'Depot'),\n",
       " ('ChIJRR7W62BFwokRlrVks40mAdU', 'ChIJwTC7A55ZwokRPNX9g7ngbaI'),\n",
       " ('ChIJRR7W62BFwokRlrVks40mAdU', 'ChIJU1XImaNZwokRutunetC8XeE'),\n",
       " ('ChIJRR7W62BFwokRlrVks40mAdU', 'ChIJG7L-TLVbwokRT36uIrwz2Mo'),\n",
       " ('ChIJRR7W62BFwokRlrVks40mAdU', 'ChIJ5cPkuBtgwokRn55JgpGqjFA'),\n",
       " ('ChIJRR7W62BFwokRlrVks40mAdU', 'ChIJ24V7r_31wokR-S71l2zqrwc'),\n",
       " ('ChIJRR7W62BFwokRlrVks40mAdU', 'ChIJiUJ1DI5ZwokRWdK6SPg9BOY'),\n",
       " ('ChIJRR7W62BFwokRlrVks40mAdU', 'ChIJYTxm0Gf2wokR5V0iFDQ-2x0'),\n",
       " ('ChIJRR7W62BFwokRlrVks40mAdU', 'ChIJ_eQYpFdmwokR756MAH2tZPw'),\n",
       " ('ChIJRR7W62BFwokRlrVks40mAdU', 'ChIJYzaRC2REwokRaH2rHpflSYk'),\n",
       " ('ChIJRR7W62BFwokRlrVks40mAdU', 'ChIJ3R85DSb2wokR1XobETRMs5E'),\n",
       " ('ChIJRR7W62BFwokRlrVks40mAdU', 'ChIJ97BgiDtfwokRsbkP6Vl1seY'),\n",
       " ('ChIJRR7W62BFwokRlrVks40mAdU', 'ChIJT1ZEl4JYwokRXQMvGg9VMPE'),\n",
       " ('ChIJRR7W62BFwokRlrVks40mAdU', 'ChIJ7-uIlEFEwokRlbHGtjrdFtM'),\n",
       " ('ChIJRR7W62BFwokRlrVks40mAdU', 'ChIJU3IVO-tZwokRx6iWrhKQTng'),\n",
       " ('ChIJRR7W62BFwokRlrVks40mAdU', 'ChIJnZ4lShdkwokRQUAn5mjU1pA'),\n",
       " ('ChIJRR7W62BFwokRlrVks40mAdU', 'ChIJG9cUYg_1wokRUNpvwM84Z4M'),\n",
       " ('ChIJRR7W62BFwokRlrVks40mAdU', 'ChIJmZQsMgFbwokRMc5I7kPdQ7w'),\n",
       " ('ChIJRR7W62BFwokRlrVks40mAdU', 'ChIJt5DcjLRFwokRyxil5Pjp3Fo'),\n",
       " ('ChIJRR7W62BFwokRlrVks40mAdU', 'ChIJ2b9se6f1wokRUN8kWpFfzN0'),\n",
       " ('ChIJnZ4lShdkwokRQUAn5mjU1pA', 'Depot'),\n",
       " ('ChIJnZ4lShdkwokRQUAn5mjU1pA', 'ChIJwTC7A55ZwokRPNX9g7ngbaI'),\n",
       " ('ChIJnZ4lShdkwokRQUAn5mjU1pA', 'ChIJU1XImaNZwokRutunetC8XeE'),\n",
       " ('ChIJnZ4lShdkwokRQUAn5mjU1pA', 'ChIJG7L-TLVbwokRT36uIrwz2Mo'),\n",
       " ('ChIJnZ4lShdkwokRQUAn5mjU1pA', 'ChIJ5cPkuBtgwokRn55JgpGqjFA'),\n",
       " ('ChIJnZ4lShdkwokRQUAn5mjU1pA', 'ChIJ24V7r_31wokR-S71l2zqrwc'),\n",
       " ('ChIJnZ4lShdkwokRQUAn5mjU1pA', 'ChIJiUJ1DI5ZwokRWdK6SPg9BOY'),\n",
       " ('ChIJnZ4lShdkwokRQUAn5mjU1pA', 'ChIJYTxm0Gf2wokR5V0iFDQ-2x0'),\n",
       " ('ChIJnZ4lShdkwokRQUAn5mjU1pA', 'ChIJ_eQYpFdmwokR756MAH2tZPw'),\n",
       " ('ChIJnZ4lShdkwokRQUAn5mjU1pA', 'ChIJYzaRC2REwokRaH2rHpflSYk'),\n",
       " ('ChIJnZ4lShdkwokRQUAn5mjU1pA', 'ChIJ3R85DSb2wokR1XobETRMs5E'),\n",
       " ('ChIJnZ4lShdkwokRQUAn5mjU1pA', 'ChIJ97BgiDtfwokRsbkP6Vl1seY'),\n",
       " ('ChIJnZ4lShdkwokRQUAn5mjU1pA', 'ChIJT1ZEl4JYwokRXQMvGg9VMPE'),\n",
       " ('ChIJnZ4lShdkwokRQUAn5mjU1pA', 'ChIJ7-uIlEFEwokRlbHGtjrdFtM'),\n",
       " ('ChIJnZ4lShdkwokRQUAn5mjU1pA', 'ChIJU3IVO-tZwokRx6iWrhKQTng'),\n",
       " ('ChIJnZ4lShdkwokRQUAn5mjU1pA', 'ChIJRR7W62BFwokRlrVks40mAdU'),\n",
       " ('ChIJnZ4lShdkwokRQUAn5mjU1pA', 'ChIJG9cUYg_1wokRUNpvwM84Z4M'),\n",
       " ('ChIJnZ4lShdkwokRQUAn5mjU1pA', 'ChIJmZQsMgFbwokRMc5I7kPdQ7w'),\n",
       " ('ChIJnZ4lShdkwokRQUAn5mjU1pA', 'ChIJt5DcjLRFwokRyxil5Pjp3Fo'),\n",
       " ('ChIJnZ4lShdkwokRQUAn5mjU1pA', 'ChIJ2b9se6f1wokRUN8kWpFfzN0'),\n",
       " ('ChIJG9cUYg_1wokRUNpvwM84Z4M', 'Depot'),\n",
       " ('ChIJG9cUYg_1wokRUNpvwM84Z4M', 'ChIJwTC7A55ZwokRPNX9g7ngbaI'),\n",
       " ('ChIJG9cUYg_1wokRUNpvwM84Z4M', 'ChIJU1XImaNZwokRutunetC8XeE'),\n",
       " ('ChIJG9cUYg_1wokRUNpvwM84Z4M', 'ChIJG7L-TLVbwokRT36uIrwz2Mo'),\n",
       " ('ChIJG9cUYg_1wokRUNpvwM84Z4M', 'ChIJ5cPkuBtgwokRn55JgpGqjFA'),\n",
       " ('ChIJG9cUYg_1wokRUNpvwM84Z4M', 'ChIJ24V7r_31wokR-S71l2zqrwc'),\n",
       " ('ChIJG9cUYg_1wokRUNpvwM84Z4M', 'ChIJiUJ1DI5ZwokRWdK6SPg9BOY'),\n",
       " ('ChIJG9cUYg_1wokRUNpvwM84Z4M', 'ChIJYTxm0Gf2wokR5V0iFDQ-2x0'),\n",
       " ('ChIJG9cUYg_1wokRUNpvwM84Z4M', 'ChIJ_eQYpFdmwokR756MAH2tZPw'),\n",
       " ('ChIJG9cUYg_1wokRUNpvwM84Z4M', 'ChIJYzaRC2REwokRaH2rHpflSYk'),\n",
       " ('ChIJG9cUYg_1wokRUNpvwM84Z4M', 'ChIJ3R85DSb2wokR1XobETRMs5E'),\n",
       " ('ChIJG9cUYg_1wokRUNpvwM84Z4M', 'ChIJ97BgiDtfwokRsbkP6Vl1seY'),\n",
       " ('ChIJG9cUYg_1wokRUNpvwM84Z4M', 'ChIJT1ZEl4JYwokRXQMvGg9VMPE'),\n",
       " ('ChIJG9cUYg_1wokRUNpvwM84Z4M', 'ChIJ7-uIlEFEwokRlbHGtjrdFtM'),\n",
       " ('ChIJG9cUYg_1wokRUNpvwM84Z4M', 'ChIJU3IVO-tZwokRx6iWrhKQTng'),\n",
       " ('ChIJG9cUYg_1wokRUNpvwM84Z4M', 'ChIJRR7W62BFwokRlrVks40mAdU'),\n",
       " ('ChIJG9cUYg_1wokRUNpvwM84Z4M', 'ChIJnZ4lShdkwokRQUAn5mjU1pA'),\n",
       " ('ChIJG9cUYg_1wokRUNpvwM84Z4M', 'ChIJmZQsMgFbwokRMc5I7kPdQ7w'),\n",
       " ('ChIJG9cUYg_1wokRUNpvwM84Z4M', 'ChIJt5DcjLRFwokRyxil5Pjp3Fo'),\n",
       " ('ChIJG9cUYg_1wokRUNpvwM84Z4M', 'ChIJ2b9se6f1wokRUN8kWpFfzN0'),\n",
       " ('ChIJmZQsMgFbwokRMc5I7kPdQ7w', 'Depot'),\n",
       " ('ChIJmZQsMgFbwokRMc5I7kPdQ7w', 'ChIJwTC7A55ZwokRPNX9g7ngbaI'),\n",
       " ('ChIJmZQsMgFbwokRMc5I7kPdQ7w', 'ChIJU1XImaNZwokRutunetC8XeE'),\n",
       " ('ChIJmZQsMgFbwokRMc5I7kPdQ7w', 'ChIJG7L-TLVbwokRT36uIrwz2Mo'),\n",
       " ('ChIJmZQsMgFbwokRMc5I7kPdQ7w', 'ChIJ5cPkuBtgwokRn55JgpGqjFA'),\n",
       " ('ChIJmZQsMgFbwokRMc5I7kPdQ7w', 'ChIJ24V7r_31wokR-S71l2zqrwc'),\n",
       " ('ChIJmZQsMgFbwokRMc5I7kPdQ7w', 'ChIJiUJ1DI5ZwokRWdK6SPg9BOY'),\n",
       " ('ChIJmZQsMgFbwokRMc5I7kPdQ7w', 'ChIJYTxm0Gf2wokR5V0iFDQ-2x0'),\n",
       " ('ChIJmZQsMgFbwokRMc5I7kPdQ7w', 'ChIJ_eQYpFdmwokR756MAH2tZPw'),\n",
       " ('ChIJmZQsMgFbwokRMc5I7kPdQ7w', 'ChIJYzaRC2REwokRaH2rHpflSYk'),\n",
       " ('ChIJmZQsMgFbwokRMc5I7kPdQ7w', 'ChIJ3R85DSb2wokR1XobETRMs5E'),\n",
       " ('ChIJmZQsMgFbwokRMc5I7kPdQ7w', 'ChIJ97BgiDtfwokRsbkP6Vl1seY'),\n",
       " ('ChIJmZQsMgFbwokRMc5I7kPdQ7w', 'ChIJT1ZEl4JYwokRXQMvGg9VMPE'),\n",
       " ('ChIJmZQsMgFbwokRMc5I7kPdQ7w', 'ChIJ7-uIlEFEwokRlbHGtjrdFtM'),\n",
       " ('ChIJmZQsMgFbwokRMc5I7kPdQ7w', 'ChIJU3IVO-tZwokRx6iWrhKQTng'),\n",
       " ('ChIJmZQsMgFbwokRMc5I7kPdQ7w', 'ChIJRR7W62BFwokRlrVks40mAdU'),\n",
       " ('ChIJmZQsMgFbwokRMc5I7kPdQ7w', 'ChIJnZ4lShdkwokRQUAn5mjU1pA'),\n",
       " ('ChIJmZQsMgFbwokRMc5I7kPdQ7w', 'ChIJG9cUYg_1wokRUNpvwM84Z4M'),\n",
       " ('ChIJmZQsMgFbwokRMc5I7kPdQ7w', 'ChIJt5DcjLRFwokRyxil5Pjp3Fo'),\n",
       " ('ChIJmZQsMgFbwokRMc5I7kPdQ7w', 'ChIJ2b9se6f1wokRUN8kWpFfzN0'),\n",
       " ('ChIJt5DcjLRFwokRyxil5Pjp3Fo', 'Depot'),\n",
       " ('ChIJt5DcjLRFwokRyxil5Pjp3Fo', 'ChIJwTC7A55ZwokRPNX9g7ngbaI'),\n",
       " ('ChIJt5DcjLRFwokRyxil5Pjp3Fo', 'ChIJU1XImaNZwokRutunetC8XeE'),\n",
       " ('ChIJt5DcjLRFwokRyxil5Pjp3Fo', 'ChIJG7L-TLVbwokRT36uIrwz2Mo'),\n",
       " ('ChIJt5DcjLRFwokRyxil5Pjp3Fo', 'ChIJ5cPkuBtgwokRn55JgpGqjFA'),\n",
       " ('ChIJt5DcjLRFwokRyxil5Pjp3Fo', 'ChIJ24V7r_31wokR-S71l2zqrwc'),\n",
       " ('ChIJt5DcjLRFwokRyxil5Pjp3Fo', 'ChIJiUJ1DI5ZwokRWdK6SPg9BOY'),\n",
       " ('ChIJt5DcjLRFwokRyxil5Pjp3Fo', 'ChIJYTxm0Gf2wokR5V0iFDQ-2x0'),\n",
       " ('ChIJt5DcjLRFwokRyxil5Pjp3Fo', 'ChIJ_eQYpFdmwokR756MAH2tZPw'),\n",
       " ('ChIJt5DcjLRFwokRyxil5Pjp3Fo', 'ChIJYzaRC2REwokRaH2rHpflSYk'),\n",
       " ('ChIJt5DcjLRFwokRyxil5Pjp3Fo', 'ChIJ3R85DSb2wokR1XobETRMs5E'),\n",
       " ('ChIJt5DcjLRFwokRyxil5Pjp3Fo', 'ChIJ97BgiDtfwokRsbkP6Vl1seY'),\n",
       " ('ChIJt5DcjLRFwokRyxil5Pjp3Fo', 'ChIJT1ZEl4JYwokRXQMvGg9VMPE'),\n",
       " ('ChIJt5DcjLRFwokRyxil5Pjp3Fo', 'ChIJ7-uIlEFEwokRlbHGtjrdFtM'),\n",
       " ('ChIJt5DcjLRFwokRyxil5Pjp3Fo', 'ChIJU3IVO-tZwokRx6iWrhKQTng'),\n",
       " ('ChIJt5DcjLRFwokRyxil5Pjp3Fo', 'ChIJRR7W62BFwokRlrVks40mAdU'),\n",
       " ('ChIJt5DcjLRFwokRyxil5Pjp3Fo', 'ChIJnZ4lShdkwokRQUAn5mjU1pA'),\n",
       " ('ChIJt5DcjLRFwokRyxil5Pjp3Fo', 'ChIJG9cUYg_1wokRUNpvwM84Z4M'),\n",
       " ('ChIJt5DcjLRFwokRyxil5Pjp3Fo', 'ChIJmZQsMgFbwokRMc5I7kPdQ7w'),\n",
       " ('ChIJt5DcjLRFwokRyxil5Pjp3Fo', 'ChIJ2b9se6f1wokRUN8kWpFfzN0'),\n",
       " ('ChIJ2b9se6f1wokRUN8kWpFfzN0', 'Depot'),\n",
       " ('ChIJ2b9se6f1wokRUN8kWpFfzN0', 'ChIJwTC7A55ZwokRPNX9g7ngbaI'),\n",
       " ('ChIJ2b9se6f1wokRUN8kWpFfzN0', 'ChIJU1XImaNZwokRutunetC8XeE'),\n",
       " ('ChIJ2b9se6f1wokRUN8kWpFfzN0', 'ChIJG7L-TLVbwokRT36uIrwz2Mo'),\n",
       " ('ChIJ2b9se6f1wokRUN8kWpFfzN0', 'ChIJ5cPkuBtgwokRn55JgpGqjFA'),\n",
       " ('ChIJ2b9se6f1wokRUN8kWpFfzN0', 'ChIJ24V7r_31wokR-S71l2zqrwc'),\n",
       " ('ChIJ2b9se6f1wokRUN8kWpFfzN0', 'ChIJiUJ1DI5ZwokRWdK6SPg9BOY'),\n",
       " ('ChIJ2b9se6f1wokRUN8kWpFfzN0', 'ChIJYTxm0Gf2wokR5V0iFDQ-2x0'),\n",
       " ('ChIJ2b9se6f1wokRUN8kWpFfzN0', 'ChIJ_eQYpFdmwokR756MAH2tZPw'),\n",
       " ('ChIJ2b9se6f1wokRUN8kWpFfzN0', 'ChIJYzaRC2REwokRaH2rHpflSYk'),\n",
       " ('ChIJ2b9se6f1wokRUN8kWpFfzN0', 'ChIJ3R85DSb2wokR1XobETRMs5E'),\n",
       " ('ChIJ2b9se6f1wokRUN8kWpFfzN0', 'ChIJ97BgiDtfwokRsbkP6Vl1seY'),\n",
       " ('ChIJ2b9se6f1wokRUN8kWpFfzN0', 'ChIJT1ZEl4JYwokRXQMvGg9VMPE'),\n",
       " ('ChIJ2b9se6f1wokRUN8kWpFfzN0', 'ChIJ7-uIlEFEwokRlbHGtjrdFtM'),\n",
       " ('ChIJ2b9se6f1wokRUN8kWpFfzN0', 'ChIJU3IVO-tZwokRx6iWrhKQTng'),\n",
       " ('ChIJ2b9se6f1wokRUN8kWpFfzN0', 'ChIJRR7W62BFwokRlrVks40mAdU'),\n",
       " ('ChIJ2b9se6f1wokRUN8kWpFfzN0', 'ChIJnZ4lShdkwokRQUAn5mjU1pA'),\n",
       " ('ChIJ2b9se6f1wokRUN8kWpFfzN0', 'ChIJG9cUYg_1wokRUNpvwM84Z4M'),\n",
       " ('ChIJ2b9se6f1wokRUN8kWpFfzN0', 'ChIJmZQsMgFbwokRMc5I7kPdQ7w'),\n",
       " ('ChIJ2b9se6f1wokRUN8kWpFfzN0', 'ChIJt5DcjLRFwokRyxil5Pjp3Fo')]"
      ]
     },
     "execution_count": 7,
     "metadata": {},
     "output_type": "execute_result"
    }
   ],
   "execution_count": 7
  },
  {
   "metadata": {
    "ExecuteTime": {
     "end_time": "2025-01-24T15:49:20.422760Z",
     "start_time": "2025-01-24T15:49:20.411355Z"
    }
   },
   "cell_type": "code",
   "source": [
    "# A set of variables x is created to contain the vehicle routes variables (binary var)\n",
    "x = {}\n",
    "for a in A:\n",
    "    x[a] = LpVariable(\"x(%s,%s)\" %a, cat=LpBinary)\n",
    "\n",
    "# A set of variables u is created to contain the continuous delivered quantity\n",
    "u = {}\n",
    "for shop in shops:\n",
    "    u[shop] = LpVariable(\"u(%s)\" %shop, shop_demands[shop], van_capacity)"
   ],
   "id": "a0d5f44f38ebe170",
   "outputs": [],
   "execution_count": 8
  },
  {
   "metadata": {
    "ExecuteTime": {
     "end_time": "2025-01-24T15:49:20.482805Z",
     "start_time": "2025-01-24T15:49:20.476388Z"
    }
   },
   "cell_type": "code",
   "source": [
    "# Creates the 'prob' variable to contain the problem data\n",
    "prob = LpProblem(\"CVRP_Problem\",LpMinimize)"
   ],
   "id": "2b59dc4d26b2708c",
   "outputs": [],
   "execution_count": 9
  },
  {
   "metadata": {
    "ExecuteTime": {
     "end_time": "2025-01-24T15:49:20.559340Z",
     "start_time": "2025-01-24T15:49:20.543178Z"
    }
   },
   "cell_type": "code",
   "source": [
    "# The objective function is added to 'prob' first\n",
    "prob += lpSum(cost_matrix.loc[i,j]*x[i,j] for (i,j) in A)"
   ],
   "id": "c837769839190df3",
   "outputs": [],
   "execution_count": 10
  },
  {
   "metadata": {
    "ExecuteTime": {
     "end_time": "2025-01-24T15:49:20.585651Z",
     "start_time": "2025-01-24T15:49:20.578345Z"
    }
   },
   "cell_type": "code",
   "source": [
    "#Constraint 1 : imposes that exactly one arc enters each customer node\n",
    "one_visit_out = {}\n",
    "for shop in shops:\n",
    "    one_visit_out[shop] = lpSum([x[shop,node] for node in nodes if shop!=node]) == 1.0\n",
    "    prob += one_visit_out[shop]"
   ],
   "id": "7d69d6f804ee42f1",
   "outputs": [],
   "execution_count": 11
  },
  {
   "metadata": {
    "ExecuteTime": {
     "end_time": "2025-01-24T15:49:20.609901Z",
     "start_time": "2025-01-24T15:49:20.604319Z"
    }
   },
   "cell_type": "code",
   "source": [
    "#Constraint 2 : imposes that exactly one arc leaves each customer node\n",
    "one_visit_in = {}\n",
    "for shop in shops:\n",
    "    one_visit_in[shop] = lpSum([x[node,shop] for node in nodes if node!=shop]) == 1.0\n",
    "    prob += one_visit_in[shop]"
   ],
   "id": "aa9030c5d13266c7",
   "outputs": [],
   "execution_count": 12
  },
  {
   "metadata": {
    "ExecuteTime": {
     "end_time": "2025-01-24T15:49:20.631356Z",
     "start_time": "2025-01-24T15:49:20.626597Z"
    }
   },
   "cell_type": "code",
   "source": [
    "#Constraint 4 : imposes the amount of flow that leaves the depot should be identical\n",
    "#with the flow returns to the depot\n",
    "depot_node = lpSum([x['Depot',shop] for shop in shops]) == lpSum([x[shop,'Depot'] for shop in shops])\n",
    "prob += depot_node"
   ],
   "id": "8e6ed35c0dcc85d8",
   "outputs": [],
   "execution_count": 13
  },
  {
   "metadata": {
    "ExecuteTime": {
     "end_time": "2025-01-24T15:49:20.661910Z",
     "start_time": "2025-01-24T15:49:20.649257Z"
    }
   },
   "cell_type": "code",
   "source": [
    "#Constraint 5 : vehicle capacity constraint and sub tour elimination constraint\n",
    "sub_tours_cap = {}\n",
    "for shop_out in shops:\n",
    "    for shop_in in shops:\n",
    "        if shop_out != shop_in:\n",
    "            sub_tours_cap[shop_out,shop_in] = u[shop_out] - u[shop_in] + van_capacity * x[shop_out,shop_in] <= van_capacity - shop_demands[shop_in]\n",
    "            prob += sub_tours_cap[shop_out,shop_in]"
   ],
   "id": "d94e0051c4020428",
   "outputs": [],
   "execution_count": 14
  },
  {
   "metadata": {
    "ExecuteTime": {
     "end_time": "2025-01-24T15:50:47.695738Z",
     "start_time": "2025-01-24T15:49:33.009282Z"
    }
   },
   "cell_type": "code",
   "source": [
    "# The problem is solved using PuLP's choice of Solver (ici Cplex, retourne 1 si résolu, -1 sinon)\n",
    "prob.solve(GUROBI(msg=False, timeLimit=600))"
   ],
   "id": "8f583d93652d3054",
   "outputs": [
    {
     "data": {
      "text/plain": [
       "1"
      ]
     },
     "execution_count": 21,
     "metadata": {},
     "output_type": "execute_result"
    }
   ],
   "execution_count": 21
  },
  {
   "metadata": {
    "ExecuteTime": {
     "end_time": "2025-01-24T15:50:47.750011Z",
     "start_time": "2025-01-24T15:50:47.744742Z"
    }
   },
   "cell_type": "code",
   "source": [
    "# The status of the solution is printed to the screen (optimal ou pas)\n",
    "print(\"Status:\", LpStatus[prob.status])"
   ],
   "id": "690a536ee2a24406",
   "outputs": [
    {
     "name": "stdout",
     "output_type": "stream",
     "text": [
      "Status: Optimal\n"
     ]
    }
   ],
   "execution_count": 22
  },
  {
   "metadata": {
    "ExecuteTime": {
     "end_time": "2025-01-24T15:50:47.839653Z",
     "start_time": "2025-01-24T15:50:47.833295Z"
    }
   },
   "cell_type": "code",
   "source": [
    "# Each of the variables is printed with it's resolved optimum value\n",
    "for key,val in x.items():\n",
    "    if val.varValue==1.0:\n",
    "        print(val,\"=\",val.varValue)"
   ],
   "id": "6b64458f47b46b17",
   "outputs": [
    {
     "name": "stdout",
     "output_type": "stream",
     "text": [
      "x(Depot,ChIJ97BgiDtfwokRsbkP6Vl1seY) = 1.0\n",
      "x(Depot,ChIJmZQsMgFbwokRMc5I7kPdQ7w) = 1.0\n",
      "x(ChIJwTC7A55ZwokRPNX9g7ngbaI,Depot) = 1.0\n",
      "x(ChIJU1XImaNZwokRutunetC8XeE,ChIJwTC7A55ZwokRPNX9g7ngbaI) = 1.0\n",
      "x(ChIJG7L_TLVbwokRT36uIrwz2Mo,ChIJRR7W62BFwokRlrVks40mAdU) = 1.0\n",
      "x(ChIJ5cPkuBtgwokRn55JgpGqjFA,ChIJ_eQYpFdmwokR756MAH2tZPw) = 1.0\n",
      "x(ChIJ24V7r_31wokR_S71l2zqrwc,ChIJT1ZEl4JYwokRXQMvGg9VMPE) = 1.0\n",
      "x(ChIJiUJ1DI5ZwokRWdK6SPg9BOY,Depot) = 1.0\n",
      "x(ChIJYTxm0Gf2wokR5V0iFDQ_2x0,ChIJ2b9se6f1wokRUN8kWpFfzN0) = 1.0\n",
      "x(ChIJ_eQYpFdmwokR756MAH2tZPw,ChIJnZ4lShdkwokRQUAn5mjU1pA) = 1.0\n",
      "x(ChIJYzaRC2REwokRaH2rHpflSYk,ChIJ7_uIlEFEwokRlbHGtjrdFtM) = 1.0\n",
      "x(ChIJ3R85DSb2wokR1XobETRMs5E,ChIJYTxm0Gf2wokR5V0iFDQ_2x0) = 1.0\n",
      "x(ChIJ97BgiDtfwokRsbkP6Vl1seY,ChIJ24V7r_31wokR_S71l2zqrwc) = 1.0\n",
      "x(ChIJT1ZEl4JYwokRXQMvGg9VMPE,ChIJ3R85DSb2wokR1XobETRMs5E) = 1.0\n",
      "x(ChIJ7_uIlEFEwokRlbHGtjrdFtM,ChIJt5DcjLRFwokRyxil5Pjp3Fo) = 1.0\n",
      "x(ChIJU3IVO_tZwokRx6iWrhKQTng,ChIJiUJ1DI5ZwokRWdK6SPg9BOY) = 1.0\n",
      "x(ChIJRR7W62BFwokRlrVks40mAdU,ChIJYzaRC2REwokRaH2rHpflSYk) = 1.0\n",
      "x(ChIJnZ4lShdkwokRQUAn5mjU1pA,ChIJU3IVO_tZwokRx6iWrhKQTng) = 1.0\n",
      "x(ChIJG9cUYg_1wokRUNpvwM84Z4M,ChIJ5cPkuBtgwokRn55JgpGqjFA) = 1.0\n",
      "x(ChIJmZQsMgFbwokRMc5I7kPdQ7w,ChIJG7L_TLVbwokRT36uIrwz2Mo) = 1.0\n",
      "x(ChIJt5DcjLRFwokRyxil5Pjp3Fo,ChIJU1XImaNZwokRutunetC8XeE) = 1.0\n",
      "x(ChIJ2b9se6f1wokRUN8kWpFfzN0,ChIJG9cUYg_1wokRUNpvwM84Z4M) = 1.0\n"
     ]
    }
   ],
   "execution_count": 23
  },
  {
   "metadata": {
    "ExecuteTime": {
     "end_time": "2025-01-24T15:50:47.907405Z",
     "start_time": "2025-01-24T15:50:47.902487Z"
    }
   },
   "cell_type": "code",
   "source": [
    "# The optimised objective function value is printed to the screen\n",
    "print(\"Total Cost = \", value(prob.objective))"
   ],
   "id": "7a2be0ae9b7f78eb",
   "outputs": [
    {
     "name": "stdout",
     "output_type": "stream",
     "text": [
      "Total Cost =  73.66304926808475\n"
     ]
    }
   ],
   "execution_count": 24
  },
  {
   "metadata": {
    "ExecuteTime": {
     "end_time": "2025-01-24T15:50:47.968172Z",
     "start_time": "2025-01-24T15:50:47.960472Z"
    }
   },
   "cell_type": "code",
   "source": [
    "# Afficher les acrs correspondant à la solution\n",
    "active_arcs = [key for key,val in x.items() if val.varValue >=0.9 ]\n",
    "find_loops(active_arcs)\n"
   ],
   "id": "1c96e1662bc46f67",
   "outputs": [
    {
     "data": {
      "text/plain": [
       "[[('Depot', 'ChIJ97BgiDtfwokRsbkP6Vl1seY'),\n",
       "  ('ChIJ97BgiDtfwokRsbkP6Vl1seY', 'ChIJ24V7r_31wokR-S71l2zqrwc'),\n",
       "  ('ChIJ24V7r_31wokR-S71l2zqrwc', 'ChIJT1ZEl4JYwokRXQMvGg9VMPE'),\n",
       "  ('ChIJT1ZEl4JYwokRXQMvGg9VMPE', 'ChIJ3R85DSb2wokR1XobETRMs5E'),\n",
       "  ('ChIJ3R85DSb2wokR1XobETRMs5E', 'ChIJYTxm0Gf2wokR5V0iFDQ-2x0'),\n",
       "  ('ChIJYTxm0Gf2wokR5V0iFDQ-2x0', 'ChIJ2b9se6f1wokRUN8kWpFfzN0'),\n",
       "  ('ChIJ2b9se6f1wokRUN8kWpFfzN0', 'ChIJG9cUYg_1wokRUNpvwM84Z4M'),\n",
       "  ('ChIJG9cUYg_1wokRUNpvwM84Z4M', 'ChIJ5cPkuBtgwokRn55JgpGqjFA'),\n",
       "  ('ChIJ5cPkuBtgwokRn55JgpGqjFA', 'ChIJ_eQYpFdmwokR756MAH2tZPw'),\n",
       "  ('ChIJ_eQYpFdmwokR756MAH2tZPw', 'ChIJnZ4lShdkwokRQUAn5mjU1pA'),\n",
       "  ('ChIJnZ4lShdkwokRQUAn5mjU1pA', 'ChIJU3IVO-tZwokRx6iWrhKQTng'),\n",
       "  ('ChIJU3IVO-tZwokRx6iWrhKQTng', 'ChIJiUJ1DI5ZwokRWdK6SPg9BOY'),\n",
       "  ('ChIJiUJ1DI5ZwokRWdK6SPg9BOY', 'Depot')],\n",
       " [('Depot', 'ChIJmZQsMgFbwokRMc5I7kPdQ7w'),\n",
       "  ('ChIJmZQsMgFbwokRMc5I7kPdQ7w', 'ChIJG7L-TLVbwokRT36uIrwz2Mo'),\n",
       "  ('ChIJG7L-TLVbwokRT36uIrwz2Mo', 'ChIJRR7W62BFwokRlrVks40mAdU'),\n",
       "  ('ChIJRR7W62BFwokRlrVks40mAdU', 'ChIJYzaRC2REwokRaH2rHpflSYk'),\n",
       "  ('ChIJYzaRC2REwokRaH2rHpflSYk', 'ChIJ7-uIlEFEwokRlbHGtjrdFtM'),\n",
       "  ('ChIJ7-uIlEFEwokRlbHGtjrdFtM', 'ChIJt5DcjLRFwokRyxil5Pjp3Fo'),\n",
       "  ('ChIJt5DcjLRFwokRyxil5Pjp3Fo', 'ChIJU1XImaNZwokRutunetC8XeE'),\n",
       "  ('ChIJU1XImaNZwokRutunetC8XeE', 'ChIJwTC7A55ZwokRPNX9g7ngbaI'),\n",
       "  ('ChIJwTC7A55ZwokRPNX9g7ngbaI', 'Depot')]]"
      ]
     },
     "execution_count": 25,
     "metadata": {},
     "output_type": "execute_result"
    }
   ],
   "execution_count": 25
  },
  {
   "metadata": {
    "ExecuteTime": {
     "end_time": "2025-01-24T15:50:48.016673Z",
     "start_time": "2025-01-24T15:50:48.008239Z"
    }
   },
   "cell_type": "code",
   "source": [
    "# Each of the variables is printed with it's resolved optimum value\n",
    "for key,val in u.items():\n",
    "    print(val,\"=\",val.varValue)"
   ],
   "id": "d31d900f180483d8",
   "outputs": [
    {
     "name": "stdout",
     "output_type": "stream",
     "text": [
      "u(ChIJwTC7A55ZwokRPNX9g7ngbaI) = 300.0\n",
      "u(ChIJU1XImaNZwokRutunetC8XeE) = 279.0\n",
      "u(ChIJG7L_TLVbwokRT36uIrwz2Mo) = 44.0\n",
      "u(ChIJ5cPkuBtgwokRn55JgpGqjFA) = 194.0\n",
      "u(ChIJ24V7r_31wokR_S71l2zqrwc) = 36.0\n",
      "u(ChIJiUJ1DI5ZwokRWdK6SPg9BOY) = 300.0\n",
      "u(ChIJYTxm0Gf2wokR5V0iFDQ_2x0) = 105.0\n",
      "u(ChIJ_eQYpFdmwokR756MAH2tZPw) = 228.0\n",
      "u(ChIJYzaRC2REwokRaH2rHpflSYk) = 83.0\n",
      "u(ChIJ3R85DSb2wokR1XobETRMs5E) = 87.0\n",
      "u(ChIJ97BgiDtfwokRsbkP6Vl1seY) = 19.0\n",
      "u(ChIJT1ZEl4JYwokRXQMvGg9VMPE) = 62.0\n",
      "u(ChIJ7_uIlEFEwokRlbHGtjrdFtM) = 225.0\n",
      "u(ChIJU3IVO_tZwokRx6iWrhKQTng) = 285.0\n",
      "u(ChIJRR7W62BFwokRlrVks40mAdU) = 67.0\n",
      "u(ChIJnZ4lShdkwokRQUAn5mjU1pA) = 261.0\n",
      "u(ChIJG9cUYg_1wokRUNpvwM84Z4M) = 164.0\n",
      "u(ChIJmZQsMgFbwokRMc5I7kPdQ7w) = 23.0\n",
      "u(ChIJt5DcjLRFwokRyxil5Pjp3Fo) = 246.0\n",
      "u(ChIJ2b9se6f1wokRUN8kWpFfzN0) = 133.0\n"
     ]
    }
   ],
   "execution_count": 26
  }
 ],
 "metadata": {
  "kernelspec": {
   "name": "python3",
   "language": "python",
   "display_name": "Python 3 (ipykernel)"
  }
 },
 "nbformat": 5,
 "nbformat_minor": 9
}
