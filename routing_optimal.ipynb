{
 "cells": [
  {
   "metadata": {
    "ExecuteTime": {
     "end_time": "2025-01-21T08:02:06.637055Z",
     "start_time": "2025-01-21T08:02:06.631459Z"
    }
   },
   "cell_type": "code",
   "source": [
    "import numpy as np\n",
    "import matplotlib.pyplot as plt\n",
    "import pandas as pd\n",
    "from pandas.core.internals.construction import to_arrays\n",
    "from prompt_toolkit.utils import to_int\n",
    "from pulp import *"
   ],
   "id": "72e5dd11c08c071d",
   "outputs": [],
   "execution_count": 31
  },
  {
   "metadata": {},
   "cell_type": "markdown",
   "source": "## Cost matrix",
   "id": "284dc1862f7655f4"
  },
  {
   "metadata": {
    "ExecuteTime": {
     "end_time": "2025-01-21T08:02:06.997190Z",
     "start_time": "2025-01-21T08:02:06.989235Z"
    }
   },
   "cell_type": "code",
   "source": "cost_matrix = pd.read_csv('cost_matrix.csv').to_numpy()",
   "id": "4305b3f1c116b814",
   "outputs": [],
   "execution_count": 32
  },
  {
   "metadata": {
    "ExecuteTime": {
     "end_time": "2025-01-21T08:02:07.351072Z",
     "start_time": "2025-01-21T08:02:07.345658Z"
    }
   },
   "cell_type": "code",
   "source": [
    "# Number of shops to visit\n",
    "n = cost_matrix.shape[0]\n",
    "\n",
    "# Calculate M\n",
    "M = 0\n",
    "for i in range(n):\n",
    "    for j in range(n):\n",
    "        M += cost_matrix[i,j]\n",
    "\n",
    "# M cost for the path i->i\n",
    "for i in range(n):\n",
    "    cost_matrix[i,i] = M + 1"
   ],
   "id": "5db47bdcc8f2967",
   "outputs": [],
   "execution_count": 33
  },
  {
   "metadata": {},
   "cell_type": "markdown",
   "source": "## Shop demands",
   "id": "49ddbbba79817b77"
  },
  {
   "metadata": {
    "ExecuteTime": {
     "end_time": "2025-01-21T08:02:07.693518Z",
     "start_time": "2025-01-21T08:02:07.687083Z"
    }
   },
   "cell_type": "code",
   "source": "shop_demands = pd.read_csv('shop_demands.csv').to_numpy()",
   "id": "c4d90f542d26ad77",
   "outputs": [],
   "execution_count": 34
  },
  {
   "metadata": {},
   "cell_type": "markdown",
   "source": "## Vehicle routing problem",
   "id": "a47378ffa51ea768"
  },
  {
   "metadata": {
    "ExecuteTime": {
     "end_time": "2025-01-21T08:02:08.021711Z",
     "start_time": "2025-01-21T08:02:08.015487Z"
    }
   },
   "cell_type": "code",
   "source": [
    "# Vehicle capacity\n",
    "van_capacity = 300\n",
    "\n",
    "#Set N of shops\n",
    "N = [i for i in range(1,n)]\n",
    "\n",
    "#Set of shops and storage\n",
    "V = [0] + N"
   ],
   "id": "ecc1729b084daedb",
   "outputs": [],
   "execution_count": 35
  },
  {
   "metadata": {
    "ExecuteTime": {
     "end_time": "2025-01-21T08:02:08.349495Z",
     "start_time": "2025-01-21T08:02:08.344933Z"
    }
   },
   "cell_type": "code",
   "source": [
    "# Creates a list of tuples containing all the possible routes for transport\n",
    "A=[(i,j) for i in V for j in V if i!=j]"
   ],
   "id": "513402ef55feb2c1",
   "outputs": [],
   "execution_count": 36
  },
  {
   "metadata": {
    "ExecuteTime": {
     "end_time": "2025-01-21T08:02:08.683957Z",
     "start_time": "2025-01-21T08:02:08.677137Z"
    }
   },
   "cell_type": "code",
   "source": [
    "# A set of variables x is created to contain the vehicle routes variables (binary var)\n",
    "x = {}\n",
    "for a in A:\n",
    "    x[a] = LpVariable(\"x(%s,%s)\" %a, cat=LpBinary)\n",
    "\n",
    "# A set of variables u is created to contain the continuous delivered quantity\n",
    "u = {}\n",
    "for i in N:\n",
    "    u[i] = LpVariable(\"u(%s)\" %i, shop_demands[i], van_capacity)"
   ],
   "id": "a9554e74ffbf8625",
   "outputs": [],
   "execution_count": 37
  },
  {
   "metadata": {
    "ExecuteTime": {
     "end_time": "2025-01-21T08:02:08.998400Z",
     "start_time": "2025-01-21T08:02:08.994463Z"
    }
   },
   "cell_type": "code",
   "source": [
    "# Creates the 'prob' variable to contain the problem data\n",
    "prob = LpProblem(\"CVRP_Problem\",LpMinimize)"
   ],
   "id": "fe989dacbe81eeda",
   "outputs": [],
   "execution_count": 38
  },
  {
   "metadata": {
    "ExecuteTime": {
     "end_time": "2025-01-21T08:02:09.325563Z",
     "start_time": "2025-01-21T08:02:09.320667Z"
    }
   },
   "cell_type": "code",
   "source": [
    "# The objective function is added to 'prob' first\n",
    "prob += lpSum(cost_matrix[i,j]*x[i,j] for (i,j) in A)"
   ],
   "id": "57dad9ddbd20511f",
   "outputs": [],
   "execution_count": 39
  },
  {
   "metadata": {
    "ExecuteTime": {
     "end_time": "2025-01-21T08:02:09.652106Z",
     "start_time": "2025-01-21T08:02:09.646072Z"
    }
   },
   "cell_type": "code",
   "source": [
    "#Constraint 1 : imposes that exactly one arc enters each customer node\n",
    "one_visit_out = {}\n",
    "for i in N:\n",
    "    one_visit_out[i] = lpSum([x[i,j] for j in V if j!=i]) == 1.0\n",
    "    prob += one_visit_out[i]"
   ],
   "id": "48a2253d924ff875",
   "outputs": [],
   "execution_count": 40
  },
  {
   "metadata": {
    "ExecuteTime": {
     "end_time": "2025-01-21T08:02:09.966656Z",
     "start_time": "2025-01-21T08:02:09.962276Z"
    }
   },
   "cell_type": "code",
   "source": [
    "#Constraint 2 : imposes that exactly one arc leaves each customer node\n",
    "one_visit_in = {}\n",
    "for j in N:\n",
    "    one_visit_in[j] = lpSum([x[i,j] for i in V if i!=j]) == 1.0\n",
    "    prob += one_visit_in[j]"
   ],
   "id": "9f24a8bd32d32a98",
   "outputs": [],
   "execution_count": 41
  },
  {
   "metadata": {
    "ExecuteTime": {
     "end_time": "2025-01-21T08:02:10.302487Z",
     "start_time": "2025-01-21T08:02:10.297387Z"
    }
   },
   "cell_type": "code",
   "source": [
    "#Constraint 4 : imposes the amount of flow that leaves the depot should be identical\n",
    "#with the flow returns to the depot   \n",
    "depot_node = lpSum([x[0,j] for j in N]) == lpSum([x[i,0] for i in N])\n",
    "prob += depot_node"
   ],
   "id": "af213e675a424614",
   "outputs": [],
   "execution_count": 42
  },
  {
   "metadata": {
    "ExecuteTime": {
     "end_time": "2025-01-21T08:02:10.647999Z",
     "start_time": "2025-01-21T08:02:10.639106Z"
    }
   },
   "cell_type": "code",
   "source": [
    "#Constraint 5 : vehicle capacity constraint and sub tour elimination constraint\n",
    "sub_tours_cap = {}\n",
    "for i in N:\n",
    "    for j in N:\n",
    "        if i != j:\n",
    "            sub_tours_cap[i,j] = u[i] - u[j] + van_capacity * x[i,j] <= van_capacity - shop_demands[j]\n",
    "            prob += sub_tours_cap[i,j]"
   ],
   "id": "c5c47d6d0e0b221c",
   "outputs": [],
   "execution_count": 43
  },
  {
   "metadata": {
    "ExecuteTime": {
     "end_time": "2025-01-21T08:03:37.898269Z",
     "start_time": "2025-01-21T08:03:37.886721Z"
    }
   },
   "cell_type": "code",
   "source": [
    "# The problem is solved using PuLP's choice of Solver (ici Cplex, retourne 1 si résolu, -1 sinon)\n",
    "prob.solve(GUROBI(msg=False))"
   ],
   "id": "386672f9aae5f745",
   "outputs": [
    {
     "data": {
      "text/plain": [
       "1"
      ]
     },
     "execution_count": 54,
     "metadata": {},
     "output_type": "execute_result"
    }
   ],
   "execution_count": 54
  },
  {
   "metadata": {
    "ExecuteTime": {
     "end_time": "2025-01-21T08:02:11.638156Z",
     "start_time": "2025-01-21T08:02:11.632652Z"
    }
   },
   "cell_type": "code",
   "source": [
    "# The status of the solution is printed to the screen (optimal ou pas)\n",
    "print(\"Status:\", LpStatus[prob.status])"
   ],
   "id": "9f9df3a02080e3ba",
   "outputs": [
    {
     "name": "stdout",
     "output_type": "stream",
     "text": [
      "Status: Optimal\n"
     ]
    }
   ],
   "execution_count": 45
  },
  {
   "metadata": {
    "ExecuteTime": {
     "end_time": "2025-01-21T08:02:11.967609Z",
     "start_time": "2025-01-21T08:02:11.963037Z"
    }
   },
   "cell_type": "code",
   "source": [
    "# Each of the variables is printed with it's resolved optimum value\n",
    "for key,val in x.items():\n",
    "    if val.varValue==1.0:\n",
    "        print(val,\"=\",val.varValue)"
   ],
   "id": "94053947da05cafa",
   "outputs": [
    {
     "name": "stdout",
     "output_type": "stream",
     "text": [
      "x(0,2) = 1.0\n",
      "x(0,4) = 1.0\n",
      "x(1,0) = 1.0\n",
      "x(2,3) = 1.0\n",
      "x(3,0) = 1.0\n",
      "x(4,1) = 1.0\n"
     ]
    }
   ],
   "execution_count": 46
  },
  {
   "metadata": {
    "ExecuteTime": {
     "end_time": "2025-01-21T08:02:12.655563Z",
     "start_time": "2025-01-21T08:02:12.650279Z"
    }
   },
   "cell_type": "code",
   "source": [
    "# The optimised objective function value is printed to the screen\n",
    "print(\"Total Cost = \", value(prob.objective))"
   ],
   "id": "a4fdf47798325d27",
   "outputs": [
    {
     "name": "stdout",
     "output_type": "stream",
     "text": [
      "Total Cost =  10.0\n"
     ]
    }
   ],
   "execution_count": 48
  },
  {
   "metadata": {
    "ExecuteTime": {
     "end_time": "2025-01-21T08:02:12.992304Z",
     "start_time": "2025-01-21T08:02:12.987463Z"
    }
   },
   "cell_type": "code",
   "source": [
    "# Afficher les acrs correspondant à la solution\n",
    "active_arcs = [key for key,val in x.items() if val.varValue >=0.9 ]\n",
    "print(active_arcs)"
   ],
   "id": "e8fb82e94c47cfaa",
   "outputs": [
    {
     "name": "stdout",
     "output_type": "stream",
     "text": [
      "[(0, 2), (0, 4), (1, 0), (2, 3), (3, 0), (4, 1)]\n"
     ]
    }
   ],
   "execution_count": 49
  },
  {
   "metadata": {
    "ExecuteTime": {
     "end_time": "2025-01-21T08:02:14.058410Z",
     "start_time": "2025-01-21T08:02:14.053512Z"
    }
   },
   "cell_type": "code",
   "source": [
    "# Each of the variables is printed with it's resolved optimum value\n",
    "for key,val in u.items():\n",
    "    print(val,\"=\",val.varValue)"
   ],
   "id": "2c4b1f3f2ee859c5",
   "outputs": [
    {
     "name": "stdout",
     "output_type": "stream",
     "text": [
      "u(1) = 160.0\n",
      "u(2) = 80.0\n",
      "u(3) = 230.0\n",
      "u(4) = 120.0\n"
     ]
    }
   ],
   "execution_count": 52
  }
 ],
 "metadata": {
  "kernelspec": {
   "name": "python3",
   "language": "python",
   "display_name": "Python 3 (ipykernel)"
  }
 },
 "nbformat": 5,
 "nbformat_minor": 9
}
