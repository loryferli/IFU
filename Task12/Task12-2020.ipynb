{
 "cells": [
  {
   "cell_type": "code",
   "id": "initial_id",
   "metadata": {
    "collapsed": true
   },
   "source": [
    "import numpy as np\n",
    "import pandas as pd\n",
    "import matplotlib.pyplot as plt\n",
    "import seaborn as sn\n",
    "from sklearn.model_selection import train_test_split\n",
    "from sklearn.linear_model import LinearRegression\n",
    "from sklearn.ensemble import RandomForestRegressor\n",
    "from sklearn.metrics import mean_absolute_error\n",
    "import warnings"
   ],
   "outputs": [],
   "execution_count": null
  },
  {
   "cell_type": "code",
   "id": "db548dc8",
   "metadata": {},
   "source": [
    "# Suppress UserWarning\n",
    "warnings.filterwarnings(\"ignore\", category=UserWarning)"
   ],
   "outputs": [],
   "execution_count": null
  },
  {
   "cell_type": "code",
   "id": "1b30edfcad6e33d",
   "metadata": {},
   "source": [
    "df_trips = pd.read_csv('trips2020_1.5M.csv.zip')\n",
    "df_trips.head()"
   ],
   "outputs": [],
   "execution_count": null
  },
  {
   "cell_type": "markdown",
   "id": "28f42966",
   "metadata": {},
   "source": [
    "# Data cleaning"
   ]
  },
  {
   "cell_type": "markdown",
   "id": "0725d594",
   "metadata": {},
   "source": [
    "## Adding the trip distance length in time units"
   ]
  },
  {
   "cell_type": "code",
   "id": "bb345a78",
   "metadata": {},
   "source": [
    "# To create the duration cost matrix later, we will need to use the trip distances in time units, which we currently do not have\n",
    "# We can do this based on the two datetime columns\n",
    "\n",
    "# First, turning the two columns into datetime objects\n",
    "df_trips[\"tpep_pickup_datetime\"] = pd.to_datetime(df_trips[\"tpep_pickup_datetime\"])\n",
    "df_trips[\"tpep_dropoff_datetime\"] = pd.to_datetime(df_trips[\"tpep_dropoff_datetime\"])\n",
    "\n",
    "# Then, we can calculate the time length of the trip\n",
    "df_trips['time_length'] = (df_trips[\"tpep_dropoff_datetime\"] - df_trips[\"tpep_pickup_datetime\"]).dt.total_seconds() / 3600\n",
    "\n",
    "df_trips"
   ],
   "outputs": [],
   "execution_count": null
  },
  {
   "cell_type": "markdown",
   "id": "702c456c",
   "metadata": {},
   "source": [
    "## Dropping useless columns"
   ]
  },
  {
   "cell_type": "code",
   "id": "ac53899e",
   "metadata": {},
   "source": [
    "df_trips = df_trips.drop(columns=['tpep_dropoff_datetime', 'tpep_pickup_datetime', 'store_and_fwd_flag', 'VendorID', 'RatecodeID', 'passenger_count', 'payment_type'])\n",
    "df_trips"
   ],
   "outputs": [],
   "execution_count": null
  },
  {
   "cell_type": "markdown",
   "id": "7a23fd35",
   "metadata": {},
   "source": [
    "## Limiting the variables' values"
   ]
  },
  {
   "cell_type": "code",
   "id": "70da3fed",
   "metadata": {},
   "source": [
    "# To clean the data, we will remove rows with missing values and outliers by filtering the data on specific conditions (explained in the report)\n",
    "# Manually checking the data for DOLocationID and PULocationID using Excel's filter feature, we can see that there are no missing values or outliers in these columns\n",
    "print(f\"Dataframe shape before cleaning: {df_trips.shape}\")\n",
    "\n",
    "df_trips_filtered = df_trips.loc[\n",
    "    (df_trips['trip_distance'] < 21.0) & \n",
    "    (df_trips['trip_distance'] > 0.2) & \n",
    "    (df_trips['time_length'] > 0.02)\n",
    "]\n",
    "\n",
    "print(f\"Dataframe shape after cleaning: {df_trips_filtered.shape}\")"
   ],
   "outputs": [],
   "execution_count": null
  },
  {
   "cell_type": "markdown",
   "id": "3180cd30",
   "metadata": {},
   "source": [
    "# Memory usage optimization"
   ]
  },
  {
   "cell_type": "code",
   "id": "9fe4eebd",
   "metadata": {},
   "source": [
    "df_trips.info()"
   ],
   "outputs": [],
   "execution_count": null
  },
  {
   "cell_type": "code",
   "id": "b12e7b43",
   "metadata": {},
   "source": [
    "# To reduce memory usage, we will limit the datatypes of the columns\n",
    "df_trips[['fare_amount', 'extra', 'mta_tax', 'tip_amount','tolls_amount', 'improvement_surcharge', 'congestion_surcharge', 'trip_distance']] = df_trips[['fare_amount', 'extra', 'mta_tax', 'tip_amount','tolls_amount', 'improvement_surcharge', 'congestion_surcharge', 'trip_distance']].astype('float16')\n",
    "df_trips['total_amount'] = df_trips['total_amount'].astype('float32')\n",
    "df_trips.info()"
   ],
   "outputs": [],
   "execution_count": null
  },
  {
   "cell_type": "markdown",
   "id": "79fe7a6c",
   "metadata": {},
   "source": [
    "# Data splitting"
   ]
  },
  {
   "cell_type": "code",
   "id": "a6afeca1",
   "metadata": {},
   "source": [
    "inputs = df_trips_filtered[['PULocationID', 'DOLocationID']]\n",
    "labelDistance = df_trips_filtered['trip_distance']\n",
    "\n",
    "x_trainDistance, x_testDistance, y_trainDistance, y_testDistance = train_test_split(inputs, labelDistance, random_state=69)"
   ],
   "outputs": [],
   "execution_count": null
  },
  {
   "cell_type": "markdown",
   "id": "61ff7d40",
   "metadata": {},
   "source": [
    "# Predictive model - distance cost matrix"
   ]
  },
  {
   "cell_type": "markdown",
   "id": "8ed740f9",
   "metadata": {},
   "source": [
    "## Final model training"
   ]
  },
  {
   "cell_type": "code",
   "id": "6fa65c49",
   "metadata": {},
   "source": [
    "# Train chosen model\n",
    "finModelDistance = RandomForestRegressor()\n",
    "finModelDistance.fit(x_trainDistance, y_trainDistance)"
   ],
   "outputs": [],
   "execution_count": null
  },
  {
   "cell_type": "markdown",
   "id": "1f82c99f",
   "metadata": {},
   "source": [
    "## Predictions"
   ]
  },
  {
   "cell_type": "markdown",
   "id": "47ecb5a7",
   "metadata": {},
   "source": [
    "### Importing depot and shop coordinates"
   ]
  },
  {
   "cell_type": "code",
   "id": "148577c5",
   "metadata": {},
   "source": [
    "# Depot coordinates and DF\n",
    "df_depot = pd.DataFrame({'id':'Depot', 'location_id':112}, index=[0])\n",
    "\n",
    "# Shops' coordinates and DF\n",
    "df_shops = pd.read_csv('2020_shop_locations.csv')\n",
    "df_shops = df_shops.drop(columns=['Unnamed: 0', 'demand(kg)', 'stage', 'lat', 'long', 'borought', 'zone'])\n",
    "\n",
    "# Create new df that concatenates depot coordinates with df_shops\n",
    "df_points = pd.concat([df_depot, df_shops], ignore_index=True)\n",
    "df_points"
   ],
   "outputs": [],
   "execution_count": null
  },
  {
   "cell_type": "markdown",
   "id": "1a49848e",
   "metadata": {},
   "source": [
    "### Distance cost matrix"
   ]
  },
  {
   "cell_type": "code",
   "id": "df129c60",
   "metadata": {},
   "source": [
    "# Predict the cost matrix using every couple of ids in df_points\n",
    "## First create a new df for the cost matrix\n",
    "costMatrixDistance = pd.DataFrame(columns=df_points['id'], index=df_points['id'])\n",
    "\n",
    "## Second fill the cost matrix with the predicted values\n",
    "for id1 in df_points['id']:\n",
    "    # Get the latitude and longitude for id1\n",
    "    locationID1 = df_points.loc[df_points['id'] == id1, 'location_id'].values[0]\n",
    "    \n",
    "    for id2 in df_points['id']:\n",
    "        # Get the latitude and longitude for id2\n",
    "        locationID2 = df_points.loc[df_points['id'] == id2, 'location_id'].values[0]\n",
    "\n",
    "        costMatrixDistance.loc[id1, id2] = finModelDistance.predict([[locationID1, locationID2]])[0]\n",
    "\n",
    "costMatrixDistance"
   ],
   "outputs": [],
   "execution_count": null
  },
  {
   "cell_type": "code",
   "id": "d575f813",
   "metadata": {},
   "source": [
    "# Export the DataFrame to a CSV file\n",
    "costMatrixDistance.to_csv('costMatrixDistance.csv')"
   ],
   "outputs": [],
   "execution_count": null
  },
  {
   "cell_type": "markdown",
   "id": "f0cff42e",
   "metadata": {},
   "source": [
    "# Predictive model - duration cost matrix"
   ]
  },
  {
   "cell_type": "markdown",
   "id": "fceff77f",
   "metadata": {},
   "source": [
    "## Data splitting"
   ]
  },
  {
   "cell_type": "code",
   "id": "9e065867",
   "metadata": {},
   "source": [
    "labelTime = df_trips_filtered['time_length']\n",
    "\n",
    "x_trainTime, x_testTime, y_trainTime, y_testTime = train_test_split(inputs, labelTime, random_state=420)"
   ],
   "outputs": [],
   "execution_count": null
  },
  {
   "cell_type": "markdown",
   "id": "e415d8b7",
   "metadata": {},
   "source": [
    "## Final model training"
   ]
  },
  {
   "cell_type": "code",
   "id": "77e3abbb",
   "metadata": {},
   "source": [
    "# Train chosen model\n",
    "finModelDuration = RandomForestRegressor()\n",
    "finModelDuration.fit(x_trainTime, y_trainTime)"
   ],
   "outputs": [],
   "execution_count": null
  },
  {
   "cell_type": "markdown",
   "id": "60ddd2bf",
   "metadata": {},
   "source": [
    "## Predictions"
   ]
  },
  {
   "cell_type": "markdown",
   "id": "1d454163",
   "metadata": {},
   "source": [
    "### Duration cost matrix"
   ]
  },
  {
   "cell_type": "code",
   "id": "068fa411",
   "metadata": {},
   "source": [
    "# Predict the cost matrix using every couple of ids in df_points\n",
    "## First create a new df for the cost matrix\n",
    "costMatrixDuration = pd.DataFrame(columns=df_points['id'], index=df_points['id'])\n",
    "\n",
    "## Second fill the cost matrix with the predicted values\n",
    "for id1 in df_points['id']:\n",
    "    # Get the latitude and longitude for id1\n",
    "    locationID1 = df_points.loc[df_points['id'] == id1, 'location_id'].values[0]\n",
    "    \n",
    "    for id2 in df_points['id']:\n",
    "        # Get the latitude and longitude for id2\n",
    "        locationID2 = df_points.loc[df_points['id'] == id2, 'location_id'].values[0]\n",
    "\n",
    "        costMatrixDuration.loc[id1, id2] = finModelDistance.predict([[locationID1, locationID2]])[0]\n",
    "\n",
    "costMatrixDuration"
   ],
   "outputs": [],
   "execution_count": null
  },
  {
   "cell_type": "code",
   "id": "ceec153f",
   "metadata": {},
   "source": [
    "# Export the DataFrame to a CSV file\n",
    "costMatrixDuration.to_csv('costMatrixDuration.csv')"
   ],
   "outputs": [],
   "execution_count": null
  },
  {
   "cell_type": "markdown",
   "id": "9b203d24",
   "metadata": {},
   "source": [
    "# Predictive model - financial cost matrix"
   ]
  },
  {
   "cell_type": "markdown",
   "id": "13161e81",
   "metadata": {},
   "source": [
    "## Data splitting"
   ]
  },
  {
   "cell_type": "code",
   "id": "fed48e53",
   "metadata": {},
   "source": [
    "labelFinancial = df_trips_filtered['total_amount'] - df_trips_filtered['tip_amount']\n",
    "\n",
    "x_trainFinancial, x_testFinancial, y_trainFinancial, y_testFinancial = train_test_split(inputs, labelFinancial, random_state=420)"
   ],
   "outputs": [],
   "execution_count": null
  },
  {
   "cell_type": "markdown",
   "id": "de3eca1b",
   "metadata": {},
   "source": [
    "## Final model training"
   ]
  },
  {
   "cell_type": "code",
   "id": "fa46dfcc",
   "metadata": {},
   "source": [
    "# Train chosen model\n",
    "finModelFinancial = RandomForestRegressor()\n",
    "finModelFinancial.fit(x_trainFinancial, y_trainFinancial)"
   ],
   "outputs": [],
   "execution_count": null
  },
  {
   "cell_type": "markdown",
   "id": "1d05a9d0",
   "metadata": {},
   "source": [
    "## Predictions"
   ]
  },
  {
   "cell_type": "markdown",
   "id": "b2a850f2",
   "metadata": {},
   "source": [
    "### Financial cost matrix"
   ]
  },
  {
   "cell_type": "code",
   "id": "87696752",
   "metadata": {},
   "source": [
    "# Predict the cost matrix using every couple of ids in df_points\n",
    "## First create a new df for the cost matrix\n",
    "costMatrixFinancial = pd.DataFrame(columns=df_points['id'], index=df_points['id'])\n",
    "\n",
    "## Second fill the cost matrix with the predicted values\n",
    "for id1 in df_points['id']:\n",
    "    # Get the latitude and longitude for id1\n",
    "    locationID1 = df_points.loc[df_points['id'] == id1, 'location_id'].values[0]\n",
    "    \n",
    "    for id2 in df_points['id']:\n",
    "        # Get the latitude and longitude for id2\n",
    "        locationID2 = df_points.loc[df_points['id'] == id2, 'location_id'].values[0]\n",
    "\n",
    "        costMatrixFinancial.loc[id1, id2] = finModelDistance.predict([[locationID1, locationID2]])[0]\n",
    "\n",
    "costMatrixFinancial"
   ],
   "outputs": [],
   "execution_count": null
  },
  {
   "cell_type": "code",
   "id": "05e8f1cf",
   "metadata": {},
   "source": [
    "# Export the DataFrame to a CSV file\n",
    "costMatrixFinancial.to_csv('costMatrixFinancial.csv')"
   ],
   "outputs": [],
   "execution_count": null
  }
 ],
 "metadata": {
  "kernelspec": {
   "display_name": "Python 3",
   "language": "python",
   "name": "python3"
  },
  "language_info": {
   "codemirror_mode": {
    "name": "ipython",
    "version": 3
   },
   "file_extension": ".py",
   "mimetype": "text/x-python",
   "name": "python",
   "nbconvert_exporter": "python",
   "pygments_lexer": "ipython3",
   "version": "3.11.5"
  }
 },
 "nbformat": 4,
 "nbformat_minor": 5
}
