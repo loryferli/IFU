{
 "cells": [
  {
   "cell_type": "code",
   "execution_count": 1,
   "id": "initial_id",
   "metadata": {
    "ExecuteTime": {
     "end_time": "2025-01-14T07:39:09.546454Z",
     "start_time": "2025-01-14T07:39:09.542106Z"
    },
    "collapsed": true
   },
   "outputs": [],
   "source": [
    "import pandas as pd\n",
    "import geopandas as gpd\n",
    "import plotly.express as px\n",
    "import plotly.graph_objects as go\n",
    "from shapely.geometry import LineString"
   ]
  },
  {
   "cell_type": "code",
   "execution_count": 2,
   "id": "55a8f977",
   "metadata": {},
   "outputs": [
    {
     "data": {
      "text/html": [
       "<div>\n",
       "<style scoped>\n",
       "    .dataframe tbody tr th:only-of-type {\n",
       "        vertical-align: middle;\n",
       "    }\n",
       "\n",
       "    .dataframe tbody tr th {\n",
       "        vertical-align: top;\n",
       "    }\n",
       "\n",
       "    .dataframe thead th {\n",
       "        text-align: right;\n",
       "    }\n",
       "</style>\n",
       "<table border=\"1\" class=\"dataframe\">\n",
       "  <thead>\n",
       "    <tr style=\"text-align: right;\">\n",
       "      <th></th>\n",
       "      <th>id</th>\n",
       "      <th>lat</th>\n",
       "      <th>long</th>\n",
       "    </tr>\n",
       "  </thead>\n",
       "  <tbody>\n",
       "    <tr>\n",
       "      <th>0</th>\n",
       "      <td>Depot</td>\n",
       "      <td>40.725516</td>\n",
       "      <td>-73.941868</td>\n",
       "    </tr>\n",
       "  </tbody>\n",
       "</table>\n",
       "</div>"
      ],
      "text/plain": [
       "      id        lat       long\n",
       "0  Depot  40.725516 -73.941868"
      ]
     },
     "execution_count": 2,
     "metadata": {},
     "output_type": "execute_result"
    }
   ],
   "source": [
    "depot_long = -73.941868\n",
    "depot_lat = 40.725516\n",
    "df_depot = pd.DataFrame({'id':'Depot', 'lat': [depot_lat], 'long': [depot_long]})\n",
    "df_depot"
   ]
  },
  {
   "cell_type": "code",
   "execution_count": 3,
   "id": "6acbc5b2",
   "metadata": {},
   "outputs": [
    {
     "data": {
      "text/html": [
       "<div>\n",
       "<style scoped>\n",
       "    .dataframe tbody tr th:only-of-type {\n",
       "        vertical-align: middle;\n",
       "    }\n",
       "\n",
       "    .dataframe tbody tr th {\n",
       "        vertical-align: top;\n",
       "    }\n",
       "\n",
       "    .dataframe thead th {\n",
       "        text-align: right;\n",
       "    }\n",
       "</style>\n",
       "<table border=\"1\" class=\"dataframe\">\n",
       "  <thead>\n",
       "    <tr style=\"text-align: right;\">\n",
       "      <th></th>\n",
       "      <th>id</th>\n",
       "      <th>lat</th>\n",
       "      <th>long</th>\n",
       "      <th>demand(kg)</th>\n",
       "      <th>stage</th>\n",
       "    </tr>\n",
       "  </thead>\n",
       "  <tbody>\n",
       "    <tr>\n",
       "      <th>0</th>\n",
       "      <td>Depot</td>\n",
       "      <td>40.725516</td>\n",
       "      <td>-73.941868</td>\n",
       "      <td>NaN</td>\n",
       "      <td>NaN</td>\n",
       "    </tr>\n",
       "    <tr>\n",
       "      <th>1</th>\n",
       "      <td>ChIJwTC7A55ZwokRPNX9g7ngbaI</td>\n",
       "      <td>40.730837</td>\n",
       "      <td>-73.983194</td>\n",
       "      <td>21.0</td>\n",
       "      <td>1.0</td>\n",
       "    </tr>\n",
       "    <tr>\n",
       "      <th>2</th>\n",
       "      <td>ChIJU1XImaNZwokRutunetC8XeE</td>\n",
       "      <td>40.740454</td>\n",
       "      <td>-73.991268</td>\n",
       "      <td>33.0</td>\n",
       "      <td>1.0</td>\n",
       "    </tr>\n",
       "    <tr>\n",
       "      <th>3</th>\n",
       "      <td>ChIJG7L-TLVbwokRT36uIrwz2Mo</td>\n",
       "      <td>40.694957</td>\n",
       "      <td>-73.982865</td>\n",
       "      <td>21.0</td>\n",
       "      <td>1.0</td>\n",
       "    </tr>\n",
       "    <tr>\n",
       "      <th>4</th>\n",
       "      <td>ChIJ5cPkuBtgwokRn55JgpGqjFA</td>\n",
       "      <td>40.757522</td>\n",
       "      <td>-73.834352</td>\n",
       "      <td>30.0</td>\n",
       "      <td>1.0</td>\n",
       "    </tr>\n",
       "    <tr>\n",
       "      <th>...</th>\n",
       "      <td>...</td>\n",
       "      <td>...</td>\n",
       "      <td>...</td>\n",
       "      <td>...</td>\n",
       "      <td>...</td>\n",
       "    </tr>\n",
       "    <tr>\n",
       "      <th>216</th>\n",
       "      <td>ChIJ3wsoxKFZwokRRg8OvEjE0bc</td>\n",
       "      <td>40.736716</td>\n",
       "      <td>-73.986817</td>\n",
       "      <td>19.0</td>\n",
       "      <td>4.0</td>\n",
       "    </tr>\n",
       "    <tr>\n",
       "      <th>217</th>\n",
       "      <td>ChIJQRpR6Jj0wokRl9myJ19eEvU</td>\n",
       "      <td>40.850804</td>\n",
       "      <td>-73.867450</td>\n",
       "      <td>28.0</td>\n",
       "      <td>4.0</td>\n",
       "    </tr>\n",
       "    <tr>\n",
       "      <th>218</th>\n",
       "      <td>ChIJQYmJtx5awokR45_sopkXVNE</td>\n",
       "      <td>40.715137</td>\n",
       "      <td>-74.011088</td>\n",
       "      <td>32.0</td>\n",
       "      <td>4.0</td>\n",
       "    </tr>\n",
       "    <tr>\n",
       "      <th>219</th>\n",
       "      <td>ChIJh4MG8h9awokR1kDLslu2C3E</td>\n",
       "      <td>40.718249</td>\n",
       "      <td>-74.007346</td>\n",
       "      <td>33.0</td>\n",
       "      <td>4.0</td>\n",
       "    </tr>\n",
       "    <tr>\n",
       "      <th>220</th>\n",
       "      <td>ChIJbdnGmlxewokRobPWHJXQVjM</td>\n",
       "      <td>40.725204</td>\n",
       "      <td>-73.879608</td>\n",
       "      <td>33.0</td>\n",
       "      <td>4.0</td>\n",
       "    </tr>\n",
       "  </tbody>\n",
       "</table>\n",
       "<p>221 rows × 5 columns</p>\n",
       "</div>"
      ],
      "text/plain": [
       "                              id        lat       long  demand(kg)  stage\n",
       "0                          Depot  40.725516 -73.941868         NaN    NaN\n",
       "1    ChIJwTC7A55ZwokRPNX9g7ngbaI  40.730837 -73.983194        21.0    1.0\n",
       "2    ChIJU1XImaNZwokRutunetC8XeE  40.740454 -73.991268        33.0    1.0\n",
       "3    ChIJG7L-TLVbwokRT36uIrwz2Mo  40.694957 -73.982865        21.0    1.0\n",
       "4    ChIJ5cPkuBtgwokRn55JgpGqjFA  40.757522 -73.834352        30.0    1.0\n",
       "..                           ...        ...        ...         ...    ...\n",
       "216  ChIJ3wsoxKFZwokRRg8OvEjE0bc  40.736716 -73.986817        19.0    4.0\n",
       "217  ChIJQRpR6Jj0wokRl9myJ19eEvU  40.850804 -73.867450        28.0    4.0\n",
       "218  ChIJQYmJtx5awokR45_sopkXVNE  40.715137 -74.011088        32.0    4.0\n",
       "219  ChIJh4MG8h9awokR1kDLslu2C3E  40.718249 -74.007346        33.0    4.0\n",
       "220  ChIJbdnGmlxewokRobPWHJXQVjM  40.725204 -73.879608        33.0    4.0\n",
       "\n",
       "[221 rows x 5 columns]"
      ]
     },
     "execution_count": 3,
     "metadata": {},
     "output_type": "execute_result"
    }
   ],
   "source": [
    "shops_2015 = pd.read_csv('2015_shop_locations.csv')\n",
    "shops_2015 = pd.concat([df_depot, shops_2015], ignore_index=True)\n",
    "shops_2015"
   ]
  },
  {
   "cell_type": "code",
   "execution_count": 4,
   "id": "16bb2a16",
   "metadata": {},
   "outputs": [
    {
     "data": {
      "text/html": [
       "<div>\n",
       "<style scoped>\n",
       "    .dataframe tbody tr th:only-of-type {\n",
       "        vertical-align: middle;\n",
       "    }\n",
       "\n",
       "    .dataframe tbody tr th {\n",
       "        vertical-align: top;\n",
       "    }\n",
       "\n",
       "    .dataframe thead th {\n",
       "        text-align: right;\n",
       "    }\n",
       "</style>\n",
       "<table border=\"1\" class=\"dataframe\">\n",
       "  <thead>\n",
       "    <tr style=\"text-align: right;\">\n",
       "      <th></th>\n",
       "      <th>id</th>\n",
       "      <th>lat</th>\n",
       "      <th>long</th>\n",
       "      <th>Unnamed: 0</th>\n",
       "      <th>demand(kg)</th>\n",
       "      <th>stage</th>\n",
       "      <th>borought</th>\n",
       "      <th>zone</th>\n",
       "      <th>location_id</th>\n",
       "    </tr>\n",
       "  </thead>\n",
       "  <tbody>\n",
       "    <tr>\n",
       "      <th>0</th>\n",
       "      <td>Depot</td>\n",
       "      <td>40.725516</td>\n",
       "      <td>-73.941868</td>\n",
       "      <td>NaN</td>\n",
       "      <td>NaN</td>\n",
       "      <td>NaN</td>\n",
       "      <td>NaN</td>\n",
       "      <td>NaN</td>\n",
       "      <td>NaN</td>\n",
       "    </tr>\n",
       "    <tr>\n",
       "      <th>1</th>\n",
       "      <td>ChIJwTC7A55ZwokRPNX9g7ngbaI</td>\n",
       "      <td>40.730837</td>\n",
       "      <td>-73.983194</td>\n",
       "      <td>0.0</td>\n",
       "      <td>21.0</td>\n",
       "      <td>1.0</td>\n",
       "      <td>Manhattan</td>\n",
       "      <td>East Village</td>\n",
       "      <td>79.0</td>\n",
       "    </tr>\n",
       "    <tr>\n",
       "      <th>2</th>\n",
       "      <td>ChIJU1XImaNZwokRutunetC8XeE</td>\n",
       "      <td>40.740454</td>\n",
       "      <td>-73.991268</td>\n",
       "      <td>1.0</td>\n",
       "      <td>33.0</td>\n",
       "      <td>1.0</td>\n",
       "      <td>Manhattan</td>\n",
       "      <td>Union Sq</td>\n",
       "      <td>234.0</td>\n",
       "    </tr>\n",
       "    <tr>\n",
       "      <th>3</th>\n",
       "      <td>ChIJG7L-TLVbwokRT36uIrwz2Mo</td>\n",
       "      <td>40.694957</td>\n",
       "      <td>-73.982865</td>\n",
       "      <td>2.0</td>\n",
       "      <td>21.0</td>\n",
       "      <td>1.0</td>\n",
       "      <td>Brooklyn</td>\n",
       "      <td>Downtown Brooklyn/MetroTech</td>\n",
       "      <td>65.0</td>\n",
       "    </tr>\n",
       "    <tr>\n",
       "      <th>4</th>\n",
       "      <td>ChIJ5cPkuBtgwokRn55JgpGqjFA</td>\n",
       "      <td>40.757522</td>\n",
       "      <td>-73.834353</td>\n",
       "      <td>3.0</td>\n",
       "      <td>30.0</td>\n",
       "      <td>1.0</td>\n",
       "      <td>Queens</td>\n",
       "      <td>Flushing</td>\n",
       "      <td>92.0</td>\n",
       "    </tr>\n",
       "  </tbody>\n",
       "</table>\n",
       "</div>"
      ],
      "text/plain": [
       "                            id        lat       long  Unnamed: 0  demand(kg)  \\\n",
       "0                        Depot  40.725516 -73.941868         NaN         NaN   \n",
       "1  ChIJwTC7A55ZwokRPNX9g7ngbaI  40.730837 -73.983194         0.0        21.0   \n",
       "2  ChIJU1XImaNZwokRutunetC8XeE  40.740454 -73.991268         1.0        33.0   \n",
       "3  ChIJG7L-TLVbwokRT36uIrwz2Mo  40.694957 -73.982865         2.0        21.0   \n",
       "4  ChIJ5cPkuBtgwokRn55JgpGqjFA  40.757522 -73.834353         3.0        30.0   \n",
       "\n",
       "   stage   borought                         zone  location_id  \n",
       "0    NaN        NaN                          NaN          NaN  \n",
       "1    1.0  Manhattan                 East Village         79.0  \n",
       "2    1.0  Manhattan                     Union Sq        234.0  \n",
       "3    1.0   Brooklyn  Downtown Brooklyn/MetroTech         65.0  \n",
       "4    1.0     Queens                     Flushing         92.0  "
      ]
     },
     "execution_count": 4,
     "metadata": {},
     "output_type": "execute_result"
    }
   ],
   "source": [
    "shops_2020 = pd.read_csv('2020_shop_locations.csv')\n",
    "shops_2020 = pd.concat([df_depot, shops_2020], ignore_index=True)\n",
    "shops_2020.head()"
   ]
  },
  {
   "cell_type": "markdown",
   "id": "cbc05ec8",
   "metadata": {},
   "source": [
    "## Function for creating a dataframe for both source and destination points in the results (from or to)"
   ]
  },
  {
   "cell_type": "code",
   "execution_count": 5,
   "id": "f0ea7628",
   "metadata": {},
   "outputs": [],
   "source": [
    "def resultsCleaning(maindf, shopsdf):    \n",
    "    maindf['f-lat'] = maindf['From'].iloc[:].apply(lambda x: shopsdf[shopsdf['id'] == x]['lat'].values[0])\n",
    "    maindf['f-long'] = maindf['From'].iloc[:].apply(lambda x: shopsdf[shopsdf['id'] == x]['long'].values[0])\n",
    "\n",
    "    maindf['t-lat'] = maindf['To'].iloc[:].apply(lambda x: shopsdf[shopsdf['id'] == x]['lat'].values[0])\n",
    "    maindf['t-long'] = maindf['To'].iloc[:].apply(lambda x: shopsdf[shopsdf['id'] == x]['long'].values[0])\n",
    "\n",
    "    maindf = maindf[['From', 'f-lat', 'f-long', 'To', 't-lat', 't-long']]\n",
    "\n",
    "    df1 = maindf[['From', 'f-lat', 'f-long']]\n",
    "    df2 = maindf[['To', 't-lat', 't-long']]\n",
    "    \n",
    "    return df1, df2"
   ]
  },
  {
   "cell_type": "markdown",
   "id": "aee82e82",
   "metadata": {},
   "source": [
    "## Function for creating and plotting the map"
   ]
  },
  {
   "cell_type": "code",
   "execution_count": 6,
   "id": "ffe443c3",
   "metadata": {},
   "outputs": [],
   "source": [
    "def routemap(maindf, shopsdf, dfFrom, dfTo):\n",
    "    from_gdf = gpd.GeoDataFrame(dfFrom, geometry=gpd.points_from_xy(dfFrom['f-long'], dfFrom['f-lat']))\n",
    "    to_gdf = gpd.GeoDataFrame(dfTo, geometry=gpd.points_from_xy(dfTo['t-long'], dfTo['t-lat']))\n",
    "\n",
    "    from_gdf['Legend'] = dfFrom['From'].apply(lambda x: 'Depot' if x == 'Depot' else '')\n",
    "\n",
    "    # We remove Depot from the second gdf so that it doesn't appear twice on the map\n",
    "    to_gdf = to_gdf[to_gdf['To'] != 'Depot']\n",
    "    to_gdf['Legend'] = dfTo['To'].apply(lambda x: 'Depot' if x == '' else 'Shop')\n",
    "\n",
    "    # We need to rename the From and To columns to the same name so that we can concatenate the two dataframes and plot the hover names using just this column\n",
    "    from_gdf = from_gdf.rename(columns={'From': 'id'})\n",
    "    to_gdf = to_gdf.rename(columns={'To': 'id'})\n",
    "\n",
    "    combined_gdf = pd.concat([from_gdf, to_gdf])\n",
    "\n",
    "    # Size of the points\n",
    "    combined_gdf['size'] = 1\n",
    "\n",
    "    # Create the route connections between all of the depots\n",
    "    lines = []\n",
    "    for i, row in maindf.iterrows():\n",
    "        from_id = row['From']\n",
    "        to_id = row['To']\n",
    "\n",
    "        from_coords = (shopsdf[shopsdf['id'] == from_id]['lat'].values, shopsdf[shopsdf['id'] == from_id]['long'].values)\n",
    "        to_coords = (shopsdf[shopsdf['id'] == to_id]['lat'].values, shopsdf[shopsdf['id'] == to_id]['long'].values)\n",
    "\n",
    "        line = LineString([from_coords, to_coords])\n",
    "        lines.append(line)\n",
    "\n",
    "    lines_gdf = gpd.GeoDataFrame(geometry=lines)\n",
    "\n",
    "    # Plot the map itself\n",
    "    fig = px.scatter_mapbox(\n",
    "        combined_gdf,\n",
    "        lat=combined_gdf.geometry.y,\n",
    "        lon=combined_gdf.geometry.x,\n",
    "        color='Legend',\n",
    "        hover_name='id',\n",
    "        size='size',\n",
    "        size_max=10,\n",
    "        zoom=10.5,\n",
    "        mapbox_style=\"carto-positron\",\n",
    "        color_discrete_map={'Depot': 'red', 'Shop': 'green'}\n",
    "    )\n",
    "\n",
    "    # Add the lines (LineStrings) to the map\n",
    "    for line in lines_gdf.geometry:\n",
    "        # Convert each LineString into a list of lat-lon coordinates\n",
    "        line_coords = [(point[1], point[0]) for point in line.coords]\n",
    "        \n",
    "        # Add the line trace to the map\n",
    "        fig.add_trace(\n",
    "            go.Scattermapbox(\n",
    "                mode='lines',\n",
    "                lon=[coord[0] for coord in line_coords],\n",
    "                lat=[coord[1] for coord in line_coords],\n",
    "                line={'width': 2, 'color': 'green'},\n",
    "            )\n",
    "        )\n",
    "\n",
    "    # Modify the layout margins and the map height\n",
    "    fig.update_layout(\n",
    "        margin={\"r\":0,\"t\":0,\"l\":0,\"b\":0},\n",
    "        height=800,  # Height of the map (in pixels)\n",
    "    )\n",
    "\n",
    "    fig.show()"
   ]
  },
  {
   "cell_type": "markdown",
   "id": "ed5f08ae",
   "metadata": {},
   "source": [
    "# Application on 2015 data"
   ]
  },
  {
   "cell_type": "markdown",
   "id": "ba6f33b2",
   "metadata": {},
   "source": [
    "## Stage 1"
   ]
  },
  {
   "cell_type": "code",
   "execution_count": 7,
   "id": "2d912a47",
   "metadata": {},
   "outputs": [
    {
     "data": {
      "text/html": [
       "<div>\n",
       "<style scoped>\n",
       "    .dataframe tbody tr th:only-of-type {\n",
       "        vertical-align: middle;\n",
       "    }\n",
       "\n",
       "    .dataframe tbody tr th {\n",
       "        vertical-align: top;\n",
       "    }\n",
       "\n",
       "    .dataframe thead th {\n",
       "        text-align: right;\n",
       "    }\n",
       "</style>\n",
       "<table border=\"1\" class=\"dataframe\">\n",
       "  <thead>\n",
       "    <tr style=\"text-align: right;\">\n",
       "      <th></th>\n",
       "      <th>From</th>\n",
       "      <th>To</th>\n",
       "    </tr>\n",
       "  </thead>\n",
       "  <tbody>\n",
       "    <tr>\n",
       "      <th>0</th>\n",
       "      <td>Depot</td>\n",
       "      <td>ChIJ97BgiDtfwokRsbkP6Vl1seY</td>\n",
       "    </tr>\n",
       "    <tr>\n",
       "      <th>1</th>\n",
       "      <td>Depot</td>\n",
       "      <td>ChIJmZQsMgFbwokRMc5I7kPdQ7w</td>\n",
       "    </tr>\n",
       "    <tr>\n",
       "      <th>2</th>\n",
       "      <td>ChIJwTC7A55ZwokRPNX9g7ngbaI</td>\n",
       "      <td>Depot</td>\n",
       "    </tr>\n",
       "    <tr>\n",
       "      <th>3</th>\n",
       "      <td>ChIJU1XImaNZwokRutunetC8XeE</td>\n",
       "      <td>ChIJwTC7A55ZwokRPNX9g7ngbaI</td>\n",
       "    </tr>\n",
       "    <tr>\n",
       "      <th>4</th>\n",
       "      <td>ChIJG7L-TLVbwokRT36uIrwz2Mo</td>\n",
       "      <td>ChIJRR7W62BFwokRlrVks40mAdU</td>\n",
       "    </tr>\n",
       "  </tbody>\n",
       "</table>\n",
       "</div>"
      ],
      "text/plain": [
       "                          From                           To\n",
       "0                        Depot  ChIJ97BgiDtfwokRsbkP6Vl1seY\n",
       "1                        Depot  ChIJmZQsMgFbwokRMc5I7kPdQ7w\n",
       "2  ChIJwTC7A55ZwokRPNX9g7ngbaI                        Depot\n",
       "3  ChIJU1XImaNZwokRutunetC8XeE  ChIJwTC7A55ZwokRPNX9g7ngbaI\n",
       "4  ChIJG7L-TLVbwokRT36uIrwz2Mo  ChIJRR7W62BFwokRlrVks40mAdU"
      ]
     },
     "execution_count": 7,
     "metadata": {},
     "output_type": "execute_result"
    }
   ],
   "source": [
    "df_trips = pd.read_csv('routings/routing_optimal_2015_stage_1_Distance.csv')\n",
    "df_trips.head()"
   ]
  },
  {
   "cell_type": "code",
   "execution_count": 8,
   "id": "0fead62d",
   "metadata": {},
   "outputs": [
    {
     "data": {
      "application/vnd.plotly.v1+json": {
       "config": {
        "plotlyServerURL": "https://plot.ly"
       },
       "data": [
        {
         "hovertemplate": "<b>%{hovertext}</b><br><br>Legend=Depot<br>size=%{marker.size}<br>lat=%{lat}<br>lon=%{lon}<extra></extra>",
         "hovertext": [
          "Depot",
          "Depot"
         ],
         "lat": [
          40.725516,
          40.725516
         ],
         "legendgroup": "Depot",
         "lon": [
          -73.941868,
          -73.941868
         ],
         "marker": {
          "color": "red",
          "size": [
           1,
           1
          ],
          "sizemode": "area",
          "sizeref": 0.01
         },
         "mode": "markers",
         "name": "Depot",
         "showlegend": true,
         "subplot": "mapbox",
         "type": "scattermapbox"
        },
        {
         "hovertemplate": "<b>%{hovertext}</b><br><br>Legend=<br>size=%{marker.size}<br>lat=%{lat}<br>lon=%{lon}<extra></extra>",
         "hovertext": [
          "ChIJwTC7A55ZwokRPNX9g7ngbaI",
          "ChIJU1XImaNZwokRutunetC8XeE",
          "ChIJG7L-TLVbwokRT36uIrwz2Mo",
          "ChIJ5cPkuBtgwokRn55JgpGqjFA",
          "ChIJ24V7r_31wokR-S71l2zqrwc",
          "ChIJiUJ1DI5ZwokRWdK6SPg9BOY",
          "ChIJYTxm0Gf2wokR5V0iFDQ-2x0",
          "ChIJ_eQYpFdmwokR756MAH2tZPw",
          "ChIJYzaRC2REwokRaH2rHpflSYk",
          "ChIJ3R85DSb2wokR1XobETRMs5E",
          "ChIJ97BgiDtfwokRsbkP6Vl1seY",
          "ChIJT1ZEl4JYwokRXQMvGg9VMPE",
          "ChIJ7-uIlEFEwokRlbHGtjrdFtM",
          "ChIJU3IVO-tZwokRx6iWrhKQTng",
          "ChIJRR7W62BFwokRlrVks40mAdU",
          "ChIJnZ4lShdkwokRQUAn5mjU1pA",
          "ChIJG9cUYg_1wokRUNpvwM84Z4M",
          "ChIJmZQsMgFbwokRMc5I7kPdQ7w",
          "ChIJt5DcjLRFwokRyxil5Pjp3Fo",
          "ChIJ2b9se6f1wokRUN8kWpFfzN0"
         ],
         "lat": [
          40.7308365,
          40.7404541,
          40.6949569,
          40.7575222,
          40.7946152,
          40.7268419,
          40.7988747,
          40.642643,
          40.5872273,
          40.796989,
          40.7589623,
          40.7740367,
          40.57794699999999,
          40.735813,
          40.6210836,
          40.673869,
          40.809636,
          40.672026,
          40.5812659,
          40.807887
         ],
         "legendgroup": "",
         "lon": [
          -73.9831938,
          -73.9912684,
          -73.98286519999999,
          -73.8343525,
          -73.93377149999999,
          -74.0002098,
          -73.968346,
          -73.791282,
          -73.9527581,
          -73.969707,
          -73.9185095,
          -73.95935519999999,
          -73.9612556,
          -74.007578,
          -74.0259851,
          -73.7355328,
          -73.881143,
          -73.9775033,
          -73.985452,
          -73.8894119
         ],
         "marker": {
          "color": "#00cc96",
          "size": [
           1,
           1,
           1,
           1,
           1,
           1,
           1,
           1,
           1,
           1,
           1,
           1,
           1,
           1,
           1,
           1,
           1,
           1,
           1,
           1
          ],
          "sizemode": "area",
          "sizeref": 0.01
         },
         "mode": "markers",
         "name": "",
         "showlegend": false,
         "subplot": "mapbox",
         "type": "scattermapbox"
        },
        {
         "hovertemplate": "<b>%{hovertext}</b><br><br>Legend=Shop<br>size=%{marker.size}<br>lat=%{lat}<br>lon=%{lon}<extra></extra>",
         "hovertext": [
          "ChIJ97BgiDtfwokRsbkP6Vl1seY",
          "ChIJmZQsMgFbwokRMc5I7kPdQ7w",
          "ChIJwTC7A55ZwokRPNX9g7ngbaI",
          "ChIJRR7W62BFwokRlrVks40mAdU",
          "ChIJ_eQYpFdmwokR756MAH2tZPw",
          "ChIJT1ZEl4JYwokRXQMvGg9VMPE",
          "ChIJ2b9se6f1wokRUN8kWpFfzN0",
          "ChIJnZ4lShdkwokRQUAn5mjU1pA",
          "ChIJ7-uIlEFEwokRlbHGtjrdFtM",
          "ChIJYTxm0Gf2wokR5V0iFDQ-2x0",
          "ChIJ24V7r_31wokR-S71l2zqrwc",
          "ChIJ3R85DSb2wokR1XobETRMs5E",
          "ChIJt5DcjLRFwokRyxil5Pjp3Fo",
          "ChIJiUJ1DI5ZwokRWdK6SPg9BOY",
          "ChIJYzaRC2REwokRaH2rHpflSYk",
          "ChIJU3IVO-tZwokRx6iWrhKQTng",
          "ChIJ5cPkuBtgwokRn55JgpGqjFA",
          "ChIJG7L-TLVbwokRT36uIrwz2Mo",
          "ChIJU1XImaNZwokRutunetC8XeE",
          "ChIJG9cUYg_1wokRUNpvwM84Z4M"
         ],
         "lat": [
          40.7589623,
          40.672026,
          40.7308365,
          40.6210836,
          40.642643,
          40.7740367,
          40.807887,
          40.673869,
          40.57794699999999,
          40.7988747,
          40.7946152,
          40.796989,
          40.5812659,
          40.7268419,
          40.5872273,
          40.735813,
          40.7575222,
          40.6949569,
          40.7404541,
          40.809636
         ],
         "legendgroup": "Shop",
         "lon": [
          -73.9185095,
          -73.9775033,
          -73.9831938,
          -74.0259851,
          -73.791282,
          -73.95935519999999,
          -73.8894119,
          -73.7355328,
          -73.9612556,
          -73.968346,
          -73.93377149999999,
          -73.969707,
          -73.985452,
          -74.0002098,
          -73.9527581,
          -74.007578,
          -73.8343525,
          -73.98286519999999,
          -73.9912684,
          -73.881143
         ],
         "marker": {
          "color": "green",
          "size": [
           1,
           1,
           1,
           1,
           1,
           1,
           1,
           1,
           1,
           1,
           1,
           1,
           1,
           1,
           1,
           1,
           1,
           1,
           1,
           1
          ],
          "sizemode": "area",
          "sizeref": 0.01
         },
         "mode": "markers",
         "name": "Shop",
         "showlegend": true,
         "subplot": "mapbox",
         "type": "scattermapbox"
        },
        {
         "lat": [
          40.725516,
          40.7589623
         ],
         "line": {
          "color": "green",
          "width": 2
         },
         "lon": [
          -73.941868,
          -73.9185095
         ],
         "mode": "lines",
         "type": "scattermapbox"
        },
        {
         "lat": [
          40.725516,
          40.672026
         ],
         "line": {
          "color": "green",
          "width": 2
         },
         "lon": [
          -73.941868,
          -73.9775033
         ],
         "mode": "lines",
         "type": "scattermapbox"
        },
        {
         "lat": [
          40.7308365,
          40.725516
         ],
         "line": {
          "color": "green",
          "width": 2
         },
         "lon": [
          -73.9831938,
          -73.941868
         ],
         "mode": "lines",
         "type": "scattermapbox"
        },
        {
         "lat": [
          40.7404541,
          40.7308365
         ],
         "line": {
          "color": "green",
          "width": 2
         },
         "lon": [
          -73.9912684,
          -73.9831938
         ],
         "mode": "lines",
         "type": "scattermapbox"
        },
        {
         "lat": [
          40.6949569,
          40.6210836
         ],
         "line": {
          "color": "green",
          "width": 2
         },
         "lon": [
          -73.98286519999999,
          -74.0259851
         ],
         "mode": "lines",
         "type": "scattermapbox"
        },
        {
         "lat": [
          40.7575222,
          40.642643
         ],
         "line": {
          "color": "green",
          "width": 2
         },
         "lon": [
          -73.8343525,
          -73.791282
         ],
         "mode": "lines",
         "type": "scattermapbox"
        },
        {
         "lat": [
          40.7946152,
          40.7740367
         ],
         "line": {
          "color": "green",
          "width": 2
         },
         "lon": [
          -73.93377149999999,
          -73.95935519999999
         ],
         "mode": "lines",
         "type": "scattermapbox"
        },
        {
         "lat": [
          40.7268419,
          40.725516
         ],
         "line": {
          "color": "green",
          "width": 2
         },
         "lon": [
          -74.0002098,
          -73.941868
         ],
         "mode": "lines",
         "type": "scattermapbox"
        },
        {
         "lat": [
          40.7988747,
          40.807887
         ],
         "line": {
          "color": "green",
          "width": 2
         },
         "lon": [
          -73.968346,
          -73.8894119
         ],
         "mode": "lines",
         "type": "scattermapbox"
        },
        {
         "lat": [
          40.642643,
          40.673869
         ],
         "line": {
          "color": "green",
          "width": 2
         },
         "lon": [
          -73.791282,
          -73.7355328
         ],
         "mode": "lines",
         "type": "scattermapbox"
        },
        {
         "lat": [
          40.5872273,
          40.57794699999999
         ],
         "line": {
          "color": "green",
          "width": 2
         },
         "lon": [
          -73.9527581,
          -73.9612556
         ],
         "mode": "lines",
         "type": "scattermapbox"
        },
        {
         "lat": [
          40.796989,
          40.7988747
         ],
         "line": {
          "color": "green",
          "width": 2
         },
         "lon": [
          -73.969707,
          -73.968346
         ],
         "mode": "lines",
         "type": "scattermapbox"
        },
        {
         "lat": [
          40.7589623,
          40.7946152
         ],
         "line": {
          "color": "green",
          "width": 2
         },
         "lon": [
          -73.9185095,
          -73.93377149999999
         ],
         "mode": "lines",
         "type": "scattermapbox"
        },
        {
         "lat": [
          40.7740367,
          40.796989
         ],
         "line": {
          "color": "green",
          "width": 2
         },
         "lon": [
          -73.95935519999999,
          -73.969707
         ],
         "mode": "lines",
         "type": "scattermapbox"
        },
        {
         "lat": [
          40.57794699999999,
          40.5812659
         ],
         "line": {
          "color": "green",
          "width": 2
         },
         "lon": [
          -73.9612556,
          -73.985452
         ],
         "mode": "lines",
         "type": "scattermapbox"
        },
        {
         "lat": [
          40.735813,
          40.7268419
         ],
         "line": {
          "color": "green",
          "width": 2
         },
         "lon": [
          -74.007578,
          -74.0002098
         ],
         "mode": "lines",
         "type": "scattermapbox"
        },
        {
         "lat": [
          40.6210836,
          40.5872273
         ],
         "line": {
          "color": "green",
          "width": 2
         },
         "lon": [
          -74.0259851,
          -73.9527581
         ],
         "mode": "lines",
         "type": "scattermapbox"
        },
        {
         "lat": [
          40.673869,
          40.735813
         ],
         "line": {
          "color": "green",
          "width": 2
         },
         "lon": [
          -73.7355328,
          -74.007578
         ],
         "mode": "lines",
         "type": "scattermapbox"
        },
        {
         "lat": [
          40.809636,
          40.7575222
         ],
         "line": {
          "color": "green",
          "width": 2
         },
         "lon": [
          -73.881143,
          -73.8343525
         ],
         "mode": "lines",
         "type": "scattermapbox"
        },
        {
         "lat": [
          40.672026,
          40.6949569
         ],
         "line": {
          "color": "green",
          "width": 2
         },
         "lon": [
          -73.9775033,
          -73.98286519999999
         ],
         "mode": "lines",
         "type": "scattermapbox"
        },
        {
         "lat": [
          40.5812659,
          40.7404541
         ],
         "line": {
          "color": "green",
          "width": 2
         },
         "lon": [
          -73.985452,
          -73.9912684
         ],
         "mode": "lines",
         "type": "scattermapbox"
        },
        {
         "lat": [
          40.807887,
          40.809636
         ],
         "line": {
          "color": "green",
          "width": 2
         },
         "lon": [
          -73.8894119,
          -73.881143
         ],
         "mode": "lines",
         "type": "scattermapbox"
        }
       ],
       "layout": {
        "height": 800,
        "legend": {
         "itemsizing": "constant",
         "title": {
          "text": "Legend"
         },
         "tracegroupgap": 0
        },
        "mapbox": {
         "center": {
          "lat": 40.71471444285714,
          "lon": -73.93768327142857
         },
         "domain": {
          "x": [
           0,
           1
          ],
          "y": [
           0,
           1
          ]
         },
         "style": "carto-positron",
         "zoom": 10.5
        },
        "margin": {
         "b": 0,
         "l": 0,
         "r": 0,
         "t": 0
        },
        "template": {
         "data": {
          "bar": [
           {
            "error_x": {
             "color": "#2a3f5f"
            },
            "error_y": {
             "color": "#2a3f5f"
            },
            "marker": {
             "line": {
              "color": "#E5ECF6",
              "width": 0.5
             },
             "pattern": {
              "fillmode": "overlay",
              "size": 10,
              "solidity": 0.2
             }
            },
            "type": "bar"
           }
          ],
          "barpolar": [
           {
            "marker": {
             "line": {
              "color": "#E5ECF6",
              "width": 0.5
             },
             "pattern": {
              "fillmode": "overlay",
              "size": 10,
              "solidity": 0.2
             }
            },
            "type": "barpolar"
           }
          ],
          "carpet": [
           {
            "aaxis": {
             "endlinecolor": "#2a3f5f",
             "gridcolor": "white",
             "linecolor": "white",
             "minorgridcolor": "white",
             "startlinecolor": "#2a3f5f"
            },
            "baxis": {
             "endlinecolor": "#2a3f5f",
             "gridcolor": "white",
             "linecolor": "white",
             "minorgridcolor": "white",
             "startlinecolor": "#2a3f5f"
            },
            "type": "carpet"
           }
          ],
          "choropleth": [
           {
            "colorbar": {
             "outlinewidth": 0,
             "ticks": ""
            },
            "type": "choropleth"
           }
          ],
          "contour": [
           {
            "colorbar": {
             "outlinewidth": 0,
             "ticks": ""
            },
            "colorscale": [
             [
              0,
              "#0d0887"
             ],
             [
              0.1111111111111111,
              "#46039f"
             ],
             [
              0.2222222222222222,
              "#7201a8"
             ],
             [
              0.3333333333333333,
              "#9c179e"
             ],
             [
              0.4444444444444444,
              "#bd3786"
             ],
             [
              0.5555555555555556,
              "#d8576b"
             ],
             [
              0.6666666666666666,
              "#ed7953"
             ],
             [
              0.7777777777777778,
              "#fb9f3a"
             ],
             [
              0.8888888888888888,
              "#fdca26"
             ],
             [
              1,
              "#f0f921"
             ]
            ],
            "type": "contour"
           }
          ],
          "contourcarpet": [
           {
            "colorbar": {
             "outlinewidth": 0,
             "ticks": ""
            },
            "type": "contourcarpet"
           }
          ],
          "heatmap": [
           {
            "colorbar": {
             "outlinewidth": 0,
             "ticks": ""
            },
            "colorscale": [
             [
              0,
              "#0d0887"
             ],
             [
              0.1111111111111111,
              "#46039f"
             ],
             [
              0.2222222222222222,
              "#7201a8"
             ],
             [
              0.3333333333333333,
              "#9c179e"
             ],
             [
              0.4444444444444444,
              "#bd3786"
             ],
             [
              0.5555555555555556,
              "#d8576b"
             ],
             [
              0.6666666666666666,
              "#ed7953"
             ],
             [
              0.7777777777777778,
              "#fb9f3a"
             ],
             [
              0.8888888888888888,
              "#fdca26"
             ],
             [
              1,
              "#f0f921"
             ]
            ],
            "type": "heatmap"
           }
          ],
          "heatmapgl": [
           {
            "colorbar": {
             "outlinewidth": 0,
             "ticks": ""
            },
            "colorscale": [
             [
              0,
              "#0d0887"
             ],
             [
              0.1111111111111111,
              "#46039f"
             ],
             [
              0.2222222222222222,
              "#7201a8"
             ],
             [
              0.3333333333333333,
              "#9c179e"
             ],
             [
              0.4444444444444444,
              "#bd3786"
             ],
             [
              0.5555555555555556,
              "#d8576b"
             ],
             [
              0.6666666666666666,
              "#ed7953"
             ],
             [
              0.7777777777777778,
              "#fb9f3a"
             ],
             [
              0.8888888888888888,
              "#fdca26"
             ],
             [
              1,
              "#f0f921"
             ]
            ],
            "type": "heatmapgl"
           }
          ],
          "histogram": [
           {
            "marker": {
             "pattern": {
              "fillmode": "overlay",
              "size": 10,
              "solidity": 0.2
             }
            },
            "type": "histogram"
           }
          ],
          "histogram2d": [
           {
            "colorbar": {
             "outlinewidth": 0,
             "ticks": ""
            },
            "colorscale": [
             [
              0,
              "#0d0887"
             ],
             [
              0.1111111111111111,
              "#46039f"
             ],
             [
              0.2222222222222222,
              "#7201a8"
             ],
             [
              0.3333333333333333,
              "#9c179e"
             ],
             [
              0.4444444444444444,
              "#bd3786"
             ],
             [
              0.5555555555555556,
              "#d8576b"
             ],
             [
              0.6666666666666666,
              "#ed7953"
             ],
             [
              0.7777777777777778,
              "#fb9f3a"
             ],
             [
              0.8888888888888888,
              "#fdca26"
             ],
             [
              1,
              "#f0f921"
             ]
            ],
            "type": "histogram2d"
           }
          ],
          "histogram2dcontour": [
           {
            "colorbar": {
             "outlinewidth": 0,
             "ticks": ""
            },
            "colorscale": [
             [
              0,
              "#0d0887"
             ],
             [
              0.1111111111111111,
              "#46039f"
             ],
             [
              0.2222222222222222,
              "#7201a8"
             ],
             [
              0.3333333333333333,
              "#9c179e"
             ],
             [
              0.4444444444444444,
              "#bd3786"
             ],
             [
              0.5555555555555556,
              "#d8576b"
             ],
             [
              0.6666666666666666,
              "#ed7953"
             ],
             [
              0.7777777777777778,
              "#fb9f3a"
             ],
             [
              0.8888888888888888,
              "#fdca26"
             ],
             [
              1,
              "#f0f921"
             ]
            ],
            "type": "histogram2dcontour"
           }
          ],
          "mesh3d": [
           {
            "colorbar": {
             "outlinewidth": 0,
             "ticks": ""
            },
            "type": "mesh3d"
           }
          ],
          "parcoords": [
           {
            "line": {
             "colorbar": {
              "outlinewidth": 0,
              "ticks": ""
             }
            },
            "type": "parcoords"
           }
          ],
          "pie": [
           {
            "automargin": true,
            "type": "pie"
           }
          ],
          "scatter": [
           {
            "fillpattern": {
             "fillmode": "overlay",
             "size": 10,
             "solidity": 0.2
            },
            "type": "scatter"
           }
          ],
          "scatter3d": [
           {
            "line": {
             "colorbar": {
              "outlinewidth": 0,
              "ticks": ""
             }
            },
            "marker": {
             "colorbar": {
              "outlinewidth": 0,
              "ticks": ""
             }
            },
            "type": "scatter3d"
           }
          ],
          "scattercarpet": [
           {
            "marker": {
             "colorbar": {
              "outlinewidth": 0,
              "ticks": ""
             }
            },
            "type": "scattercarpet"
           }
          ],
          "scattergeo": [
           {
            "marker": {
             "colorbar": {
              "outlinewidth": 0,
              "ticks": ""
             }
            },
            "type": "scattergeo"
           }
          ],
          "scattergl": [
           {
            "marker": {
             "colorbar": {
              "outlinewidth": 0,
              "ticks": ""
             }
            },
            "type": "scattergl"
           }
          ],
          "scattermapbox": [
           {
            "marker": {
             "colorbar": {
              "outlinewidth": 0,
              "ticks": ""
             }
            },
            "type": "scattermapbox"
           }
          ],
          "scatterpolar": [
           {
            "marker": {
             "colorbar": {
              "outlinewidth": 0,
              "ticks": ""
             }
            },
            "type": "scatterpolar"
           }
          ],
          "scatterpolargl": [
           {
            "marker": {
             "colorbar": {
              "outlinewidth": 0,
              "ticks": ""
             }
            },
            "type": "scatterpolargl"
           }
          ],
          "scatterternary": [
           {
            "marker": {
             "colorbar": {
              "outlinewidth": 0,
              "ticks": ""
             }
            },
            "type": "scatterternary"
           }
          ],
          "surface": [
           {
            "colorbar": {
             "outlinewidth": 0,
             "ticks": ""
            },
            "colorscale": [
             [
              0,
              "#0d0887"
             ],
             [
              0.1111111111111111,
              "#46039f"
             ],
             [
              0.2222222222222222,
              "#7201a8"
             ],
             [
              0.3333333333333333,
              "#9c179e"
             ],
             [
              0.4444444444444444,
              "#bd3786"
             ],
             [
              0.5555555555555556,
              "#d8576b"
             ],
             [
              0.6666666666666666,
              "#ed7953"
             ],
             [
              0.7777777777777778,
              "#fb9f3a"
             ],
             [
              0.8888888888888888,
              "#fdca26"
             ],
             [
              1,
              "#f0f921"
             ]
            ],
            "type": "surface"
           }
          ],
          "table": [
           {
            "cells": {
             "fill": {
              "color": "#EBF0F8"
             },
             "line": {
              "color": "white"
             }
            },
            "header": {
             "fill": {
              "color": "#C8D4E3"
             },
             "line": {
              "color": "white"
             }
            },
            "type": "table"
           }
          ]
         },
         "layout": {
          "annotationdefaults": {
           "arrowcolor": "#2a3f5f",
           "arrowhead": 0,
           "arrowwidth": 1
          },
          "autotypenumbers": "strict",
          "coloraxis": {
           "colorbar": {
            "outlinewidth": 0,
            "ticks": ""
           }
          },
          "colorscale": {
           "diverging": [
            [
             0,
             "#8e0152"
            ],
            [
             0.1,
             "#c51b7d"
            ],
            [
             0.2,
             "#de77ae"
            ],
            [
             0.3,
             "#f1b6da"
            ],
            [
             0.4,
             "#fde0ef"
            ],
            [
             0.5,
             "#f7f7f7"
            ],
            [
             0.6,
             "#e6f5d0"
            ],
            [
             0.7,
             "#b8e186"
            ],
            [
             0.8,
             "#7fbc41"
            ],
            [
             0.9,
             "#4d9221"
            ],
            [
             1,
             "#276419"
            ]
           ],
           "sequential": [
            [
             0,
             "#0d0887"
            ],
            [
             0.1111111111111111,
             "#46039f"
            ],
            [
             0.2222222222222222,
             "#7201a8"
            ],
            [
             0.3333333333333333,
             "#9c179e"
            ],
            [
             0.4444444444444444,
             "#bd3786"
            ],
            [
             0.5555555555555556,
             "#d8576b"
            ],
            [
             0.6666666666666666,
             "#ed7953"
            ],
            [
             0.7777777777777778,
             "#fb9f3a"
            ],
            [
             0.8888888888888888,
             "#fdca26"
            ],
            [
             1,
             "#f0f921"
            ]
           ],
           "sequentialminus": [
            [
             0,
             "#0d0887"
            ],
            [
             0.1111111111111111,
             "#46039f"
            ],
            [
             0.2222222222222222,
             "#7201a8"
            ],
            [
             0.3333333333333333,
             "#9c179e"
            ],
            [
             0.4444444444444444,
             "#bd3786"
            ],
            [
             0.5555555555555556,
             "#d8576b"
            ],
            [
             0.6666666666666666,
             "#ed7953"
            ],
            [
             0.7777777777777778,
             "#fb9f3a"
            ],
            [
             0.8888888888888888,
             "#fdca26"
            ],
            [
             1,
             "#f0f921"
            ]
           ]
          },
          "colorway": [
           "#636efa",
           "#EF553B",
           "#00cc96",
           "#ab63fa",
           "#FFA15A",
           "#19d3f3",
           "#FF6692",
           "#B6E880",
           "#FF97FF",
           "#FECB52"
          ],
          "font": {
           "color": "#2a3f5f"
          },
          "geo": {
           "bgcolor": "white",
           "lakecolor": "white",
           "landcolor": "#E5ECF6",
           "showlakes": true,
           "showland": true,
           "subunitcolor": "white"
          },
          "hoverlabel": {
           "align": "left"
          },
          "hovermode": "closest",
          "mapbox": {
           "style": "light"
          },
          "paper_bgcolor": "white",
          "plot_bgcolor": "#E5ECF6",
          "polar": {
           "angularaxis": {
            "gridcolor": "white",
            "linecolor": "white",
            "ticks": ""
           },
           "bgcolor": "#E5ECF6",
           "radialaxis": {
            "gridcolor": "white",
            "linecolor": "white",
            "ticks": ""
           }
          },
          "scene": {
           "xaxis": {
            "backgroundcolor": "#E5ECF6",
            "gridcolor": "white",
            "gridwidth": 2,
            "linecolor": "white",
            "showbackground": true,
            "ticks": "",
            "zerolinecolor": "white"
           },
           "yaxis": {
            "backgroundcolor": "#E5ECF6",
            "gridcolor": "white",
            "gridwidth": 2,
            "linecolor": "white",
            "showbackground": true,
            "ticks": "",
            "zerolinecolor": "white"
           },
           "zaxis": {
            "backgroundcolor": "#E5ECF6",
            "gridcolor": "white",
            "gridwidth": 2,
            "linecolor": "white",
            "showbackground": true,
            "ticks": "",
            "zerolinecolor": "white"
           }
          },
          "shapedefaults": {
           "line": {
            "color": "#2a3f5f"
           }
          },
          "ternary": {
           "aaxis": {
            "gridcolor": "white",
            "linecolor": "white",
            "ticks": ""
           },
           "baxis": {
            "gridcolor": "white",
            "linecolor": "white",
            "ticks": ""
           },
           "bgcolor": "#E5ECF6",
           "caxis": {
            "gridcolor": "white",
            "linecolor": "white",
            "ticks": ""
           }
          },
          "title": {
           "x": 0.05
          },
          "xaxis": {
           "automargin": true,
           "gridcolor": "white",
           "linecolor": "white",
           "ticks": "",
           "title": {
            "standoff": 15
           },
           "zerolinecolor": "white",
           "zerolinewidth": 2
          },
          "yaxis": {
           "automargin": true,
           "gridcolor": "white",
           "linecolor": "white",
           "ticks": "",
           "title": {
            "standoff": 15
           },
           "zerolinecolor": "white",
           "zerolinewidth": 2
          }
         }
        }
       }
      }
     },
     "metadata": {},
     "output_type": "display_data"
    }
   ],
   "source": [
    "# Adding latitude and longitude from the shops dataframe\n",
    "df_trips_from, df_trips_to = resultsCleaning(df_trips, shops_2015)\n",
    "\n",
    "# Creating and plotting the map\n",
    "routemap(df_trips, shops_2015, df_trips_from, df_trips_to)"
   ]
  },
  {
   "cell_type": "markdown",
   "id": "75238214",
   "metadata": {},
   "source": [
    "## Stage 2"
   ]
  },
  {
   "cell_type": "code",
   "execution_count": 9,
   "id": "525a309b",
   "metadata": {},
   "outputs": [
    {
     "data": {
      "text/html": [
       "<div>\n",
       "<style scoped>\n",
       "    .dataframe tbody tr th:only-of-type {\n",
       "        vertical-align: middle;\n",
       "    }\n",
       "\n",
       "    .dataframe tbody tr th {\n",
       "        vertical-align: top;\n",
       "    }\n",
       "\n",
       "    .dataframe thead th {\n",
       "        text-align: right;\n",
       "    }\n",
       "</style>\n",
       "<table border=\"1\" class=\"dataframe\">\n",
       "  <thead>\n",
       "    <tr style=\"text-align: right;\">\n",
       "      <th></th>\n",
       "      <th>From</th>\n",
       "      <th>To</th>\n",
       "    </tr>\n",
       "  </thead>\n",
       "  <tbody>\n",
       "    <tr>\n",
       "      <th>0</th>\n",
       "      <td>Depot</td>\n",
       "      <td>ChIJiUJ1DI5ZwokRWdK6SPg9BOY</td>\n",
       "    </tr>\n",
       "    <tr>\n",
       "      <th>1</th>\n",
       "      <td>Depot</td>\n",
       "      <td>ChIJzRG6yrrzwokRQ5kjG2RJCwM</td>\n",
       "    </tr>\n",
       "    <tr>\n",
       "      <th>2</th>\n",
       "      <td>Depot</td>\n",
       "      <td>ChIJ0zAa911ZwokRQlmIU8v4Kzs</td>\n",
       "    </tr>\n",
       "    <tr>\n",
       "      <th>3</th>\n",
       "      <td>Depot</td>\n",
       "      <td>ChIJLXqvAAJdwokRSeu3qp3b1es</td>\n",
       "    </tr>\n",
       "    <tr>\n",
       "      <th>4</th>\n",
       "      <td>Depot</td>\n",
       "      <td>ChIJ_QfagF9cwokR7b8aZshUano</td>\n",
       "    </tr>\n",
       "  </tbody>\n",
       "</table>\n",
       "</div>"
      ],
      "text/plain": [
       "    From                           To\n",
       "0  Depot  ChIJiUJ1DI5ZwokRWdK6SPg9BOY\n",
       "1  Depot  ChIJzRG6yrrzwokRQ5kjG2RJCwM\n",
       "2  Depot  ChIJ0zAa911ZwokRQlmIU8v4Kzs\n",
       "3  Depot  ChIJLXqvAAJdwokRSeu3qp3b1es\n",
       "4  Depot  ChIJ_QfagF9cwokR7b8aZshUano"
      ]
     },
     "execution_count": 9,
     "metadata": {},
     "output_type": "execute_result"
    }
   ],
   "source": [
    "df_trips = pd.read_csv('routings/routing_optimal_2015_stage_2_Distance.csv')\n",
    "df_trips.head()"
   ]
  },
  {
   "cell_type": "code",
   "execution_count": null,
   "id": "35a794f3",
   "metadata": {},
   "outputs": [],
   "source": [
    "# Adding latitude and longitude from the shops dataframe\n",
    "df_trips_from, df_trips_to = resultsCleaning(df_trips, shops_2015)\n",
    "\n",
    "# Creating and plotting the map\n",
    "routemap(df_trips, shops_2015, df_trips_from, df_trips_to)"
   ]
  },
  {
   "cell_type": "markdown",
   "id": "5faa60a9",
   "metadata": {},
   "source": [
    "## Stage 3"
   ]
  },
  {
   "cell_type": "code",
   "execution_count": null,
   "id": "e6dc3d38",
   "metadata": {},
   "outputs": [],
   "source": [
    "df_trips = pd.read_csv('routings/routing_optimal_2015_stage_3_Distance.csv')\n",
    "df_trips.head()"
   ]
  },
  {
   "cell_type": "code",
   "execution_count": null,
   "id": "0d4da670",
   "metadata": {},
   "outputs": [],
   "source": [
    "# Adding latitude and longitude from the shops dataframe\n",
    "df_trips_from, df_trips_to = resultsCleaning(df_trips, shops_2015)\n",
    "\n",
    "# Creating and plotting the map\n",
    "routemap(df_trips, shops_2015, df_trips_from, df_trips_to)"
   ]
  },
  {
   "cell_type": "markdown",
   "id": "0f945c73",
   "metadata": {},
   "source": [
    "## Stage 4"
   ]
  },
  {
   "cell_type": "code",
   "execution_count": null,
   "id": "3172dd5a",
   "metadata": {},
   "outputs": [],
   "source": [
    "df_trips = pd.read_csv('routings/routing_optimal_2015_stage_4_Distance.csv')\n",
    "df_trips.head()"
   ]
  },
  {
   "cell_type": "code",
   "execution_count": null,
   "id": "400d055f",
   "metadata": {},
   "outputs": [],
   "source": [
    "# Adding latitude and longitude from the shops dataframe\n",
    "df_trips_from, df_trips_to = resultsCleaning(df_trips, shops_2015)\n",
    "\n",
    "# Creating and plotting the map\n",
    "routemap(df_trips, shops_2015, df_trips_from, df_trips_to)"
   ]
  },
  {
   "cell_type": "markdown",
   "id": "e4df4686",
   "metadata": {},
   "source": [
    "# Application on 2020 data"
   ]
  },
  {
   "cell_type": "markdown",
   "metadata": {},
   "source": [
    "## Stage 1"
   ]
  },
  {
   "cell_type": "code",
   "execution_count": null,
   "metadata": {},
   "outputs": [],
   "source": [
    "df_trips = pd.read_csv('routings/routing_optimal_2020_stage_1_Distance.csv')\n",
    "df_trips.head()"
   ]
  },
  {
   "cell_type": "code",
   "execution_count": null,
   "metadata": {},
   "outputs": [],
   "source": [
    "# Adding latitude and longitude from the shops dataframe\n",
    "df_trips_from, df_trips_to = resultsCleaning(df_trips, shops_2015)\n",
    "\n",
    "# Creating and plotting the map\n",
    "routemap(df_trips, shops_2015, df_trips_from, df_trips_to)"
   ]
  },
  {
   "cell_type": "markdown",
   "id": "9ad0a34a",
   "metadata": {},
   "source": [
    "## Stage 2"
   ]
  },
  {
   "cell_type": "code",
   "execution_count": null,
   "id": "ce7d2d6b",
   "metadata": {},
   "outputs": [],
   "source": [
    "df_trips = pd.read_csv('routings/routing_optimal_2020_stage_2_Distance.csv')\n",
    "df_trips.head()"
   ]
  },
  {
   "cell_type": "code",
   "execution_count": null,
   "id": "ebe7779d",
   "metadata": {},
   "outputs": [],
   "source": [
    "# Adding latitude and longitude from the shops dataframe\n",
    "df_trips_from, df_trips_to = resultsCleaning(df_trips, shops_2015)\n",
    "\n",
    "# Creating and plotting the map\n",
    "routemap(df_trips, shops_2015, df_trips_from, df_trips_to)"
   ]
  },
  {
   "cell_type": "markdown",
   "id": "0fb3189d",
   "metadata": {},
   "source": [
    "## Stage 3"
   ]
  },
  {
   "cell_type": "code",
   "execution_count": null,
   "id": "d0ba118f",
   "metadata": {},
   "outputs": [],
   "source": [
    "df_trips = pd.read_csv('routings/routing_optimal_2020_stage_3_Distance.csv')\n",
    "df_trips.head()"
   ]
  },
  {
   "cell_type": "code",
   "execution_count": null,
   "id": "89117872",
   "metadata": {},
   "outputs": [],
   "source": [
    "# Adding latitude and longitude from the shops dataframe\n",
    "df_trips_from, df_trips_to = resultsCleaning(df_trips, shops_2015)\n",
    "\n",
    "# Creating and plotting the map\n",
    "routemap(df_trips, shops_2015, df_trips_from, df_trips_to)"
   ]
  },
  {
   "cell_type": "markdown",
   "id": "8e101700",
   "metadata": {},
   "source": [
    "## Stage 4"
   ]
  },
  {
   "cell_type": "code",
   "execution_count": null,
   "id": "76284712",
   "metadata": {},
   "outputs": [],
   "source": [
    "df_trips = pd.read_csv('routings/routing_optimal_2020_stage_4_Distance.csv')\n",
    "df_trips.head()"
   ]
  },
  {
   "cell_type": "code",
   "execution_count": null,
   "id": "617e3a2b",
   "metadata": {},
   "outputs": [],
   "source": [
    "# Adding latitude and longitude from the shops dataframe\n",
    "df_trips_from, df_trips_to = resultsCleaning(df_trips, shops_2015)\n",
    "\n",
    "# Creating and plotting the map\n",
    "routemap(df_trips, shops_2015, df_trips_from, df_trips_to)"
   ]
  }
 ],
 "metadata": {
  "kernelspec": {
   "display_name": "Python 3",
   "language": "python",
   "name": "python3"
  },
  "language_info": {
   "codemirror_mode": {
    "name": "ipython",
    "version": 3
   },
   "file_extension": ".py",
   "mimetype": "text/x-python",
   "name": "python",
   "nbconvert_exporter": "python",
   "pygments_lexer": "ipython3",
   "version": "3.11.5"
  }
 },
 "nbformat": 4,
 "nbformat_minor": 5
}
