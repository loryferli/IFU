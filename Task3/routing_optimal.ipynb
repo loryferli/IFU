{
 "cells": [
  {
   "metadata": {},
   "cell_type": "code",
   "source": [
    "import numpy as np\n",
    "import pandas as pd\n",
    "from pandas.core.internals.construction import to_arrays\n",
    "from prompt_toolkit.utils import to_int\n",
    "from pulp import *"
   ],
   "id": "b2b56e2a4cc0c7c",
   "outputs": [],
   "execution_count": null
  },
  {
   "metadata": {},
   "cell_type": "code",
   "source": [
    "def find_loops(edges):\n",
    "    \"\"\"\n",
    "    Find all closed loops starting and ending at node 0 in a directed graph.\n",
    "\n",
    "    Args:\n",
    "        edges: List of tuples representing directed edges (from_node, to_node)\n",
    "\n",
    "    Returns:\n",
    "        List of lists, where each sublist contains tuples forming a closed loop from 0 to 0\n",
    "    \"\"\"\n",
    "    # Create adjacency list for faster lookup\n",
    "    adj = {}\n",
    "    for start, end in edges:\n",
    "        if start not in adj:\n",
    "            adj[start] = []\n",
    "        adj[start].append(end)\n",
    "\n",
    "    def find_paths(current, path, visited):\n",
    "        \"\"\"\n",
    "        Recursive helper function to find all paths from current node back to 0.\n",
    "        \"\"\"\n",
    "        if current == 'Depot' and len(path) > 0:  # Found a loop back to 0\n",
    "            return [path[:]]\n",
    "\n",
    "        if current not in adj:  # Dead end\n",
    "            return []\n",
    "\n",
    "        paths = []\n",
    "        for next_node in adj[current]:\n",
    "            if (current, next_node) not in visited:  # Avoid using same edge twice\n",
    "                path.append((current, next_node))\n",
    "                visited.add((current, next_node))\n",
    "                paths.extend(find_paths(next_node, path, visited))\n",
    "                path.pop()\n",
    "                visited.remove((current, next_node))\n",
    "        return paths\n",
    "\n",
    "    # Start DFS from node 0\n",
    "    all_loops = find_paths('Depot', [], set())\n",
    "\n",
    "    # Filter out non-minimal loops (loops that contain other loops)\n",
    "    minimal_loops = []\n",
    "    for loop in all_loops:\n",
    "        # Check if this loop contains any other loop\n",
    "        is_minimal = True\n",
    "        visited_nodes = {node for edge in loop for node in edge}\n",
    "        for other_loop in all_loops:\n",
    "            if loop != other_loop:\n",
    "                other_nodes = {node for edge in other_loop for node in edge}\n",
    "                if other_nodes.issubset(visited_nodes) and len(other_loop) < len(loop):\n",
    "                    is_minimal = False\n",
    "                    break\n",
    "        if is_minimal:\n",
    "            minimal_loops.append(loop)\n",
    "\n",
    "    return minimal_loops"
   ],
   "id": "b3ecd3faf674ddbd",
   "outputs": [],
   "execution_count": null
  },
  {
   "metadata": {},
   "cell_type": "markdown",
   "source": "## Cost matrix",
   "id": "9084aecc32487244"
  },
  {
   "metadata": {},
   "cell_type": "code",
   "source": [
    "cost_matrix = pd.read_csv('../costs/costMatrixDistance.csv', index_col=0)\n",
    "#cost_matrix = pd.read_csv('../costs/costMatrixDuration.csv', index_col=0)\n",
    "#cost_matrix = pd.read_csv('../costs/costMatrixFinancial.csv', index_col=0)\n",
    "#cost_matrix = pd.read_csv('../costs/costMatrixDistance-2020.csv', index_col=0)\n",
    "#cost_matrix = pd.read_csv('../costs/costMatrixDuration-2020.csv', index_col=0)\n",
    "#cost_matrix = pd.read_csv('../costs/costMatrixFinancial-2020.csv', index_col=0)\n",
    "\n",
    "# Convert the entire DataFrame to integers\n",
    "cost_matrix = cost_matrix.astype(float)\n",
    "\n",
    "# If the index of the DataFrame needs to be integers (e.g., if the index is non-numeric):\n",
    "cost_matrix.index = cost_matrix.index.astype(str)\n",
    "\n",
    "# If the column names need to be integers (if they are non-numeric or string-based):\n",
    "cost_matrix.columns = cost_matrix.columns.astype(str)"
   ],
   "id": "b6df81142ad630e5",
   "outputs": [],
   "execution_count": null
  },
  {
   "metadata": {},
   "cell_type": "markdown",
   "source": "## Shop demands",
   "id": "60f340d365ad3538"
  },
  {
   "metadata": {},
   "cell_type": "code",
   "source": [
    "shop_demands = pd.read_csv('../2015_shop_locations.csv').set_index('id')[['demand(kg)', 'stage']].astype(float)\n",
    "shop_demands = shop_demands.loc[shop_demands['stage'].isin([1, 2, 3, 4]), 'demand(kg)'] # Choose the stages to visit\n",
    "shops = shop_demands.index\n",
    "nodes = shops.copy()\n",
    "nodes = np.append('Depot', nodes)\n",
    "\n",
    "shop_demands.shape"
   ],
   "id": "341c280d30d97830",
   "outputs": [],
   "execution_count": null
  },
  {
   "metadata": {},
   "cell_type": "markdown",
   "source": "## Vehicle routing problem",
   "id": "ad6b8b63ad939912"
  },
  {
   "metadata": {},
   "cell_type": "code",
   "source": [
    "# Vehicle capacity\n",
    "van_capacity = 300"
   ],
   "id": "ae600592dee2bf48",
   "outputs": [],
   "execution_count": null
  },
  {
   "metadata": {},
   "cell_type": "code",
   "source": [
    "# Creates a list of tuples containing all the possible routes for transport\n",
    "A = [(i,j) for i in nodes for j in nodes if i!=j]"
   ],
   "id": "e411e93971d9a8d",
   "outputs": [],
   "execution_count": null
  },
  {
   "metadata": {},
   "cell_type": "code",
   "source": "A",
   "id": "fb13b5b7f81d659e",
   "outputs": [],
   "execution_count": null
  },
  {
   "metadata": {},
   "cell_type": "code",
   "source": [
    "# A set of variables x is created to contain the vehicle routes variables (binary var)\n",
    "x = {}\n",
    "for a in A:\n",
    "    x[a] = LpVariable(\"x(%s,%s)\" %a, cat=LpBinary)\n",
    "\n",
    "# A set of variables u is created to contain the continuous delivered quantity\n",
    "u = {}\n",
    "for shop in shops:\n",
    "    u[shop] = LpVariable(\"u(%s)\" %shop, shop_demands[shop], van_capacity)"
   ],
   "id": "a0d5f44f38ebe170",
   "outputs": [],
   "execution_count": null
  },
  {
   "metadata": {},
   "cell_type": "code",
   "source": [
    "# Creates the 'prob' variable to contain the problem data\n",
    "prob = LpProblem(\"CVRP_Problem\",LpMinimize)"
   ],
   "id": "2b59dc4d26b2708c",
   "outputs": [],
   "execution_count": null
  },
  {
   "metadata": {},
   "cell_type": "code",
   "source": [
    "# The objective function is added to 'prob' first\n",
    "prob += lpSum(cost_matrix.loc[i,j]*x[i,j] for (i,j) in A)"
   ],
   "id": "c837769839190df3",
   "outputs": [],
   "execution_count": null
  },
  {
   "metadata": {},
   "cell_type": "code",
   "source": [
    "#Constraint 1 : imposes that exactly one arc enters each customer node\n",
    "one_visit_out = {}\n",
    "for shop in shops:\n",
    "    one_visit_out[shop] = lpSum([x[shop,node] for node in nodes if shop!=node]) == 1.0\n",
    "    prob += one_visit_out[shop]"
   ],
   "id": "7d69d6f804ee42f1",
   "outputs": [],
   "execution_count": null
  },
  {
   "metadata": {},
   "cell_type": "code",
   "source": [
    "#Constraint 2 : imposes that exactly one arc leaves each customer node\n",
    "one_visit_in = {}\n",
    "for shop in shops:\n",
    "    one_visit_in[shop] = lpSum([x[node,shop] for node in nodes if node!=shop]) == 1.0\n",
    "    prob += one_visit_in[shop]"
   ],
   "id": "aa9030c5d13266c7",
   "outputs": [],
   "execution_count": null
  },
  {
   "metadata": {},
   "cell_type": "code",
   "source": [
    "#Constraint 4 : imposes the amount of flow that leaves the depot should be identical\n",
    "#with the flow returns to the depot\n",
    "depot_node = lpSum([x['Depot',shop] for shop in shops]) == lpSum([x[shop,'Depot'] for shop in shops])\n",
    "prob += depot_node"
   ],
   "id": "8e6ed35c0dcc85d8",
   "outputs": [],
   "execution_count": null
  },
  {
   "metadata": {},
   "cell_type": "code",
   "source": [
    "#Constraint 5 : vehicle capacity constraint and sub tour elimination constraint\n",
    "sub_tours_cap = {}\n",
    "for shop_out in shops:\n",
    "    for shop_in in shops:\n",
    "        if shop_out != shop_in:\n",
    "            sub_tours_cap[shop_out,shop_in] = u[shop_out] - u[shop_in] + van_capacity * x[shop_out,shop_in] <= van_capacity - shop_demands[shop_in]\n",
    "            prob += sub_tours_cap[shop_out,shop_in]"
   ],
   "id": "d94e0051c4020428",
   "outputs": [],
   "execution_count": null
  },
  {
   "metadata": {},
   "cell_type": "code",
   "source": [
    "# The problem is solved using PuLP's choice of Solver (ici Cplex, retourne 1 si résolu, -1 sinon)\n",
    "prob.solve(GUROBI(msg=True, timeLimit=600))"
   ],
   "id": "8f583d93652d3054",
   "outputs": [],
   "execution_count": null
  },
  {
   "metadata": {},
   "cell_type": "code",
   "source": [
    "# The status of the solution is printed to the screen (optimal ou pas)\n",
    "print(\"Status:\", LpStatus[prob.status])"
   ],
   "id": "690a536ee2a24406",
   "outputs": [],
   "execution_count": null
  },
  {
   "metadata": {},
   "cell_type": "code",
   "source": [
    "# Each of the variables is printed with it's resolved optimum value\n",
    "for key,val in x.items():\n",
    "    if val.varValue==1.0:\n",
    "        print(val,\"=\",val.varValue)"
   ],
   "id": "6b64458f47b46b17",
   "outputs": [],
   "execution_count": null
  },
  {
   "metadata": {},
   "cell_type": "code",
   "source": [
    "# Print bounds\n",
    "print(\"Lower bound = \", value(prob.solverModel.ObjBound))\n",
    "print(\"Upper bound = \", value(prob.solverModel.ObjVal))"
   ],
   "id": "7a2be0ae9b7f78eb",
   "outputs": [],
   "execution_count": null
  },
  {
   "metadata": {},
   "cell_type": "code",
   "source": [
    "# Afficher les acrs correspondant à la solution\n",
    "active_arcs = [key for key,val in x.items() if val.varValue >=0.9 ]\n",
    "find_loops(active_arcs)\n"
   ],
   "id": "1c96e1662bc46f67",
   "outputs": [],
   "execution_count": null
  },
  {
   "metadata": {},
   "cell_type": "code",
   "source": [
    "# Each of the variables is printed with it's resolved optimum value\n",
    "for key,val in u.items():\n",
    "    print(val,\"=\",val.varValue)"
   ],
   "id": "d31d900f180483d8",
   "outputs": [],
   "execution_count": null
  },
  {
   "metadata": {},
   "cell_type": "code",
   "source": [
    "# Convert the list of active arcs to a DataFrame\n",
    "active_arcs_df = pd.DataFrame(active_arcs, columns=['From', 'To'])\n",
    "\n",
    "# Save the DataFrame to a CSV file\n",
    "active_arcs_df.to_csv('../routings/routing_optimal_2015_stage_4_Distance.csv', index=False)"
   ],
   "id": "79101fe5f9c03215",
   "outputs": [],
   "execution_count": null
  }
 ],
 "metadata": {
  "kernelspec": {
   "name": "python3",
   "language": "python",
   "display_name": "Python 3 (ipykernel)"
  }
 },
 "nbformat": 5,
 "nbformat_minor": 9
}
