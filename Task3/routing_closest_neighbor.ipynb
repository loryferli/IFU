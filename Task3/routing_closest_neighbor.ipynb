{
 "cells": [
  {
   "metadata": {},
   "cell_type": "code",
   "source": [
    "import numpy as np\n",
    "import pandas as pd"
   ],
   "id": "b2fd9c71c913a8d3",
   "outputs": [],
   "execution_count": null
  },
  {
   "metadata": {},
   "cell_type": "markdown",
   "source": "## Cost matrix",
   "id": "d53dd7ff1d4e51b1"
  },
  {
   "metadata": {},
   "cell_type": "code",
   "source": [
    "#cost_matrix = pd.read_csv('../costs/costMatrixDistance.csv', index_col=0)\n",
    "#cost_matrix = pd.read_csv('../costs/costMatrixDuration.csv', index_col=0)\n",
    "#cost_matrix = pd.read_csv('../costs/costMatrixFinancial.csv', index_col=0)\n",
    "cost_matrix = pd.read_csv('../costs/costMatrixDistance-2020.csv', index_col=0)\n",
    "#cost_matrix = pd.read_csv('../costs/costMatrixDuration-2020.csv', index_col=0)\n",
    "#cost_matrix = pd.read_csv('../costs/costMatrixFinancial-2020.csv', index_col=0)\n",
    "\n",
    "# Convert the entire DataFrame to integers\n",
    "cost_matrix = cost_matrix.astype(float)\n",
    "\n",
    "# If the index of the DataFrame needs to be integers (e.g., if the index is non-numeric):\n",
    "cost_matrix.index = cost_matrix.index.astype(str)\n",
    "\n",
    "# If the column names need to be integers (if they are non-numeric or string-based):\n",
    "cost_matrix.columns = cost_matrix.columns.astype(str)"
   ],
   "id": "c338a78d31dbc2bf",
   "outputs": [],
   "execution_count": null
  },
  {
   "metadata": {},
   "cell_type": "code",
   "source": "cost_matrix",
   "id": "d7a0109b41f170d9",
   "outputs": [],
   "execution_count": null
  },
  {
   "metadata": {},
   "cell_type": "code",
   "source": [
    "# Number of shops to visit\n",
    "n = cost_matrix.shape[0]\n",
    "\n",
    "# Calculate M\n",
    "M = 0\n",
    "for i in range(n):\n",
    "    for j in range(n):\n",
    "        M += cost_matrix.iloc[i,j]\n",
    "\n",
    "# M cost for the path i->i\n",
    "for i in range(n):\n",
    "    cost_matrix.iloc[i,i] = M + 1"
   ],
   "id": "5c9f90c349a5cf60",
   "outputs": [],
   "execution_count": null
  },
  {
   "metadata": {},
   "cell_type": "code",
   "source": "cost_matrix",
   "id": "eb89fb7fd7a9c2e1",
   "outputs": [],
   "execution_count": null
  },
  {
   "metadata": {},
   "cell_type": "markdown",
   "source": "## Shop demands",
   "id": "915e121796a19880"
  },
  {
   "metadata": {},
   "cell_type": "code",
   "source": [
    "# Select the shop locations and their demands\n",
    "#shop_demands = pd.read_csv('../2015_shop_locations.csv').set_index('id')[['stage', 'demand(kg)']].astype(float)\n",
    "shop_demands = pd.read_csv('../2020_shop_locations.csv').set_index('id')[['stage', 'demand(kg)']].astype(float)\n",
    "\n",
    "shop_demands = shop_demands.loc[shop_demands['stage'].isin([1, 2, 3, 4]), 'demand(kg)'] # Choose the stages to visit\n",
    "shops = shop_demands.index\n",
    "nodes = shops.copy()\n",
    "nodes = np.append('Depot', nodes)"
   ],
   "id": "9e4a0b81a978ea11",
   "outputs": [],
   "execution_count": null
  },
  {
   "metadata": {},
   "cell_type": "markdown",
   "source": "## Closest neighbour heuristic",
   "id": "cd75638c2f82dd80"
  },
  {
   "metadata": {},
   "cell_type": "code",
   "source": [
    "# Start from the storage location, go to the lowest cost shop, then go to the lowest cost shop from there, and so on until all shops are visited\n",
    "\n",
    "# Create a list of visited shops\n",
    "visited = ['Depot'] # Start from the storage location\n",
    "\n",
    "# Create a list of unvisited shops\n",
    "unvisited = shop_demands.index.to_list()\n",
    "\n",
    "# Calculate the cost of the route\n",
    "cost = 0\n",
    "\n",
    "# Van capacity\n",
    "van_capacity = 300\n",
    "remaining_capacity = van_capacity"
   ],
   "id": "d11759df9ce474ab",
   "outputs": [],
   "execution_count": null
  },
  {
   "metadata": {},
   "cell_type": "code",
   "source": [
    "active_arcs = []  # List to store paths for all trucks\n",
    "current_arcs = []  # Current path for the active truck\n",
    "\n",
    "while len(unvisited) > 0:\n",
    "    current = 'Depot'  # Start from the storage location\n",
    "    while len(unvisited) >= 0:\n",
    "\n",
    "        # Get the costs of the unvisited shops\n",
    "        costs = cost_matrix.loc[current, unvisited]\n",
    "\n",
    "        # Filter out shops that exceed the remaining capacity\n",
    "        feasible_shops = [shop for shop in unvisited if shop_demands[shop] <= remaining_capacity]\n",
    "\n",
    "        if not feasible_shops:\n",
    "            # If no feasible shops, end the current truck's route and reset\n",
    "            next_shop = 'Depot'  # Go back to the storage location\n",
    "            current_arcs.append((current, next_shop))\n",
    "            active_arcs.append(current_arcs)\n",
    "            current_arcs = []  # Reset the path for the next truck\n",
    "            remaining_capacity = van_capacity  # Reset the capacity for the new truck\n",
    "            break  # Exit the loop to start with a new truck\n",
    "\n",
    "        # Get the costs of the feasible shops\n",
    "        feasible_costs = costs[costs.index.astype(str).isin(feasible_shops)]\n",
    "\n",
    "        # Get the index of the lowest cost shop\n",
    "        next_shop = feasible_costs.idxmin()\n",
    "\n",
    "        # Store the arc between current and next_shop\n",
    "        current_arcs.append((current, next_shop))\n",
    "\n",
    "        # Add the lowest cost shop to the visited list\n",
    "        visited.append(next_shop)\n",
    "\n",
    "        # Remove the lowest cost shop from the unvisited list\n",
    "        unvisited.remove(next_shop)\n",
    "\n",
    "        # Add the cost of the route\n",
    "        cost += feasible_costs.min()\n",
    "\n",
    "        # Update the remaining capacity\n",
    "        remaining_capacity -= shop_demands[next_shop]\n",
    "\n",
    "        # Move to the next shop\n",
    "        current = next_shop\n"
   ],
   "id": "ea9c0c544bd961f1",
   "outputs": [],
   "execution_count": null
  },
  {
   "metadata": {},
   "cell_type": "markdown",
   "source": "# Cost and route",
   "id": "d124107a81eed9df"
  },
  {
   "metadata": {},
   "cell_type": "code",
   "source": [
    "# Calculate the cost of the route\n",
    "print('Cost of the route:', cost)\n",
    "print('Route:', active_arcs)"
   ],
   "id": "7980bb4b8a28947d",
   "outputs": [],
   "execution_count": null
  },
  {
   "metadata": {},
   "cell_type": "code",
   "source": [
    "def calculate_route_cost(routes, cost_matrix):\n",
    "    \"\"\"\n",
    "    Calculate the total cost of routes by summing arc costs from the cost matrix.\n",
    "\n",
    "    Parameters:\n",
    "    - routes: List of routes, where each route is a list of (start, end) tuples\n",
    "    - cost_matrix: DataFrame of transportation costs\n",
    "\n",
    "    Returns:\n",
    "    - Total route cost\n",
    "    \"\"\"\n",
    "    total_cost = 0\n",
    "    for route in routes:\n",
    "        route_cost = sum(cost_matrix.loc[start, end] for start, end in route)\n",
    "        total_cost += route_cost\n",
    "    return total_cost"
   ],
   "id": "5e0ab6b0b2ba3b53",
   "outputs": [],
   "execution_count": null
  },
  {
   "metadata": {},
   "cell_type": "code",
   "source": [
    "# Calculate cost of routes\n",
    "original_routes_cost = calculate_route_cost(active_arcs, cost_matrix)\n",
    "\n",
    "# Print detailed route cost information\n",
    "print(\"Number of routes:\", len(active_arcs))\n",
    "print(\"Total route cost:\", original_routes_cost)"
   ],
   "id": "8dd5d66f4b7fc4cb",
   "outputs": [],
   "execution_count": null
  },
  {
   "metadata": {},
   "cell_type": "code",
   "source": [
    "# Flatten the list of arcs\n",
    "\n",
    "flattened_arcs = [arc for route in active_arcs for arc in route]\n",
    "\n",
    "flattened_arcs"
   ],
   "id": "789f2302c1a46703",
   "outputs": [],
   "execution_count": null
  },
  {
   "metadata": {},
   "cell_type": "code",
   "source": [
    "# Convert the list of active arcs to a DataFrame\n",
    "active_arcs_df = pd.DataFrame(flattened_arcs, columns=['From', 'To'])\n",
    "\n",
    "# Save the DataFrame to a CSV file\n",
    "active_arcs_df.to_csv('../routings/routing_closest_neighbor_2020_stage_1_Distance.csv', index=False)"
   ],
   "id": "3da709f207d4c5a7",
   "outputs": [],
   "execution_count": null
  }
 ],
 "metadata": {
  "kernelspec": {
   "name": "python3",
   "language": "python",
   "display_name": "Python 3 (ipykernel)"
  }
 },
 "nbformat": 5,
 "nbformat_minor": 9
}
